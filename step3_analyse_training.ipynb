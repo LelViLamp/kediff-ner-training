{
 "cells": [
  {
   "cell_type": "code",
   "execution_count": 1,
   "metadata": {
    "ExecuteTime": {
     "end_time": "2024-01-17T14:20:40.505177Z",
     "start_time": "2024-01-17T14:20:33.775660Z"
    }
   },
   "outputs": [],
   "source": [
    "import os\n",
    "\n",
    "from transformers import AutoModel, AutoTokenizer, pipeline"
   ]
  },
  {
   "cell_type": "code",
   "execution_count": 2,
   "metadata": {
    "ExecuteTime": {
     "end_time": "2024-01-17T14:20:40.579539Z",
     "start_time": "2024-01-17T14:20:40.512271Z"
    }
   },
   "outputs": [
    {
     "name": "stdout",
     "output_type": "stream",
     "text": [
      "You do not work on Colab\n",
      "DATA_DIR='data' --> /Users/lelvilamp/source/repos/lelvilamp/kediff-ner-training/data\n"
     ]
    }
   ],
   "source": [
    "try:\n",
    "    from google.colab import drive\n",
    "\n",
    "    print(\n",
    "        \"You work on Colab. Gentle as we are, we will mount Drive for you. \"\n",
    "        \"It'd help if you allowed this in the popup that opens.\"\n",
    "    )\n",
    "    drive.mount('/content/drive')\n",
    "    DATA_DIR = os.path.join('drive', 'MyDrive', 'KEDiff', 'data')\n",
    "except ModuleNotFoundError:\n",
    "    print(\"You do not work on Colab\")\n",
    "    DATA_DIR = os.path.join('data')\n",
    "print(f\"{DATA_DIR=}\", '-->', os.path.abspath(DATA_DIR))"
   ]
  },
  {
   "cell_type": "code",
   "execution_count": 3,
   "metadata": {
    "ExecuteTime": {
     "end_time": "2024-01-17T14:20:40.581022Z",
     "start_time": "2024-01-17T14:20:40.534225Z"
    }
   },
   "outputs": [],
   "source": [
    "TOKENISER_CHECKPOINT = \"dbmdz/bert-base-historic-multilingual-cased\"\n",
    "CHECKPOINT_NAME_BASE = \"oalz-1788-q1-ner-\"\n",
    "TRAINED_DIR = os.path.join(DATA_DIR, 'trained_models', '2024-01-15')"
   ]
  },
  {
   "cell_type": "code",
   "execution_count": 4,
   "metadata": {
    "ExecuteTime": {
     "end_time": "2024-01-17T14:20:41.761489Z",
     "start_time": "2024-01-17T14:20:40.546665Z"
    }
   },
   "outputs": [],
   "source": [
    "tokeniser = AutoTokenizer.from_pretrained(TOKENISER_CHECKPOINT)"
   ]
  },
  {
   "cell_type": "code",
   "execution_count": 5,
   "metadata": {
    "ExecuteTime": {
     "end_time": "2024-01-17T14:20:41.847820Z",
     "start_time": "2024-01-17T14:20:41.770290Z"
    }
   },
   "outputs": [
    {
     "data": {
      "text/plain": "{'id': 1003,\n 'text': 'Unter die Gegenden, die den Borkenkäfer nähren S. 13 — 14. gehört leider auch das Erzstift Salzburg.',\n 'label': [[82, 99, 'ORG'], [82, 99, 'LOC'], [28, 39, 'MISC']]}"
     },
     "execution_count": 5,
     "metadata": {},
     "output_type": "execute_result"
    }
   ],
   "source": [
    "sample = {\n",
    "    \"id\": 1003,\n",
    "    \"text\": \"Unter die Gegenden, die den Borkenk\\u00e4fer n\\u00e4hren S. 13 \\u2014 14. geh\\u00f6rt leider auch das Erzstift Salzburg.\",\n",
    "    \"label\": [[82, 99, \"ORG\"], [82, 99, \"LOC\"], [28, 39, \"MISC\"]]\n",
    "}\n",
    "sample"
   ]
  },
  {
   "cell_type": "code",
   "execution_count": 6,
   "metadata": {
    "ExecuteTime": {
     "end_time": "2024-01-17T14:20:41.851698Z",
     "start_time": "2024-01-17T14:20:41.796795Z"
    }
   },
   "outputs": [
    {
     "data": {
      "text/plain": "{'input_ids': [2, 2558, 788, 25854, 668, 16, 788, 767, 3383, 1199, 1176, 1582, 3835, 2221, 55, 18, 1097, 338, 1136, 18, 16130, 24914, 1532, 1190, 7840, 14369, 18843, 18, 3], 'token_type_ids': [0, 0, 0, 0, 0, 0, 0, 0, 0, 0, 0, 0, 0, 0, 0, 0, 0, 0, 0, 0, 0, 0, 0, 0, 0, 0, 0, 0, 0], 'attention_mask': [1, 1, 1, 1, 1, 1, 1, 1, 1, 1, 1, 1, 1, 1, 1, 1, 1, 1, 1, 1, 1, 1, 1, 1, 1, 1, 1, 1, 1]}"
     },
     "execution_count": 6,
     "metadata": {},
     "output_type": "execute_result"
    }
   ],
   "source": [
    "x = tokeniser(sample['text'])\n",
    "x"
   ]
  },
  {
   "cell_type": "code",
   "execution_count": 6,
   "metadata": {
    "ExecuteTime": {
     "end_time": "2024-01-17T14:20:41.920104Z",
     "start_time": "2024-01-17T14:20:41.811347Z"
    }
   },
   "outputs": [],
   "source": []
  },
  {
   "cell_type": "code",
   "execution_count": 6,
   "metadata": {
    "ExecuteTime": {
     "end_time": "2024-01-17T14:20:41.921442Z",
     "start_time": "2024-01-17T14:20:41.822060Z"
    }
   },
   "outputs": [],
   "source": []
  },
  {
   "cell_type": "code",
   "execution_count": 7,
   "metadata": {
    "ExecuteTime": {
     "end_time": "2024-01-17T14:20:41.922471Z",
     "start_time": "2024-01-17T14:20:41.835933Z"
    }
   },
   "outputs": [],
   "source": [
    "sample_texts = [\n",
    "    \"(Das hei\\u00dft ab ovo anfangen, wie's jener that, der vom deutschen Gleichgewichte handeln wollte, und von Adam anfieng.)\",\n",
    "    \"Daniel Göller ist der beste Masterstudent Christian Borgelts und sollte eine Ehrenmedaille… medallje… medallie… wie schreibt man das????… sowie eine saftige Sonderzahlung von Herrn Prof. Lehnert, Rektor der Universität zu Salzburg, erhalten, sodass er endlich nach Island reisen und dort in einer Kirche zu Gott beten kann.\",\n",
    "    \"Nun ist die Frage, ob das Modell auch mit Frauennamen umgehen kann, da beim Lesen der Originaltexte ein deutlicher Bias zu Männernamen aufgefallen ist. Und wie es dann wohl mit geschlechtsneutralen Namen aussieht?\",\n",
    "    \"Bundeskanzlerin Brigitte Bierlein führte bis zur Angelobung der Bundesregierung Kurz II nach der vorgezogenen Nationalratswahl im Herbst 2019 die Amtsgeschäfte der Bundesministerien weiter. Vielleicht kennt sie ja auch Angela Merkel?\",\n",
    "    \"Test in Salzburg während der Österreichsichen Aufklärung. In Paris wurden mehrere Menschen aus Deutschland gesichtet.\",\n",
    "    \"den meisten Lesern durch eine ausführliche Beschreibung und Beurtheilung des Wirtembergischen, im katholischen Deutschlande noch immer nicht genug belannten Gesangbuches, einen Gefallen zu erzeigen.\"\n",
    "]"
   ]
  },
  {
   "cell_type": "code",
   "execution_count": 8,
   "metadata": {
    "ExecuteTime": {
     "end_time": "2024-01-17T14:20:41.938918Z",
     "start_time": "2024-01-17T14:20:41.860333Z"
    }
   },
   "outputs": [
    {
     "data": {
      "text/plain": "{'EVENT': 'data/trained_models/2024-01-15/oalz-1788-q1-ner-EVENT',\n 'LOC': 'data/trained_models/2024-01-15/oalz-1788-q1-ner-LOC',\n 'MISC': 'data/trained_models/2024-01-15/oalz-1788-q1-ner-MISC',\n 'ORG': 'data/trained_models/2024-01-15/oalz-1788-q1-ner-ORG',\n 'PER': 'data/trained_models/2024-01-15/oalz-1788-q1-ner-PER',\n 'TIME': 'data/trained_models/2024-01-15/oalz-1788-q1-ner-TIME'}"
     },
     "execution_count": 8,
     "metadata": {},
     "output_type": "execute_result"
    }
   ],
   "source": [
    "label_types = [\"EVENT\", \"LOC\", \"MISC\", \"ORG\", \"PER\", \"TIME\"]\n",
    "ner_model_paths = {\n",
    "    label_type: os.path.join(TRAINED_DIR,\n",
    "                             \"\".join([CHECKPOINT_NAME_BASE, label_type]))\n",
    "    for label_type in label_types\n",
    "}\n",
    "ner_model_paths"
   ]
  },
  {
   "cell_type": "code",
   "execution_count": 9,
   "metadata": {
    "ExecuteTime": {
     "end_time": "2024-01-17T14:21:07.404398Z",
     "start_time": "2024-01-17T14:20:41.874644Z"
    }
   },
   "outputs": [],
   "source": [
    "token_classifiers = {\n",
    "    label_type : pipeline(\"token-classification\",\n",
    "                          model=ner_model_paths[label_type],\n",
    "                          aggregation_strategy=\"simple\")\n",
    "    for label_type in label_types\n",
    "}"
   ]
  },
  {
   "cell_type": "code",
   "execution_count": 10,
   "metadata": {
    "ExecuteTime": {
     "end_time": "2024-01-17T14:21:07.405895Z",
     "start_time": "2024-01-17T14:21:07.350988Z"
    }
   },
   "outputs": [],
   "source": [
    "def recognise_entites(text: str):\n",
    "    found_annotations = {\n",
    "        label_type : token_classifiers[label_type](text)\n",
    "        for label_type in label_types\n",
    "    }\n",
    "    return found_annotations"
   ]
  },
  {
   "cell_type": "code",
   "outputs": [
    {
     "data": {
      "text/plain": "{'EVENT': [],\n 'LOC': [{'entity_group': 'LOC',\n   'score': 0.54463434,\n   'word': 'deutschen',\n   'start': 54,\n   'end': 63}],\n 'MISC': [],\n 'ORG': [],\n 'PER': [{'entity_group': 'PER',\n   'score': 0.99405813,\n   'word': 'Adam',\n   'start': 103,\n   'end': 107}],\n 'TIME': []}"
     },
     "execution_count": 11,
     "metadata": {},
     "output_type": "execute_result"
    }
   ],
   "source": [
    "entities = recognise_entites(sample_texts[0])\n",
    "entities"
   ],
   "metadata": {
    "collapsed": false,
    "ExecuteTime": {
     "end_time": "2024-01-17T14:21:13.432179Z",
     "start_time": "2024-01-17T14:21:07.391007Z"
    }
   },
   "execution_count": 11
  },
  {
   "cell_type": "code",
   "outputs": [
    {
     "data": {
      "text/plain": "{'EVENT': [],\n 'LOC': [{'entity_group': 'LOC',\n   'score': 0.8783608,\n   'word': 'Universität zu Salzburg',\n   'start': 207,\n   'end': 230},\n  {'entity_group': 'LOC',\n   'score': 0.9809841,\n   'word': 'Island',\n   'start': 265,\n   'end': 271}],\n 'MISC': [],\n 'ORG': [{'entity_group': 'ORG',\n   'score': 0.99762946,\n   'word': 'Universität zu Salzburg',\n   'start': 207,\n   'end': 230},\n  {'entity_group': 'ORG',\n   'score': 0.8928386,\n   'word': 'Kirche',\n   'start': 297,\n   'end': 303}],\n 'PER': [{'entity_group': 'PER',\n   'score': 0.9990125,\n   'word': 'Daniel Göller',\n   'start': 0,\n   'end': 13},\n  {'entity_group': 'PER',\n   'score': 0.99477756,\n   'word': 'Christian Borgelts',\n   'start': 42,\n   'end': 60},\n  {'entity_group': 'PER',\n   'score': 0.9557042,\n   'word': 'Herrn Prof. Lehnert,',\n   'start': 175,\n   'end': 195},\n  {'entity_group': 'PER',\n   'score': 0.58198327,\n   'word': '##ktor',\n   'start': 198,\n   'end': 202},\n  {'entity_group': 'PER',\n   'score': 0.66209435,\n   'word': 'Gott',\n   'start': 307,\n   'end': 311}],\n 'TIME': []}"
     },
     "execution_count": 12,
     "metadata": {},
     "output_type": "execute_result"
    }
   ],
   "source": [
    "text = sample_texts[1]\n",
    "entities_dict = recognise_entites(text)\n",
    "entities_dict"
   ],
   "metadata": {
    "collapsed": false,
    "ExecuteTime": {
     "end_time": "2024-01-17T14:21:23.877304Z",
     "start_time": "2024-01-17T14:21:13.418917Z"
    }
   },
   "execution_count": 12
  },
  {
   "cell_type": "code",
   "outputs": [],
   "source": [
    "def entities_dict_to_list(entities_dict):\n",
    "    entities_list = []\n",
    "    for label_type in entities_dict:\n",
    "        entities_list += entities_dict[label_type]\n",
    "    return entities_list"
   ],
   "metadata": {
    "collapsed": false,
    "ExecuteTime": {
     "end_time": "2024-01-17T14:21:24.247267Z",
     "start_time": "2024-01-17T14:21:23.817419Z"
    }
   },
   "execution_count": 13
  },
  {
   "cell_type": "code",
   "outputs": [
    {
     "data": {
      "text/plain": "[{'entity_group': 'LOC',\n  'score': 0.8783608,\n  'word': 'Universität zu Salzburg',\n  'start': 207,\n  'end': 230},\n {'entity_group': 'LOC',\n  'score': 0.9809841,\n  'word': 'Island',\n  'start': 265,\n  'end': 271},\n {'entity_group': 'ORG',\n  'score': 0.99762946,\n  'word': 'Universität zu Salzburg',\n  'start': 207,\n  'end': 230},\n {'entity_group': 'ORG',\n  'score': 0.8928386,\n  'word': 'Kirche',\n  'start': 297,\n  'end': 303},\n {'entity_group': 'PER',\n  'score': 0.9990125,\n  'word': 'Daniel Göller',\n  'start': 0,\n  'end': 13},\n {'entity_group': 'PER',\n  'score': 0.99477756,\n  'word': 'Christian Borgelts',\n  'start': 42,\n  'end': 60},\n {'entity_group': 'PER',\n  'score': 0.9557042,\n  'word': 'Herrn Prof. Lehnert,',\n  'start': 175,\n  'end': 195},\n {'entity_group': 'PER',\n  'score': 0.58198327,\n  'word': '##ktor',\n  'start': 198,\n  'end': 202},\n {'entity_group': 'PER',\n  'score': 0.66209435,\n  'word': 'Gott',\n  'start': 307,\n  'end': 311}]"
     },
     "execution_count": 14,
     "metadata": {},
     "output_type": "execute_result"
    }
   ],
   "source": [
    "entities_list = entities_dict_to_list(entities_dict)\n",
    "entities_list"
   ],
   "metadata": {
    "collapsed": false,
    "ExecuteTime": {
     "end_time": "2024-01-17T14:21:24.291415Z",
     "start_time": "2024-01-17T14:21:23.818111Z"
    }
   },
   "execution_count": 14
  },
  {
   "cell_type": "code",
   "outputs": [],
   "source": [
    "def sort_entity_list(entities_list):\n",
    "    sorted_entities_list = sorted(entities_list, key=lambda d: (d['start'], d['entity_group']))\n",
    "    return sorted_entities_list"
   ],
   "metadata": {
    "collapsed": false,
    "ExecuteTime": {
     "end_time": "2024-01-17T14:21:24.294027Z",
     "start_time": "2024-01-17T14:21:23.818891Z"
    }
   },
   "execution_count": 15
  },
  {
   "cell_type": "code",
   "outputs": [
    {
     "data": {
      "text/plain": "[{'entity_group': 'PER',\n  'score': 0.9990125,\n  'word': 'Daniel Göller',\n  'start': 0,\n  'end': 13},\n {'entity_group': 'PER',\n  'score': 0.99477756,\n  'word': 'Christian Borgelts',\n  'start': 42,\n  'end': 60},\n {'entity_group': 'PER',\n  'score': 0.9557042,\n  'word': 'Herrn Prof. Lehnert,',\n  'start': 175,\n  'end': 195},\n {'entity_group': 'PER',\n  'score': 0.58198327,\n  'word': '##ktor',\n  'start': 198,\n  'end': 202},\n {'entity_group': 'LOC',\n  'score': 0.8783608,\n  'word': 'Universität zu Salzburg',\n  'start': 207,\n  'end': 230},\n {'entity_group': 'ORG',\n  'score': 0.99762946,\n  'word': 'Universität zu Salzburg',\n  'start': 207,\n  'end': 230},\n {'entity_group': 'LOC',\n  'score': 0.9809841,\n  'word': 'Island',\n  'start': 265,\n  'end': 271},\n {'entity_group': 'ORG',\n  'score': 0.8928386,\n  'word': 'Kirche',\n  'start': 297,\n  'end': 303},\n {'entity_group': 'PER',\n  'score': 0.66209435,\n  'word': 'Gott',\n  'start': 307,\n  'end': 311}]"
     },
     "execution_count": 16,
     "metadata": {},
     "output_type": "execute_result"
    }
   ],
   "source": [
    "sorted_entities_list = sort_entity_list(entities_list)\n",
    "sorted_entities_list"
   ],
   "metadata": {
    "collapsed": false,
    "ExecuteTime": {
     "end_time": "2024-01-17T14:21:24.297127Z",
     "start_time": "2024-01-17T14:21:23.819401Z"
    }
   },
   "execution_count": 16
  },
  {
   "cell_type": "code",
   "outputs": [],
   "source": [
    "def ner(text: str):\n",
    "    entity_dict = recognise_entites(text)\n",
    "    entity_list = entities_dict_to_list(entity_dict)\n",
    "    sorted_entity_list = sort_entity_list(entity_list)\n",
    "    return sorted_entity_list"
   ],
   "metadata": {
    "collapsed": false,
    "ExecuteTime": {
     "end_time": "2024-01-17T14:21:24.325302Z",
     "start_time": "2024-01-17T14:21:23.819794Z"
    }
   },
   "execution_count": 17
  },
  {
   "cell_type": "code",
   "outputs": [
    {
     "data": {
      "text/plain": "[[{'entity_group': 'LOC',\n   'score': 0.54463434,\n   'word': 'deutschen',\n   'start': 54,\n   'end': 63},\n  {'entity_group': 'PER',\n   'score': 0.99405813,\n   'word': 'Adam',\n   'start': 103,\n   'end': 107}],\n [{'entity_group': 'PER',\n   'score': 0.9990125,\n   'word': 'Daniel Göller',\n   'start': 0,\n   'end': 13},\n  {'entity_group': 'PER',\n   'score': 0.99477756,\n   'word': 'Christian Borgelts',\n   'start': 42,\n   'end': 60},\n  {'entity_group': 'PER',\n   'score': 0.9557042,\n   'word': 'Herrn Prof. Lehnert,',\n   'start': 175,\n   'end': 195},\n  {'entity_group': 'PER',\n   'score': 0.58198327,\n   'word': '##ktor',\n   'start': 198,\n   'end': 202},\n  {'entity_group': 'LOC',\n   'score': 0.8783608,\n   'word': 'Universität zu Salzburg',\n   'start': 207,\n   'end': 230},\n  {'entity_group': 'ORG',\n   'score': 0.99762946,\n   'word': 'Universität zu Salzburg',\n   'start': 207,\n   'end': 230},\n  {'entity_group': 'LOC',\n   'score': 0.9809841,\n   'word': 'Island',\n   'start': 265,\n   'end': 271},\n  {'entity_group': 'ORG',\n   'score': 0.8928386,\n   'word': 'Kirche',\n   'start': 297,\n   'end': 303},\n  {'entity_group': 'PER',\n   'score': 0.66209435,\n   'word': 'Gott',\n   'start': 307,\n   'end': 311}],\n [],\n [{'entity_group': 'PER',\n   'score': 0.99908626,\n   'word': 'Bundeskanzlerin Brigitte Bierlein',\n   'start': 0,\n   'end': 33},\n  {'entity_group': 'ORG',\n   'score': 0.6575064,\n   'word': 'Bundesregierung',\n   'start': 64,\n   'end': 79},\n  {'entity_group': 'TIME',\n   'score': 0.95785123,\n   'word': 'Herbst 2019',\n   'start': 130,\n   'end': 141},\n  {'entity_group': 'ORG',\n   'score': 0.75869447,\n   'word': 'Bundesministerien',\n   'start': 164,\n   'end': 181},\n  {'entity_group': 'PER',\n   'score': 0.9991367,\n   'word': 'Angela Merkel',\n   'start': 219,\n   'end': 232}],\n [{'entity_group': 'LOC',\n   'score': 0.758805,\n   'word': 'Test',\n   'start': 0,\n   'end': 4},\n  {'entity_group': 'LOC',\n   'score': 0.99533135,\n   'word': 'Salzburg',\n   'start': 8,\n   'end': 16},\n  {'entity_group': 'LOC',\n   'score': 0.99837524,\n   'word': 'Österreichsichen',\n   'start': 29,\n   'end': 45},\n  {'entity_group': 'MISC',\n   'score': 0.9869673,\n   'word': 'Österreichsichen Aufklärung',\n   'start': 29,\n   'end': 56},\n  {'entity_group': 'LOC',\n   'score': 0.9976422,\n   'word': 'Paris',\n   'start': 61,\n   'end': 66},\n  {'entity_group': 'LOC',\n   'score': 0.9887011,\n   'word': 'Deutschland',\n   'start': 95,\n   'end': 106}],\n [{'entity_group': 'LOC',\n   'score': 0.99848616,\n   'word': 'Wirtembergischen',\n   'start': 77,\n   'end': 93},\n  {'entity_group': 'MISC',\n   'score': 0.9852788,\n   'word': 'Wirtembergischen, im katholischen Deutschlande',\n   'start': 77,\n   'end': 123},\n  {'entity_group': 'LOC',\n   'score': 0.99742633,\n   'word': 'katholischen Deutschlande',\n   'start': 98,\n   'end': 123},\n  {'entity_group': 'MISC',\n   'score': 0.99079067,\n   'word': '##annten Gesangbuches',\n   'start': 150,\n   'end': 169}]]"
     },
     "execution_count": 18,
     "metadata": {},
     "output_type": "execute_result"
    }
   ],
   "source": [
    "entities = [ner(text) for text in sample_texts]\n",
    "entities"
   ],
   "metadata": {
    "collapsed": false,
    "ExecuteTime": {
     "end_time": "2024-01-17T14:21:34.963659Z",
     "start_time": "2024-01-17T14:21:23.820337Z"
    }
   },
   "execution_count": 18
  },
  {
   "cell_type": "code",
   "outputs": [
    {
     "name": "stdout",
     "output_type": "stream",
     "text": [
      "Daniel Göller ist der beste Masterstudent Christian Borgelts und sollte eine Ehrenmedaille… medallje… medallie… wie schreibt man das????… sowie eine saftige Sonderzahlung von Herrn Prof. Lehnert, Rektor der Universität zu Salzburg, erhalten, sodass er endlich nach Island reisen und dort in einer Kirche zu Gott beten kann.\n"
     ]
    },
    {
     "data": {
      "text/plain": "[{'entity_group': 'PER',\n  'score': 0.9990125,\n  'word': 'Daniel Göller',\n  'start': 0,\n  'end': 13},\n {'entity_group': 'PER',\n  'score': 0.99477756,\n  'word': 'Christian Borgelts',\n  'start': 42,\n  'end': 60},\n {'entity_group': 'PER',\n  'score': 0.9557042,\n  'word': 'Herrn Prof. Lehnert,',\n  'start': 175,\n  'end': 195},\n {'entity_group': 'PER',\n  'score': 0.58198327,\n  'word': '##ktor',\n  'start': 198,\n  'end': 202},\n {'entity_group': 'LOC',\n  'score': 0.8783608,\n  'word': 'Universität zu Salzburg',\n  'start': 207,\n  'end': 230},\n {'entity_group': 'ORG',\n  'score': 0.99762946,\n  'word': 'Universität zu Salzburg',\n  'start': 207,\n  'end': 230},\n {'entity_group': 'LOC',\n  'score': 0.9809841,\n  'word': 'Island',\n  'start': 265,\n  'end': 271},\n {'entity_group': 'ORG',\n  'score': 0.8928386,\n  'word': 'Kirche',\n  'start': 297,\n  'end': 303},\n {'entity_group': 'PER',\n  'score': 0.66209435,\n  'word': 'Gott',\n  'start': 307,\n  'end': 311}]"
     },
     "execution_count": 32,
     "metadata": {},
     "output_type": "execute_result"
    }
   ],
   "source": [
    "i = 1\n",
    "print(sample_texts[i])\n",
    "print(\"\")\n",
    "entities[i]"
   ],
   "metadata": {
    "collapsed": false,
    "ExecuteTime": {
     "end_time": "2024-01-17T14:24:52.586639Z",
     "start_time": "2024-01-17T14:24:52.539824Z"
    }
   },
   "execution_count": 32
  },
  {
   "cell_type": "code",
   "outputs": [],
   "source": [],
   "metadata": {
    "collapsed": false
   }
  }
 ],
 "metadata": {
  "kernelspec": {
   "display_name": "kediff",
   "language": "python",
   "name": "python3"
  },
  "language_info": {
   "codemirror_mode": {
    "name": "ipython",
    "version": 3
   },
   "file_extension": ".py",
   "mimetype": "text/x-python",
   "name": "python",
   "nbconvert_exporter": "python",
   "pygments_lexer": "ipython3",
   "version": "3.9.16"
  }
 },
 "nbformat": 4,
 "nbformat_minor": 2
}
