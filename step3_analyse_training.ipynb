{
  "cells": [
    {
      "cell_type": "code",
      "execution_count": 1,
      "metadata": {
        "ExecuteTime": {
          "end_time": "2024-01-17T14:20:40.505177Z",
          "start_time": "2024-01-17T14:20:33.775660Z"
        },
        "id": "NAi-XWD5FBo0"
      },
      "outputs": [],
      "source": [
        "import os\n",
        "\n",
        "import tabulate\n",
        "from tqdm import tqdm\n",
        "from transformers import AutoModel, AutoTokenizer, pipeline"
      ]
    },
    {
      "cell_type": "code",
      "execution_count": 2,
      "metadata": {
        "ExecuteTime": {
          "end_time": "2024-01-17T14:20:40.579539Z",
          "start_time": "2024-01-17T14:20:40.512271Z"
        },
        "colab": {
          "base_uri": "https://localhost:8080/"
        },
        "id": "OEr0F9QJFBpA",
        "outputId": "3b163fc9-3768-48d8-a8c3-e787bdc98c42"
      },
      "outputs": [
        {
          "output_type": "stream",
          "name": "stdout",
          "text": [
            "You work on Colab. Gentle as we are, we will mount Drive for you. It'd help if you allowed this in the popup that opens.\n",
            "Drive already mounted at /content/drive; to attempt to forcibly remount, call drive.mount(\"/content/drive\", force_remount=True).\n",
            "DATA_DIR='drive/MyDrive/KEDiff/data' --> /content/drive/MyDrive/KEDiff/data\n"
          ]
        }
      ],
      "source": [
        "try:\n",
        "    from google.colab import drive\n",
        "\n",
        "    print(\n",
        "        \"You work on Colab. Gentle as we are, we will mount Drive for you. \"\n",
        "        \"It'd help if you allowed this in the popup that opens.\"\n",
        "    )\n",
        "    drive.mount('/content/drive')\n",
        "    DATA_DIR = os.path.join('drive', 'MyDrive', 'KEDiff', 'data')\n",
        "except ModuleNotFoundError:\n",
        "    print(\"You do not work on Colab\")\n",
        "    DATA_DIR = os.path.join('data')\n",
        "print(f\"{DATA_DIR=}\", '-->', os.path.abspath(DATA_DIR))"
      ]
    },
    {
      "cell_type": "code",
      "execution_count": 3,
      "metadata": {
        "ExecuteTime": {
          "end_time": "2024-01-17T14:20:40.581022Z",
          "start_time": "2024-01-17T14:20:40.534225Z"
        },
        "id": "1UFU---IFBpG"
      },
      "outputs": [],
      "source": [
        "TOKENISER_CHECKPOINT = \"dbmdz/bert-base-historic-multilingual-cased\"\n",
        "CHECKPOINT_NAME_BASE = \"oalz-1788-q1-ner-\"\n",
        "TRAINED_DIR = os.path.join(DATA_DIR, 'trained_models', '2024-01-15')"
      ]
    },
    {
      "cell_type": "code",
      "execution_count": 4,
      "metadata": {
        "ExecuteTime": {
          "end_time": "2024-01-17T14:20:41.761489Z",
          "start_time": "2024-01-17T14:20:40.546665Z"
        },
        "colab": {
          "base_uri": "https://localhost:8080/"
        },
        "id": "H3wsol8BFBpH",
        "outputId": "4175f6d9-e99f-4c80-e240-548f64361831"
      },
      "outputs": [
        {
          "output_type": "stream",
          "name": "stderr",
          "text": [
            "/usr/local/lib/python3.10/dist-packages/huggingface_hub/utils/_token.py:88: UserWarning: \n",
            "The secret `HF_TOKEN` does not exist in your Colab secrets.\n",
            "To authenticate with the Hugging Face Hub, create a token in your settings tab (https://huggingface.co/settings/tokens), set it as secret in your Google Colab and restart your session.\n",
            "You will be able to reuse this secret in all of your notebooks.\n",
            "Please note that authentication is recommended but still optional to access public models or datasets.\n",
            "  warnings.warn(\n"
          ]
        }
      ],
      "source": [
        "tokeniser = AutoTokenizer.from_pretrained(TOKENISER_CHECKPOINT)"
      ]
    },
    {
      "cell_type": "code",
      "execution_count": 5,
      "metadata": {
        "ExecuteTime": {
          "end_time": "2024-01-17T14:20:41.847820Z",
          "start_time": "2024-01-17T14:20:41.770290Z"
        },
        "colab": {
          "base_uri": "https://localhost:8080/"
        },
        "id": "_FVFQi1qFBpI",
        "outputId": "f4ce9903-95aa-47f8-858b-668be7933ee5"
      },
      "outputs": [
        {
          "output_type": "execute_result",
          "data": {
            "text/plain": [
              "{'id': 1003,\n",
              " 'text': 'Unter die Gegenden, die den Borkenkäfer nähren S. 13 — 14. gehört leider auch das Erzstift Salzburg.',\n",
              " 'label': [[82, 99, 'ORG'], [82, 99, 'LOC'], [28, 39, 'MISC']]}"
            ]
          },
          "metadata": {},
          "execution_count": 5
        }
      ],
      "source": [
        "sample = {\n",
        "    \"id\": 1003,\n",
        "    \"text\": \"Unter die Gegenden, die den Borkenk\\u00e4fer n\\u00e4hren S. 13 \\u2014 14. geh\\u00f6rt leider auch das Erzstift Salzburg.\",\n",
        "    \"label\": [[82, 99, \"ORG\"], [82, 99, \"LOC\"], [28, 39, \"MISC\"]]\n",
        "}\n",
        "sample"
      ]
    },
    {
      "cell_type": "code",
      "execution_count": 6,
      "metadata": {
        "ExecuteTime": {
          "end_time": "2024-01-17T14:20:41.851698Z",
          "start_time": "2024-01-17T14:20:41.796795Z"
        },
        "colab": {
          "base_uri": "https://localhost:8080/"
        },
        "id": "erdaw3lVFBpL",
        "outputId": "78b81d74-2f35-4d4c-b444-a8ed22c7bffe"
      },
      "outputs": [
        {
          "output_type": "execute_result",
          "data": {
            "text/plain": [
              "{'input_ids': [2, 2558, 788, 25854, 668, 16, 788, 767, 3383, 1199, 1176, 1582, 3835, 2221, 55, 18, 1097, 338, 1136, 18, 16130, 24914, 1532, 1190, 7840, 14369, 18843, 18, 3], 'token_type_ids': [0, 0, 0, 0, 0, 0, 0, 0, 0, 0, 0, 0, 0, 0, 0, 0, 0, 0, 0, 0, 0, 0, 0, 0, 0, 0, 0, 0, 0], 'attention_mask': [1, 1, 1, 1, 1, 1, 1, 1, 1, 1, 1, 1, 1, 1, 1, 1, 1, 1, 1, 1, 1, 1, 1, 1, 1, 1, 1, 1, 1]}"
            ]
          },
          "metadata": {},
          "execution_count": 6
        }
      ],
      "source": [
        "x = tokeniser(sample['text'])\n",
        "x"
      ]
    },
    {
      "cell_type": "code",
      "execution_count": 7,
      "metadata": {
        "ExecuteTime": {
          "end_time": "2024-01-17T14:20:41.922471Z",
          "start_time": "2024-01-17T14:20:41.835933Z"
        },
        "id": "LXjBdPexFBpN"
      },
      "outputs": [],
      "source": [
        "sample_texts = [\n",
        "    \"(Das hei\\u00dft ab ovo anfangen, wie's jener that, der vom deutschen Gleichgewichte handeln wollte, und von Adam anfieng.)\",\n",
        "    \"Daniel Göller ist der beste Masterstudent Christian Borgelts und sollte eine Ehrenmedaille… medallje… medallie… wie schreibt man das????… sowie eine saftige Sonderzahlung von Herrn Prof. Lehnert, Rektor der Universität zu Salzburg, erhalten, sodass er endlich nach Island reisen und dort in einer Kirche zu Gott beten kann.\",\n",
        "    \"Nun ist die Frage, ob das Modell auch mit Frauennamen umgehen kann, da beim Lesen der Originaltexte ein deutlicher Bias zu Männernamen aufgefallen ist. Und wie es dann wohl mit geschlechtsneutralen Namen aussieht?\",\n",
        "    \"Bundeskanzlerin Brigitte Bierlein führte bis zur Angelobung der Bundesregierung Kurz II nach der vorgezogenen Nationalratswahl im Herbst 2019 die Amtsgeschäfte der Bundesministerien weiter. Vielleicht kennt sie ja auch Angela Merkel?\",\n",
        "    \"Test in Salzburg während der Österreichsichen Aufklärung. In Paris wurden mehrere Menschen aus Deutschland gesichtet.\",\n",
        "    \"den meisten Lesern durch eine ausführliche Beschreibung und Beurtheilung des Wirtembergischen, im katholischen Deutschlande noch immer nicht genug belannten Gesangbuches, einen Gefallen zu erzeigen.\"\n",
        "]"
      ]
    },
    {
      "cell_type": "code",
      "execution_count": 8,
      "metadata": {
        "ExecuteTime": {
          "end_time": "2024-01-17T14:20:41.938918Z",
          "start_time": "2024-01-17T14:20:41.860333Z"
        },
        "colab": {
          "base_uri": "https://localhost:8080/"
        },
        "id": "p1MuiHFwFBpO",
        "outputId": "87996dbd-8517-408e-d170-4615fb89e890"
      },
      "outputs": [
        {
          "output_type": "execute_result",
          "data": {
            "text/plain": [
              "{'EVENT': 'drive/MyDrive/KEDiff/data/trained_models/2024-01-15/oalz-1788-q1-ner-EVENT',\n",
              " 'LOC': 'drive/MyDrive/KEDiff/data/trained_models/2024-01-15/oalz-1788-q1-ner-LOC',\n",
              " 'MISC': 'drive/MyDrive/KEDiff/data/trained_models/2024-01-15/oalz-1788-q1-ner-MISC',\n",
              " 'ORG': 'drive/MyDrive/KEDiff/data/trained_models/2024-01-15/oalz-1788-q1-ner-ORG',\n",
              " 'PER': 'drive/MyDrive/KEDiff/data/trained_models/2024-01-15/oalz-1788-q1-ner-PER',\n",
              " 'TIME': 'drive/MyDrive/KEDiff/data/trained_models/2024-01-15/oalz-1788-q1-ner-TIME'}"
            ]
          },
          "metadata": {},
          "execution_count": 8
        }
      ],
      "source": [
        "label_types = [\"EVENT\", \"LOC\", \"MISC\", \"ORG\", \"PER\", \"TIME\"]\n",
        "ner_model_paths = {\n",
        "    label_type: os.path.join(TRAINED_DIR,\n",
        "                             \"\".join([CHECKPOINT_NAME_BASE, label_type]))\n",
        "    for label_type in label_types\n",
        "}\n",
        "ner_model_paths"
      ]
    },
    {
      "cell_type": "code",
      "execution_count": 9,
      "metadata": {
        "ExecuteTime": {
          "end_time": "2024-01-17T14:21:07.404398Z",
          "start_time": "2024-01-17T14:20:41.874644Z"
        },
        "id": "lCNm-15bFBpP",
        "colab": {
          "base_uri": "https://localhost:8080/"
        },
        "outputId": "d93f8e18-5736-4a77-8dbd-8771d1a2eb6d"
      },
      "outputs": [
        {
          "output_type": "stream",
          "name": "stderr",
          "text": [
            "100%|██████████| 6/6 [00:19<00:00,  3.25s/it]\n"
          ]
        },
        {
          "output_type": "execute_result",
          "data": {
            "text/plain": [
              "['EVENT', 'LOC', 'MISC', 'ORG', 'PER', 'TIME']"
            ]
          },
          "metadata": {},
          "execution_count": 9
        }
      ],
      "source": [
        "token_classifiers = {}\n",
        "for label_type in tqdm(label_types):\n",
        "    token_classifiers[label_type] = pipeline(\n",
        "        \"token-classification\",\n",
        "        model=ner_model_paths[label_type],\n",
        "        aggregation_strategy=\"simple\"\n",
        "    )\n",
        "list(token_classifiers.keys())"
      ]
    },
    {
      "cell_type": "code",
      "execution_count": 10,
      "metadata": {
        "ExecuteTime": {
          "end_time": "2024-01-17T14:21:07.405895Z",
          "start_time": "2024-01-17T14:21:07.350988Z"
        },
        "id": "r5XtqymEFBpR"
      },
      "outputs": [],
      "source": [
        "def find_entities(text: str):\n",
        "    entities = {\n",
        "        label_type : token_classifiers[label_type](text)\n",
        "        for label_type in label_types\n",
        "    }\n",
        "    return entities"
      ]
    },
    {
      "cell_type": "code",
      "outputs": [
        {
          "output_type": "execute_result",
          "data": {
            "text/plain": [
              "{'EVENT': [],\n",
              " 'LOC': [{'entity_group': 'LOC',\n",
              "   'score': 0.54463327,\n",
              "   'word': 'deutschen',\n",
              "   'start': 54,\n",
              "   'end': 63}],\n",
              " 'MISC': [],\n",
              " 'ORG': [],\n",
              " 'PER': [{'entity_group': 'PER',\n",
              "   'score': 0.99405813,\n",
              "   'word': 'Adam',\n",
              "   'start': 103,\n",
              "   'end': 107}],\n",
              " 'TIME': []}"
            ]
          },
          "metadata": {},
          "execution_count": 11
        }
      ],
      "source": [
        "entities_dict = find_entities(sample_texts[0])\n",
        "entities_dict"
      ],
      "metadata": {
        "ExecuteTime": {
          "end_time": "2024-01-17T14:21:13.432179Z",
          "start_time": "2024-01-17T14:21:07.391007Z"
        },
        "colab": {
          "base_uri": "https://localhost:8080/"
        },
        "id": "PE810H8LFBpT",
        "outputId": "4caa5f40-b422-43cd-fcb6-aee867c6fd09"
      },
      "execution_count": 11
    },
    {
      "cell_type": "code",
      "outputs": [
        {
          "output_type": "execute_result",
          "data": {
            "text/plain": [
              "{'EVENT': [],\n",
              " 'LOC': [{'entity_group': 'LOC',\n",
              "   'score': 0.8783617,\n",
              "   'word': 'Universität zu Salzburg',\n",
              "   'start': 207,\n",
              "   'end': 230},\n",
              "  {'entity_group': 'LOC',\n",
              "   'score': 0.9809841,\n",
              "   'word': 'Island',\n",
              "   'start': 265,\n",
              "   'end': 271}],\n",
              " 'MISC': [],\n",
              " 'ORG': [{'entity_group': 'ORG',\n",
              "   'score': 0.99762946,\n",
              "   'word': 'Universität zu Salzburg',\n",
              "   'start': 207,\n",
              "   'end': 230},\n",
              "  {'entity_group': 'ORG',\n",
              "   'score': 0.8928384,\n",
              "   'word': 'Kirche',\n",
              "   'start': 297,\n",
              "   'end': 303}],\n",
              " 'PER': [{'entity_group': 'PER',\n",
              "   'score': 0.9990125,\n",
              "   'word': 'Daniel Göller',\n",
              "   'start': 0,\n",
              "   'end': 13},\n",
              "  {'entity_group': 'PER',\n",
              "   'score': 0.9947775,\n",
              "   'word': 'Christian Borgelts',\n",
              "   'start': 42,\n",
              "   'end': 60},\n",
              "  {'entity_group': 'PER',\n",
              "   'score': 0.9557042,\n",
              "   'word': 'Herrn Prof. Lehnert,',\n",
              "   'start': 175,\n",
              "   'end': 195},\n",
              "  {'entity_group': 'PER',\n",
              "   'score': 0.58198434,\n",
              "   'word': '##ktor',\n",
              "   'start': 198,\n",
              "   'end': 202},\n",
              "  {'entity_group': 'PER',\n",
              "   'score': 0.6620957,\n",
              "   'word': 'Gott',\n",
              "   'start': 307,\n",
              "   'end': 311}],\n",
              " 'TIME': []}"
            ]
          },
          "metadata": {},
          "execution_count": 12
        }
      ],
      "source": [
        "text = sample_texts[1]\n",
        "entities_dict = find_entities(text)\n",
        "entities_dict"
      ],
      "metadata": {
        "ExecuteTime": {
          "end_time": "2024-01-17T14:21:23.877304Z",
          "start_time": "2024-01-17T14:21:13.418917Z"
        },
        "colab": {
          "base_uri": "https://localhost:8080/"
        },
        "id": "UJpdW_xIFBpW",
        "outputId": "e63c2a24-3ea2-47e7-f177-a0e9eb656ec0"
      },
      "execution_count": 12
    },
    {
      "cell_type": "code",
      "outputs": [],
      "source": [
        "def entities_dict_to_list(entities_dict):\n",
        "    entities_list = []\n",
        "    for label_type in entities_dict:\n",
        "        entities_list += entities_dict[label_type]\n",
        "    return entities_list"
      ],
      "metadata": {
        "ExecuteTime": {
          "end_time": "2024-01-17T14:21:24.247267Z",
          "start_time": "2024-01-17T14:21:23.817419Z"
        },
        "id": "39-goJXQFBpX"
      },
      "execution_count": 13
    },
    {
      "cell_type": "code",
      "outputs": [
        {
          "output_type": "execute_result",
          "data": {
            "text/plain": [
              "[{'entity_group': 'LOC',\n",
              "  'score': 0.8783617,\n",
              "  'word': 'Universität zu Salzburg',\n",
              "  'start': 207,\n",
              "  'end': 230},\n",
              " {'entity_group': 'LOC',\n",
              "  'score': 0.9809841,\n",
              "  'word': 'Island',\n",
              "  'start': 265,\n",
              "  'end': 271},\n",
              " {'entity_group': 'ORG',\n",
              "  'score': 0.99762946,\n",
              "  'word': 'Universität zu Salzburg',\n",
              "  'start': 207,\n",
              "  'end': 230},\n",
              " {'entity_group': 'ORG',\n",
              "  'score': 0.8928384,\n",
              "  'word': 'Kirche',\n",
              "  'start': 297,\n",
              "  'end': 303},\n",
              " {'entity_group': 'PER',\n",
              "  'score': 0.9990125,\n",
              "  'word': 'Daniel Göller',\n",
              "  'start': 0,\n",
              "  'end': 13},\n",
              " {'entity_group': 'PER',\n",
              "  'score': 0.9947775,\n",
              "  'word': 'Christian Borgelts',\n",
              "  'start': 42,\n",
              "  'end': 60},\n",
              " {'entity_group': 'PER',\n",
              "  'score': 0.9557042,\n",
              "  'word': 'Herrn Prof. Lehnert,',\n",
              "  'start': 175,\n",
              "  'end': 195},\n",
              " {'entity_group': 'PER',\n",
              "  'score': 0.58198434,\n",
              "  'word': '##ktor',\n",
              "  'start': 198,\n",
              "  'end': 202},\n",
              " {'entity_group': 'PER',\n",
              "  'score': 0.6620957,\n",
              "  'word': 'Gott',\n",
              "  'start': 307,\n",
              "  'end': 311}]"
            ]
          },
          "metadata": {},
          "execution_count": 14
        }
      ],
      "source": [
        "entity_list = entities_dict_to_list(entities_dict)\n",
        "entity_list"
      ],
      "metadata": {
        "ExecuteTime": {
          "end_time": "2024-01-17T14:21:24.291415Z",
          "start_time": "2024-01-17T14:21:23.818111Z"
        },
        "colab": {
          "base_uri": "https://localhost:8080/"
        },
        "id": "LTi9dnS_FBpc",
        "outputId": "1340cc47-a226-4611-a2ec-e005ad0ccec7"
      },
      "execution_count": 14
    },
    {
      "cell_type": "code",
      "outputs": [],
      "source": [
        "def sort_entity_list(entity_list):\n",
        "    sorted_entity_list = sorted(entity_list, key=lambda d: (d['start'], d['score'], d['entity_group']))\n",
        "    return sorted_entity_list"
      ],
      "metadata": {
        "ExecuteTime": {
          "end_time": "2024-01-17T14:21:24.294027Z",
          "start_time": "2024-01-17T14:21:23.818891Z"
        },
        "id": "8ne78YYzFBpd"
      },
      "execution_count": 15
    },
    {
      "cell_type": "code",
      "outputs": [
        {
          "output_type": "execute_result",
          "data": {
            "text/plain": [
              "[{'entity_group': 'PER',\n",
              "  'score': 0.9990125,\n",
              "  'word': 'Daniel Göller',\n",
              "  'start': 0,\n",
              "  'end': 13},\n",
              " {'entity_group': 'PER',\n",
              "  'score': 0.9947775,\n",
              "  'word': 'Christian Borgelts',\n",
              "  'start': 42,\n",
              "  'end': 60},\n",
              " {'entity_group': 'PER',\n",
              "  'score': 0.9557042,\n",
              "  'word': 'Herrn Prof. Lehnert,',\n",
              "  'start': 175,\n",
              "  'end': 195},\n",
              " {'entity_group': 'PER',\n",
              "  'score': 0.58198434,\n",
              "  'word': '##ktor',\n",
              "  'start': 198,\n",
              "  'end': 202},\n",
              " {'entity_group': 'LOC',\n",
              "  'score': 0.8783617,\n",
              "  'word': 'Universität zu Salzburg',\n",
              "  'start': 207,\n",
              "  'end': 230},\n",
              " {'entity_group': 'ORG',\n",
              "  'score': 0.99762946,\n",
              "  'word': 'Universität zu Salzburg',\n",
              "  'start': 207,\n",
              "  'end': 230},\n",
              " {'entity_group': 'LOC',\n",
              "  'score': 0.9809841,\n",
              "  'word': 'Island',\n",
              "  'start': 265,\n",
              "  'end': 271},\n",
              " {'entity_group': 'ORG',\n",
              "  'score': 0.8928384,\n",
              "  'word': 'Kirche',\n",
              "  'start': 297,\n",
              "  'end': 303},\n",
              " {'entity_group': 'PER',\n",
              "  'score': 0.6620957,\n",
              "  'word': 'Gott',\n",
              "  'start': 307,\n",
              "  'end': 311}]"
            ]
          },
          "metadata": {},
          "execution_count": 16
        }
      ],
      "source": [
        "sorted_entity_list = sort_entity_list(entity_list)\n",
        "sorted_entity_list"
      ],
      "metadata": {
        "ExecuteTime": {
          "end_time": "2024-01-17T14:21:24.297127Z",
          "start_time": "2024-01-17T14:21:23.819401Z"
        },
        "colab": {
          "base_uri": "https://localhost:8080/"
        },
        "id": "BNtp98EOFBpd",
        "outputId": "a47b1f8d-6f78-4f88-ae71-edd947c55e9f"
      },
      "execution_count": 16
    },
    {
      "cell_type": "code",
      "source": [
        "def print_entities_as_table(entity_list, tablefmt: str = \"simple_outline\"):\n",
        "    if entity_list is None or len(entity_list) == 0:\n",
        "        print(\"No entities found\")\n",
        "        return\n",
        "    header = list(entity_list[0].keys())\n",
        "    header[0] = \"type\"\n",
        "    rows = [entity.values() for entity in entity_list]\n",
        "    print(tabulate.tabulate(rows, header, tablefmt=tablefmt))"
      ],
      "metadata": {
        "id": "zY5rgN4EPf7V"
      },
      "execution_count": 17,
      "outputs": []
    },
    {
      "cell_type": "code",
      "source": [
        "print_entities_as_table(sorted_entity_list)"
      ],
      "metadata": {
        "colab": {
          "base_uri": "https://localhost:8080/"
        },
        "id": "HEMUS47nPh3f",
        "outputId": "545daa30-27e7-4204-a7b5-ef1be777c572"
      },
      "execution_count": 18,
      "outputs": [
        {
          "output_type": "stream",
          "name": "stdout",
          "text": [
            "┌────────┬──────────┬─────────────────────────┬─────────┬───────┐\n",
            "│ type   │    score │ word                    │   start │   end │\n",
            "├────────┼──────────┼─────────────────────────┼─────────┼───────┤\n",
            "│ PER    │ 0.999012 │ Daniel Göller           │       0 │    13 │\n",
            "│ PER    │ 0.994778 │ Christian Borgelts      │      42 │    60 │\n",
            "│ PER    │ 0.955704 │ Herrn Prof. Lehnert,    │     175 │   195 │\n",
            "│ PER    │ 0.581984 │ ##ktor                  │     198 │   202 │\n",
            "│ LOC    │ 0.878362 │ Universität zu Salzburg │     207 │   230 │\n",
            "│ ORG    │ 0.997629 │ Universität zu Salzburg │     207 │   230 │\n",
            "│ LOC    │ 0.980984 │ Island                  │     265 │   271 │\n",
            "│ ORG    │ 0.892838 │ Kirche                  │     297 │   303 │\n",
            "│ PER    │ 0.662096 │ Gott                    │     307 │   311 │\n",
            "└────────┴──────────┴─────────────────────────┴─────────┴───────┘\n"
          ]
        }
      ]
    },
    {
      "cell_type": "code",
      "outputs": [],
      "source": [
        "def ner(text: str, print_table: bool = False):\n",
        "    entity_dict = find_entities(text)\n",
        "    entity_list = entities_dict_to_list(entity_dict)\n",
        "    sorted_entity_list = sort_entity_list(entity_list)\n",
        "    if print_table: print_entities_as_table(sorted_entity_list)\n",
        "    return sorted_entity_list"
      ],
      "metadata": {
        "ExecuteTime": {
          "end_time": "2024-01-17T14:21:24.325302Z",
          "start_time": "2024-01-17T14:21:23.819794Z"
        },
        "id": "Dsrb9RE5FBpf"
      },
      "execution_count": 19
    },
    {
      "cell_type": "code",
      "outputs": [
        {
          "output_type": "execute_result",
          "data": {
            "text/plain": [
              "[[{'entity_group': 'LOC',\n",
              "   'score': 0.54463327,\n",
              "   'word': 'deutschen',\n",
              "   'start': 54,\n",
              "   'end': 63},\n",
              "  {'entity_group': 'PER',\n",
              "   'score': 0.99405813,\n",
              "   'word': 'Adam',\n",
              "   'start': 103,\n",
              "   'end': 107}],\n",
              " [{'entity_group': 'PER',\n",
              "   'score': 0.9990125,\n",
              "   'word': 'Daniel Göller',\n",
              "   'start': 0,\n",
              "   'end': 13},\n",
              "  {'entity_group': 'PER',\n",
              "   'score': 0.9947775,\n",
              "   'word': 'Christian Borgelts',\n",
              "   'start': 42,\n",
              "   'end': 60},\n",
              "  {'entity_group': 'PER',\n",
              "   'score': 0.9557042,\n",
              "   'word': 'Herrn Prof. Lehnert,',\n",
              "   'start': 175,\n",
              "   'end': 195},\n",
              "  {'entity_group': 'PER',\n",
              "   'score': 0.58198434,\n",
              "   'word': '##ktor',\n",
              "   'start': 198,\n",
              "   'end': 202},\n",
              "  {'entity_group': 'LOC',\n",
              "   'score': 0.8783617,\n",
              "   'word': 'Universität zu Salzburg',\n",
              "   'start': 207,\n",
              "   'end': 230},\n",
              "  {'entity_group': 'ORG',\n",
              "   'score': 0.99762946,\n",
              "   'word': 'Universität zu Salzburg',\n",
              "   'start': 207,\n",
              "   'end': 230},\n",
              "  {'entity_group': 'LOC',\n",
              "   'score': 0.9809841,\n",
              "   'word': 'Island',\n",
              "   'start': 265,\n",
              "   'end': 271},\n",
              "  {'entity_group': 'ORG',\n",
              "   'score': 0.8928384,\n",
              "   'word': 'Kirche',\n",
              "   'start': 297,\n",
              "   'end': 303},\n",
              "  {'entity_group': 'PER',\n",
              "   'score': 0.6620957,\n",
              "   'word': 'Gott',\n",
              "   'start': 307,\n",
              "   'end': 311}],\n",
              " [],\n",
              " [{'entity_group': 'PER',\n",
              "   'score': 0.99908626,\n",
              "   'word': 'Bundeskanzlerin Brigitte Bierlein',\n",
              "   'start': 0,\n",
              "   'end': 33},\n",
              "  {'entity_group': 'ORG',\n",
              "   'score': 0.65750533,\n",
              "   'word': 'Bundesregierung',\n",
              "   'start': 64,\n",
              "   'end': 79},\n",
              "  {'entity_group': 'TIME',\n",
              "   'score': 0.95785123,\n",
              "   'word': 'Herbst 2019',\n",
              "   'start': 130,\n",
              "   'end': 141},\n",
              "  {'entity_group': 'ORG',\n",
              "   'score': 0.7586939,\n",
              "   'word': 'Bundesministerien',\n",
              "   'start': 164,\n",
              "   'end': 181},\n",
              "  {'entity_group': 'PER',\n",
              "   'score': 0.9991367,\n",
              "   'word': 'Angela Merkel',\n",
              "   'start': 219,\n",
              "   'end': 232}],\n",
              " [{'entity_group': 'LOC',\n",
              "   'score': 0.75880384,\n",
              "   'word': 'Test',\n",
              "   'start': 0,\n",
              "   'end': 4},\n",
              "  {'entity_group': 'LOC',\n",
              "   'score': 0.99533135,\n",
              "   'word': 'Salzburg',\n",
              "   'start': 8,\n",
              "   'end': 16},\n",
              "  {'entity_group': 'MISC',\n",
              "   'score': 0.9869674,\n",
              "   'word': 'Österreichsichen Aufklärung',\n",
              "   'start': 29,\n",
              "   'end': 56},\n",
              "  {'entity_group': 'LOC',\n",
              "   'score': 0.99837524,\n",
              "   'word': 'Österreichsichen',\n",
              "   'start': 29,\n",
              "   'end': 45},\n",
              "  {'entity_group': 'LOC',\n",
              "   'score': 0.9976422,\n",
              "   'word': 'Paris',\n",
              "   'start': 61,\n",
              "   'end': 66},\n",
              "  {'entity_group': 'LOC',\n",
              "   'score': 0.988701,\n",
              "   'word': 'Deutschland',\n",
              "   'start': 95,\n",
              "   'end': 106}],\n",
              " [{'entity_group': 'MISC',\n",
              "   'score': 0.98527884,\n",
              "   'word': 'Wirtembergischen, im katholischen Deutschlande',\n",
              "   'start': 77,\n",
              "   'end': 123},\n",
              "  {'entity_group': 'LOC',\n",
              "   'score': 0.99848616,\n",
              "   'word': 'Wirtembergischen',\n",
              "   'start': 77,\n",
              "   'end': 93},\n",
              "  {'entity_group': 'LOC',\n",
              "   'score': 0.99742633,\n",
              "   'word': 'katholischen Deutschlande',\n",
              "   'start': 98,\n",
              "   'end': 123},\n",
              "  {'entity_group': 'MISC',\n",
              "   'score': 0.99079067,\n",
              "   'word': '##annten Gesangbuches',\n",
              "   'start': 150,\n",
              "   'end': 169}]]"
            ]
          },
          "metadata": {},
          "execution_count": 20
        }
      ],
      "source": [
        "entities = [ner(text) for text in sample_texts]\n",
        "entities"
      ],
      "metadata": {
        "ExecuteTime": {
          "end_time": "2024-01-17T14:21:34.963659Z",
          "start_time": "2024-01-17T14:21:23.820337Z"
        },
        "colab": {
          "base_uri": "https://localhost:8080/"
        },
        "id": "Na8h2hXCFBpg",
        "outputId": "14e608f8-812e-4096-bc8b-ce76502f7de9"
      },
      "execution_count": 20
    },
    {
      "cell_type": "code",
      "outputs": [
        {
          "output_type": "stream",
          "name": "stdout",
          "text": [
            "Daniel Göller ist der beste Masterstudent Christian Borgelts und sollte eine Ehrenmedaille… medallje… medallie… wie schreibt man das????… sowie eine saftige Sonderzahlung von Herrn Prof. Lehnert, Rektor der Universität zu Salzburg, erhalten, sodass er endlich nach Island reisen und dort in einer Kirche zu Gott beten kann.\n",
            "\n",
            "┌────────┬──────────┬─────────────────────────┬─────────┬───────┐\n",
            "│ type   │    score │ word                    │   start │   end │\n",
            "├────────┼──────────┼─────────────────────────┼─────────┼───────┤\n",
            "│ PER    │ 0.999012 │ Daniel Göller           │       0 │    13 │\n",
            "│ PER    │ 0.994778 │ Christian Borgelts      │      42 │    60 │\n",
            "│ PER    │ 0.955704 │ Herrn Prof. Lehnert,    │     175 │   195 │\n",
            "│ PER    │ 0.581984 │ ##ktor                  │     198 │   202 │\n",
            "│ LOC    │ 0.878362 │ Universität zu Salzburg │     207 │   230 │\n",
            "│ ORG    │ 0.997629 │ Universität zu Salzburg │     207 │   230 │\n",
            "│ LOC    │ 0.980984 │ Island                  │     265 │   271 │\n",
            "│ ORG    │ 0.892838 │ Kirche                  │     297 │   303 │\n",
            "│ PER    │ 0.662096 │ Gott                    │     307 │   311 │\n",
            "└────────┴──────────┴─────────────────────────┴─────────┴───────┘\n"
          ]
        }
      ],
      "source": [
        "i = 1\n",
        "print(sample_texts[i])\n",
        "print(\"\")\n",
        "x = ner(sample_texts[i], print_table=True)"
      ],
      "metadata": {
        "ExecuteTime": {
          "end_time": "2024-01-17T14:49:40.153080Z",
          "start_time": "2024-01-17T14:49:29.429614Z"
        },
        "colab": {
          "base_uri": "https://localhost:8080/"
        },
        "id": "BIvfQhE9FBph",
        "outputId": "b147c2c4-cd87-470e-ea3c-5ca8c773787f"
      },
      "execution_count": 21
    },
    {
      "cell_type": "code",
      "source": [],
      "metadata": {
        "id": "142A7gJBKZvo"
      },
      "execution_count": 21,
      "outputs": []
    }
  ],
  "metadata": {
    "kernelspec": {
      "display_name": "kediff",
      "language": "python",
      "name": "python3"
    },
    "language_info": {
      "codemirror_mode": {
        "name": "ipython",
        "version": 3
      },
      "file_extension": ".py",
      "mimetype": "text/x-python",
      "name": "python",
      "nbconvert_exporter": "python",
      "pygments_lexer": "ipython3",
      "version": "3.9.16"
    },
    "colab": {
      "provenance": []
    }
  },
  "nbformat": 4,
  "nbformat_minor": 0
}