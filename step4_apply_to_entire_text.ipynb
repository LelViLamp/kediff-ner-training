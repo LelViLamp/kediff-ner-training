{
  "cells": [
    {
      "cell_type": "code",
      "execution_count": null,
      "id": "initial_id",
      "metadata": {
        "ExecuteTime": {
          "end_time": "2024-01-19T17:13:14.150110Z",
          "start_time": "2024-01-19T17:13:13.931394Z"
        },
        "collapsed": true,
        "id": "initial_id"
      },
      "outputs": [],
      "source": [
        "import os.path\n",
        "\n",
        "import json\n",
        "from tqdm import tqdm"
      ]
    },
    {
      "cell_type": "markdown",
      "id": "cc71f8550aacb4a4",
      "metadata": {
        "collapsed": false,
        "id": "cc71f8550aacb4a4"
      },
      "source": [
        "# Load things"
      ]
    },
    {
      "cell_type": "markdown",
      "id": "242ed9de",
      "metadata": {
        "id": "242ed9de"
      },
      "source": [
        "## Define `DATA_DIR`"
      ]
    },
    {
      "cell_type": "code",
      "execution_count": null,
      "id": "275f01f14b3aeed1",
      "metadata": {
        "id": "275f01f14b3aeed1"
      },
      "outputs": [],
      "source": [
        "try:\n",
        "    from google.colab import drive\n",
        "\n",
        "    print(\n",
        "        \"You work on Colab. Gentle as we are, we will mount Drive for you. \"\n",
        "        \"It'd help if you allowed this in the popup that opens.\"\n",
        "    )\n",
        "    drive.mount('/content/drive')\n",
        "    DATA_DIR = os.path.join('drive', 'MyDrive', 'KEDiff', 'data')\n",
        "except ModuleNotFoundError:\n",
        "    print(\"You do not work on Colab\")\n",
        "    DATA_DIR = os.path.join('data')\n",
        "print(f\"{DATA_DIR=}\", '-->', os.path.abspath(DATA_DIR))"
      ]
    },
    {
      "cell_type": "markdown",
      "id": "a1a91c9859dc7bd9",
      "metadata": {
        "collapsed": false,
        "id": "a1a91c9859dc7bd9"
      },
      "source": [
        "## Import NER Ensemble _`kners`_"
      ]
    },
    {
      "cell_type": "code",
      "source": [
        "try:\n",
        "    from google.colab import drive\n",
        "\n",
        "    print(\"You work on Colab, so 'kediff_ner_system.py' needs to be copied over before importing it.\")\n",
        "\n",
        "    import shutil\n",
        "    shutil.copy(\n",
        "        src = os.path.join('drive', 'MyDrive', 'KEDiff', 'kediff_ner_system.py'),\n",
        "        dst = '.'\n",
        "    )\n",
        "except ModuleNotFoundError:\n",
        "    pass"
      ],
      "metadata": {
        "id": "G7y8j8W27Xgh"
      },
      "id": "G7y8j8W27Xgh",
      "execution_count": null,
      "outputs": []
    },
    {
      "cell_type": "code",
      "source": [
        "import kediff_ner_system as kners"
      ],
      "metadata": {
        "id": "mVMR9J5I772j"
      },
      "id": "mVMR9J5I772j",
      "execution_count": null,
      "outputs": []
    },
    {
      "cell_type": "code",
      "execution_count": null,
      "id": "ac5576e56aeb517c",
      "metadata": {
        "ExecuteTime": {
          "end_time": "2024-01-19T17:13:15.050341Z",
          "start_time": "2024-01-19T17:13:14.911525Z"
        },
        "id": "ac5576e56aeb517c"
      },
      "outputs": [],
      "source": [
        "MODELS_DIR = os.path.join(DATA_DIR, 'trained_models')\n",
        "MODELS_DIR"
      ]
    },
    {
      "cell_type": "code",
      "execution_count": null,
      "id": "517cb064d6c4684d",
      "metadata": {
        "ExecuteTime": {
          "end_time": "2024-01-19T17:13:16.512766Z",
          "start_time": "2024-01-19T17:13:16.019346Z"
        },
        "id": "517cb064d6c4684d"
      },
      "outputs": [],
      "source": [
        "classifier_paths = {\n",
        "    entity_type: os.path.join(MODELS_DIR,\n",
        "                              kners.CLASSIFIER_MODEL_VERSION,\n",
        "                              \"\".join([kners.CLASSIFIER_NAME_BASE, entity_type]),\n",
        "                              kners.SELECTED_EPOCHS[entity_type])\n",
        "    for entity_type in kners.ENTITY_TYPES\n",
        "}\n",
        "classifier_paths"
      ]
    },
    {
      "cell_type": "code",
      "execution_count": null,
      "id": "cf8e7cf1",
      "metadata": {
        "id": "cf8e7cf1"
      },
      "outputs": [],
      "source": [
        "{k: os.path.abspath(v) for k, v in classifier_paths.items()}"
      ]
    },
    {
      "cell_type": "code",
      "execution_count": null,
      "id": "bf8fa51c1c7d8648",
      "metadata": {
        "ExecuteTime": {
          "end_time": "2024-01-19T17:13:54.313226Z",
          "start_time": "2024-01-19T17:13:19.577829Z"
        },
        "id": "bf8fa51c1c7d8648"
      },
      "outputs": [],
      "source": [
        "ner = kners.KediffNerSystem(classifier_paths, print_debug_messages_to_console=True)"
      ]
    },
    {
      "cell_type": "markdown",
      "id": "225969368eba1a48",
      "metadata": {
        "collapsed": false,
        "id": "225969368eba1a48"
      },
      "source": [
        "## Import Text and Ground Truth"
      ]
    },
    {
      "cell_type": "code",
      "execution_count": null,
      "id": "d202594e161d56d6",
      "metadata": {
        "id": "d202594e161d56d6"
      },
      "outputs": [],
      "source": [
        "with open(os.path.join(DATA_DIR, 'union_dataset.jsonl')) as f:\n",
        "    lines = [json.loads(line) for line in f]\n",
        "len(lines)"
      ]
    },
    {
      "cell_type": "code",
      "execution_count": null,
      "id": "0beadc67",
      "metadata": {
        "id": "0beadc67"
      },
      "outputs": [],
      "source": [
        "line = lines[42]\n",
        "line"
      ]
    },
    {
      "cell_type": "code",
      "execution_count": null,
      "id": "7add258b",
      "metadata": {
        "id": "7add258b"
      },
      "outputs": [],
      "source": [
        "predicted = ner.ner(line['text'], print_table_to_console=True)"
      ]
    },
    {
      "cell_type": "markdown",
      "id": "465fb28c",
      "metadata": {
        "id": "465fb28c"
      },
      "source": [
        "# Apply to entire file"
      ]
    },
    {
      "cell_type": "code",
      "execution_count": null,
      "id": "a3dfc25b",
      "metadata": {
        "id": "a3dfc25b"
      },
      "outputs": [],
      "source": [
        "{\n",
        "    'id': line['id'],\n",
        "    'text': line['text'],\n",
        "    'ground_truth': line['label'],\n",
        "    'predicted': predicted\n",
        "}"
      ]
    },
    {
      "cell_type": "code",
      "execution_count": null,
      "id": "fe7962db",
      "metadata": {
        "id": "fe7962db"
      },
      "outputs": [],
      "source": [
        "# todo remove this later\n",
        "lines = lines[:1_111]"
      ]
    },
    {
      "cell_type": "code",
      "execution_count": null,
      "id": "0b16d92a",
      "metadata": {
        "id": "0b16d92a"
      },
      "outputs": [],
      "source": [
        "for line in tqdm(lines):\n",
        "    line['predicted'] = ner(line['text'])"
      ]
    },
    {
      "cell_type": "code",
      "execution_count": null,
      "id": "8870fede",
      "metadata": {
        "id": "8870fede"
      },
      "outputs": [],
      "source": []
    }
  ],
  "metadata": {
    "kernelspec": {
      "display_name": "Python 3",
      "language": "python",
      "name": "python3"
    },
    "language_info": {
      "codemirror_mode": {
        "name": "ipython",
        "version": 3
      },
      "file_extension": ".py",
      "mimetype": "text/x-python",
      "name": "python",
      "nbconvert_exporter": "python",
      "pygments_lexer": "ipython3",
      "version": "3.9.16"
    },
    "colab": {
      "provenance": []
    }
  },
  "nbformat": 4,
  "nbformat_minor": 5
}