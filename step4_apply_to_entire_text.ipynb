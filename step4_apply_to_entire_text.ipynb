{
  "cells": [
    {
      "cell_type": "code",
      "execution_count": null,
      "metadata": {
        "collapsed": true,
        "id": "initial_id"
      },
      "outputs": [],
      "source": [
        "import os.path\n",
        "\n",
        "import json\n",
        "from tqdm import tqdm"
      ],
      "id": "initial_id"
    },
    {
      "cell_type": "markdown",
      "metadata": {
        "collapsed": false,
        "id": "cc71f8550aacb4a4"
      },
      "source": [
        "# Load things"
      ],
      "id": "cc71f8550aacb4a4"
    },
    {
      "cell_type": "markdown",
      "metadata": {
        "id": "242ed9de"
      },
      "source": [
        "## Define `DATA_DIR`"
      ],
      "id": "242ed9de"
    },
    {
      "cell_type": "code",
      "execution_count": null,
      "metadata": {
        "colab": {
          "base_uri": "https://localhost:8080/"
        },
        "id": "275f01f14b3aeed1",
        "outputId": "222a789a-43c7-4245-a1ed-4140a6d86011"
      },
      "outputs": [
        {
          "name": "stdout",
          "output_type": "stream",
          "text": [
            "You work on Colab. Gentle as we are, we will mount Drive for you. It'd help if you allowed this in the popup that opens.\n",
            "Drive already mounted at /content/drive; to attempt to forcibly remount, call drive.mount(\"/content/drive\", force_remount=True).\n",
            "DATA_DIR='drive/MyDrive/KEDiff/data' --> /content/drive/MyDrive/KEDiff/data\n"
          ]
        }
      ],
      "source": [
        "try:\n",
        "    from google.colab import drive\n",
        "\n",
        "    print(\n",
        "        \"You work on Colab. Gentle as we are, we will mount Drive for you. \"\n",
        "        \"It'd help if you allowed this in the popup that opens.\"\n",
        "    )\n",
        "    drive.mount('/content/drive')\n",
        "    DATA_DIR = os.path.join('drive', 'MyDrive', 'KEDiff', 'data')\n",
        "except ModuleNotFoundError:\n",
        "    print(\"You do not work on Colab\")\n",
        "    DATA_DIR = os.path.join('data')\n",
        "print(f\"{DATA_DIR=}\", '-->', os.path.abspath(DATA_DIR))"
      ],
      "id": "275f01f14b3aeed1"
    },
    {
      "cell_type": "markdown",
      "metadata": {
        "collapsed": false,
        "id": "a1a91c9859dc7bd9"
      },
      "source": [
        "## Import NER Ensemble _`kners`_"
      ],
      "id": "a1a91c9859dc7bd9"
    },
    {
      "cell_type": "code",
      "execution_count": null,
      "metadata": {
        "colab": {
          "base_uri": "https://localhost:8080/"
        },
        "id": "G7y8j8W27Xgh",
        "outputId": "d0bfddf5-aeb3-427e-921c-d3bfd5064770"
      },
      "outputs": [
        {
          "name": "stdout",
          "output_type": "stream",
          "text": [
            "You work on Colab, so 'kediff_ner_system.py' needs to be copied over before importing it.\n"
          ]
        }
      ],
      "source": [
        "try:\n",
        "    from google.colab import drive\n",
        "\n",
        "    print(\"You work on Colab, so 'kediff_ner_system.py' needs to be copied over before importing it.\")\n",
        "\n",
        "    import shutil\n",
        "    shutil.copy(\n",
        "        src = os.path.join('drive', 'MyDrive', 'KEDiff', 'kediff_ner_system.py'),\n",
        "        dst = '.'\n",
        "    )\n",
        "except ModuleNotFoundError:\n",
        "    pass"
      ],
      "id": "G7y8j8W27Xgh"
    },
    {
      "cell_type": "code",
      "execution_count": null,
      "metadata": {
        "id": "mVMR9J5I772j"
      },
      "outputs": [],
      "source": [
        "import kediff_ner_system as kners"
      ],
      "id": "mVMR9J5I772j"
    },
    {
      "cell_type": "code",
      "execution_count": null,
      "metadata": {
        "colab": {
          "base_uri": "https://localhost:8080/",
          "height": 769
        },
        "id": "ac5576e56aeb517c",
        "outputId": "1d55e556-7606-42d2-d92c-75f00b918b13"
      },
      "outputs": [
        {
          "data": {
            "application/vnd.google.colaboratory.intrinsic+json": {
              "type": "string"
            },
            "text/plain": [
              "'drive/MyDrive/KEDiff/data/trained_models'"
            ]
          },
          "execution_count": 5,
          "metadata": {},
          "output_type": "execute_result"
        }
      ],
      "source": [
        "MODELS_DIR = os.path.join(DATA_DIR, 'trained_models')\n",
        "MODELS_DIR"
      ],
      "id": "ac5576e56aeb517c"
    },
    {
      "cell_type": "code",
      "execution_count": null,
      "metadata": {
        "colab": {
          "base_uri": "https://localhost:8080/"
        },
        "id": "517cb064d6c4684d",
        "outputId": "8070d590-3ef7-4cd9-a281-18cde79ccdd7"
      },
      "outputs": [
        {
          "data": {
            "text/plain": [
              "{'EVENT': 'drive/MyDrive/KEDiff/data/trained_models/2024-01-15/oalz-1788-q1-ner-EVENT/checkpoint-1393',\n",
              " 'LOC': 'drive/MyDrive/KEDiff/data/trained_models/2024-01-15/oalz-1788-q1-ner-LOC/checkpoint-1393',\n",
              " 'MISC': 'drive/MyDrive/KEDiff/data/trained_models/2024-01-15/oalz-1788-q1-ner-MISC/checkpoint-2786',\n",
              " 'ORG': 'drive/MyDrive/KEDiff/data/trained_models/2024-01-15/oalz-1788-q1-ner-ORG/checkpoint-1393',\n",
              " 'PER': 'drive/MyDrive/KEDiff/data/trained_models/2024-01-15/oalz-1788-q1-ner-PER/checkpoint-2786',\n",
              " 'TIME': 'drive/MyDrive/KEDiff/data/trained_models/2024-01-15/oalz-1788-q1-ner-TIME/checkpoint-1393'}"
            ]
          },
          "execution_count": 6,
          "metadata": {},
          "output_type": "execute_result"
        }
      ],
      "source": [
        "classifier_paths = {\n",
        "    entity_type: os.path.join(MODELS_DIR,\n",
        "                              kners.CLASSIFIER_MODEL_VERSION,\n",
        "                              \"\".join([kners.CLASSIFIER_NAME_BASE, entity_type]),\n",
        "                              kners.SELECTED_EPOCHS[entity_type])\n",
        "    for entity_type in kners.ENTITY_TYPES\n",
        "}\n",
        "classifier_paths"
      ],
      "id": "517cb064d6c4684d"
    },
    {
      "cell_type": "code",
      "execution_count": null,
      "metadata": {
        "colab": {
          "base_uri": "https://localhost:8080/"
        },
        "id": "cf8e7cf1",
        "outputId": "83262473-b12a-428b-f3aa-e06e25e97f62"
      },
      "outputs": [
        {
          "data": {
            "text/plain": [
              "{'EVENT': '/content/drive/MyDrive/KEDiff/data/trained_models/2024-01-15/oalz-1788-q1-ner-EVENT/checkpoint-1393',\n",
              " 'LOC': '/content/drive/MyDrive/KEDiff/data/trained_models/2024-01-15/oalz-1788-q1-ner-LOC/checkpoint-1393',\n",
              " 'MISC': '/content/drive/MyDrive/KEDiff/data/trained_models/2024-01-15/oalz-1788-q1-ner-MISC/checkpoint-2786',\n",
              " 'ORG': '/content/drive/MyDrive/KEDiff/data/trained_models/2024-01-15/oalz-1788-q1-ner-ORG/checkpoint-1393',\n",
              " 'PER': '/content/drive/MyDrive/KEDiff/data/trained_models/2024-01-15/oalz-1788-q1-ner-PER/checkpoint-2786',\n",
              " 'TIME': '/content/drive/MyDrive/KEDiff/data/trained_models/2024-01-15/oalz-1788-q1-ner-TIME/checkpoint-1393'}"
            ]
          },
          "execution_count": 7,
          "metadata": {},
          "output_type": "execute_result"
        }
      ],
      "source": [
        "{k: os.path.abspath(v) for k, v in classifier_paths.items()}"
      ],
      "id": "cf8e7cf1"
    },
    {
      "cell_type": "code",
      "execution_count": null,
      "metadata": {
        "colab": {
          "base_uri": "https://localhost:8080/"
        },
        "id": "bf8fa51c1c7d8648",
        "outputId": "cffd73d1-7199-4955-bc78-2333bdd81aa5"
      },
      "outputs": [
        {
          "name": "stdout",
          "output_type": "stream",
          "text": [
            "Loading tokeniser 'dbmdz/bert-base-historic-multilingual-cased'\n"
          ]
        },
        {
          "name": "stderr",
          "output_type": "stream",
          "text": [
            "/usr/local/lib/python3.10/dist-packages/huggingface_hub/utils/_token.py:88: UserWarning: \n",
            "The secret `HF_TOKEN` does not exist in your Colab secrets.\n",
            "To authenticate with the Hugging Face Hub, create a token in your settings tab (https://huggingface.co/settings/tokens), set it as secret in your Google Colab and restart your session.\n",
            "You will be able to reuse this secret in all of your notebooks.\n",
            "Please note that authentication is recommended but still optional to access public models or datasets.\n",
            "  warnings.warn(\n"
          ]
        },
        {
          "name": "stdout",
          "output_type": "stream",
          "text": [
            "Initialising models. Received paths to 6 classifiers\n"
          ]
        },
        {
          "name": "stderr",
          "output_type": "stream",
          "text": [
            "100%|██████████| 6/6 [00:27<00:00,  4.58s/it]"
          ]
        },
        {
          "name": "stdout",
          "output_type": "stream",
          "text": [
            "Class initialised\n"
          ]
        },
        {
          "name": "stderr",
          "output_type": "stream",
          "text": [
            "\n"
          ]
        }
      ],
      "source": [
        "ner = kners.KediffNerSystem(classifier_paths, print_debug_messages_to_console=True)"
      ],
      "id": "bf8fa51c1c7d8648"
    },
    {
      "cell_type": "markdown",
      "metadata": {
        "collapsed": false,
        "id": "225969368eba1a48"
      },
      "source": [
        "## Import Text and Ground Truth"
      ],
      "id": "225969368eba1a48"
    },
    {
      "cell_type": "code",
      "execution_count": null,
      "metadata": {
        "colab": {
          "base_uri": "https://localhost:8080/"
        },
        "id": "d202594e161d56d6",
        "outputId": "41dd6d2d-639f-45a6-d3e2-c3cb69161a24"
      },
      "outputs": [
        {
          "data": {
            "text/plain": [
              "13928"
            ]
          },
          "execution_count": 9,
          "metadata": {},
          "output_type": "execute_result"
        }
      ],
      "source": [
        "with open(os.path.join(DATA_DIR, 'union_dataset.jsonl')) as f:\n",
        "    lines = [json.loads(line) for line in f]\n",
        "len(lines)"
      ],
      "id": "d202594e161d56d6"
    },
    {
      "cell_type": "code",
      "execution_count": null,
      "metadata": {
        "colab": {
          "base_uri": "https://localhost:8080/"
        },
        "id": "0beadc67",
        "outputId": "78f6b4c6-12e5-406c-e1bf-d529f2069cc5"
      },
      "outputs": [
        {
          "data": {
            "text/plain": [
              "{'id': 43,\n",
              " 'text': 'der gemeine Mann z. B., wie seine Lage bioher beschaffen war, noch itzt beschaffen ist, und wahrscheinlicher Weise noch mehrere Jahrhunderte hindurch beschaffen seyn wird, fühlt gewiß mehr Ruhe dabey, wenn er gewisse Wahrheiten auf das Ansehen seiner vernünftigern, oder vernünftiger seyn sollenden Lehrer bloß glaubt, als wenn es ihm einfiele, sie ohne alle Hülfskenntnisse selbst zu prüfen.)',\n",
              " 'label': []}"
            ]
          },
          "execution_count": 10,
          "metadata": {},
          "output_type": "execute_result"
        }
      ],
      "source": [
        "line = lines[42]\n",
        "line"
      ],
      "id": "0beadc67"
    },
    {
      "cell_type": "code",
      "execution_count": null,
      "metadata": {
        "colab": {
          "base_uri": "https://localhost:8080/"
        },
        "id": "7add258b",
        "outputId": "30ed4969-750b-46ad-dd0b-d467ea114d04"
      },
      "outputs": [
        {
          "name": "stdout",
          "output_type": "stream",
          "text": [
            "(no entities found)\n"
          ]
        }
      ],
      "source": [
        "predicted = ner.ner(line['text'], print_table_to_console=True)"
      ],
      "id": "7add258b"
    },
    {
      "cell_type": "markdown",
      "metadata": {
        "id": "465fb28c"
      },
      "source": [
        "# Apply kNERs to entire file"
      ],
      "id": "465fb28c"
    },
    {
      "cell_type": "markdown",
      "metadata": {
        "id": "LwpP_yAiGGJy"
      },
      "source": [
        "## Generate Predictions"
      ],
      "id": "LwpP_yAiGGJy"
    },
    {
      "cell_type": "code",
      "execution_count": null,
      "metadata": {
        "colab": {
          "base_uri": "https://localhost:8080/"
        },
        "id": "a3dfc25b",
        "outputId": "50807ddc-4b4c-41f2-806d-f90545788dde"
      },
      "outputs": [
        {
          "data": {
            "text/plain": [
              "{'id': 43,\n",
              " 'text': 'der gemeine Mann z. B., wie seine Lage bioher beschaffen war, noch itzt beschaffen ist, und wahrscheinlicher Weise noch mehrere Jahrhunderte hindurch beschaffen seyn wird, fühlt gewiß mehr Ruhe dabey, wenn er gewisse Wahrheiten auf das Ansehen seiner vernünftigern, oder vernünftiger seyn sollenden Lehrer bloß glaubt, als wenn es ihm einfiele, sie ohne alle Hülfskenntnisse selbst zu prüfen.)',\n",
              " 'ground_truth': [],\n",
              " 'predicted': []}"
            ]
          },
          "execution_count": 12,
          "metadata": {},
          "output_type": "execute_result"
        }
      ],
      "source": [
        "{\n",
        "    'id': line['id'],\n",
        "    'text': line['text'],\n",
        "    'ground_truth': line['label'],\n",
        "    'predicted': predicted\n",
        "}"
      ],
      "id": "a3dfc25b"
    },
    {
      "cell_type": "code",
      "execution_count": null,
      "metadata": {
        "id": "fe7962db"
      },
      "outputs": [],
      "source": [
        "# todo remove this later\n",
        "# lines = lines[:50]"
      ],
      "id": "fe7962db"
    },
    {
      "cell_type": "code",
      "execution_count": null,
      "metadata": {
        "colab": {
          "background_save": true,
          "base_uri": "https://localhost:8080/"
        },
        "id": "0b16d92a",
        "outputId": "97c1e866-eee7-40de-dc26-4f045192a10b"
      },
      "outputs": [
        {
          "name": "stderr",
          "output_type": "stream",
          "text": [
            "100%|██████████| 13928/13928 [3:58:56<00:00,  1.03s/it]\n"
          ]
        }
      ],
      "source": [
        "for line in tqdm(lines):\n",
        "    line['predicted'] = ner(line['text'])"
      ],
      "id": "0b16d92a"
    },
    {
      "cell_type": "markdown",
      "metadata": {
        "id": "d1Bux6xjGJMh"
      },
      "source": [
        "## Materialise as JSONL file"
      ],
      "id": "d1Bux6xjGJMh"
    },
    {
      "cell_type": "markdown",
      "metadata": {
        "id": "GxiN11enGvFw"
      },
      "source": [
        "The `json` module cannot materialise the `numpy.float32` data types which is used for the predictions' `score` information. Thus, convert it to the base data type `float`."
      ],
      "id": "GxiN11enGvFw"
    },
    {
      "cell_type": "code",
      "execution_count": null,
      "metadata": {
        "colab": {
          "background_save": true
        },
        "id": "ZFxA60jADwzt",
        "outputId": "5e70fefc-8ec9-405c-ec41-2d9b6a0dc3fc"
      },
      "outputs": [
        {
          "data": {
            "text/plain": [
              "{'id': 3,\n",
              " 'text': 'Zur Beherzigung für Regenten, Censoren, und Schriftsteller.',\n",
              " 'label': [],\n",
              " 'predicted': [{'entity_group': 'ORG',\n",
              "   'score': 0.58743024,\n",
              "   'word': 'Regenten',\n",
              "   'start': 20,\n",
              "   'end': 28}]}"
            ]
          },
          "execution_count": 15,
          "metadata": {},
          "output_type": "execute_result"
        }
      ],
      "source": [
        "lines[2]"
      ],
      "id": "ZFxA60jADwzt"
    },
    {
      "cell_type": "code",
      "execution_count": null,
      "metadata": {
        "colab": {
          "background_save": true
        },
        "id": "rUqGitPkESOb",
        "outputId": "db51e616-e59f-4a1e-a30e-255dfff0303a"
      },
      "outputs": [
        {
          "name": "stdout",
          "output_type": "stream",
          "text": [
            "<class 'str'>\n",
            "<class 'numpy.float32'>\n",
            "<class 'str'>\n",
            "<class 'int'>\n",
            "<class 'int'>\n"
          ]
        }
      ],
      "source": [
        "for k in lines[2]['predicted'][0].keys():\n",
        "    print(type(lines[2]['predicted'][0][k]))"
      ],
      "id": "rUqGitPkESOb"
    },
    {
      "cell_type": "code",
      "execution_count": null,
      "metadata": {
        "colab": {
          "background_save": true
        },
        "id": "vZNeEKcnExVn",
        "outputId": "ea192bb3-580c-4d90-c7a6-3f3ea49b52f2"
      },
      "outputs": [
        {
          "data": {
            "text/plain": [
              "0.5874302387237549"
            ]
          },
          "execution_count": 17,
          "metadata": {},
          "output_type": "execute_result"
        }
      ],
      "source": [
        "lines[2]['predicted'][0]['score'].astype(float)"
      ],
      "id": "vZNeEKcnExVn"
    },
    {
      "cell_type": "code",
      "execution_count": null,
      "metadata": {
        "colab": {
          "background_save": true
        },
        "id": "6yYRmusbFOnM",
        "outputId": "2002eee7-4d11-41aa-a8ac-0c4482b68fbf"
      },
      "outputs": [
        {
          "name": "stderr",
          "output_type": "stream",
          "text": [
            "100%|██████████| 13928/13928 [00:00<00:00, 401502.87it/s]\n"
          ]
        }
      ],
      "source": [
        "for line in tqdm(lines):\n",
        "    for prediction in line['predicted']:\n",
        "        prediction['score'] = prediction['score'].astype(float)"
      ],
      "id": "6yYRmusbFOnM"
    },
    {
      "cell_type": "code",
      "execution_count": null,
      "metadata": {
        "colab": {
          "background_save": true
        },
        "id": "bn8fdCMcEB75",
        "outputId": "9265cd29-4d4d-4c80-9d80-08216921e98b"
      },
      "outputs": [
        {
          "data": {
            "application/vnd.google.colaboratory.intrinsic+json": {
              "type": "string"
            },
            "text/plain": [
              "'{\"id\": 3, \"text\": \"Zur Beherzigung f\\\\u00fcr Regenten, Censoren, und Schriftsteller.\", \"label\": [], \"predicted\": [{\"entity_group\": \"ORG\", \"score\": 0.5874302387237549, \"word\": \"Regenten\", \"start\": 20, \"end\": 28}]}'"
            ]
          },
          "execution_count": 19,
          "metadata": {},
          "output_type": "execute_result"
        }
      ],
      "source": [
        "json.dumps(lines[2])"
      ],
      "id": "bn8fdCMcEB75"
    },
    {
      "cell_type": "code",
      "execution_count": null,
      "metadata": {
        "colab": {
          "background_save": true
        },
        "id": "8870fede",
        "outputId": "a11d9c2b-3baf-4868-aa7b-7cecbb8df90d"
      },
      "outputs": [
        {
          "name": "stderr",
          "output_type": "stream",
          "text": [
            "100%|██████████| 13928/13928 [00:00<00:00, 81923.97it/s]\n"
          ]
        }
      ],
      "source": [
        "with open(os.path.join(DATA_DIR, 'predictions.jsonl'), \"w\") as f:\n",
        "    for line in tqdm(lines):\n",
        "        f.write(json.dumps(line) + \"\\n\")"
      ],
      "id": "8870fede"
    },
    {
      "cell_type": "code",
      "execution_count": null,
      "metadata": {
        "colab": {
          "background_save": true
        },
        "id": "1mBnPgg3Fifr"
      },
      "outputs": [],
      "source": [],
      "id": "1mBnPgg3Fifr"
    }
  ],
  "metadata": {
    "colab": {
      "collapsed_sections": [
        "cc71f8550aacb4a4",
        "242ed9de",
        "a1a91c9859dc7bd9",
        "225969368eba1a48"
      ],
      "provenance": []
    },
    "kernelspec": {
      "display_name": "Python 3",
      "language": "python",
      "name": "python3"
    },
    "language_info": {
      "codemirror_mode": {
        "name": "ipython",
        "version": 3
      },
      "file_extension": ".py",
      "mimetype": "text/x-python",
      "name": "python",
      "nbconvert_exporter": "python",
      "pygments_lexer": "ipython3",
      "version": "3.9.16"
    }
  },
  "nbformat": 4,
  "nbformat_minor": 5
}