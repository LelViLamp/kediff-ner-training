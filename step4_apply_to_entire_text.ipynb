{
 "cells": [
  {
   "cell_type": "code",
   "execution_count": 1,
   "id": "d7a986ba4b374b65",
   "metadata": {
    "ExecuteTime": {
     "end_time": "2024-01-19T17:13:11.774304Z",
     "start_time": "2024-01-19T17:13:10.787297Z"
    },
    "collapsed": false
   },
   "outputs": [],
   "source": [
    "%load_ext autoreload\n",
    "%autoreload 2"
   ]
  },
  {
   "cell_type": "code",
   "execution_count": 2,
   "id": "initial_id",
   "metadata": {
    "ExecuteTime": {
     "end_time": "2024-01-19T17:13:14.150110Z",
     "start_time": "2024-01-19T17:13:13.931394Z"
    },
    "collapsed": true
   },
   "outputs": [],
   "source": [
    "import os.path\n",
    "\n",
    "import kediff_ner_system as kners\n",
    "import json\n",
    "from tqdm import tqdm"
   ]
  },
  {
   "cell_type": "markdown",
   "id": "cc71f8550aacb4a4",
   "metadata": {
    "collapsed": false
   },
   "source": [
    "# Load things"
   ]
  },
  {
   "cell_type": "markdown",
   "id": "242ed9de",
   "metadata": {},
   "source": [
    "## Define `DATA_DIR`"
   ]
  },
  {
   "cell_type": "code",
   "execution_count": 3,
   "id": "275f01f14b3aeed1",
   "metadata": {
    "collapsed": false
   },
   "outputs": [
    {
     "name": "stdout",
     "output_type": "stream",
     "text": [
      "You do not work on Colab\n",
      "DATA_DIR='data' --> /Users/lelvilamp/source/repos/lelvilamp/kediff-ner-training/data\n"
     ]
    }
   ],
   "source": [
    "try:\n",
    "    from google.colab import drive\n",
    "\n",
    "    print(\n",
    "        \"You work on Colab. Gentle as we are, we will mount Drive for you. \"\n",
    "        \"It'd help if you allowed this in the popup that opens.\"\n",
    "    )\n",
    "    drive.mount('/content/drive')\n",
    "    DATA_DIR = os.path.join('drive', 'MyDrive', 'KEDiff', 'data')\n",
    "except ModuleNotFoundError:\n",
    "    print(\"You do not work on Colab\")\n",
    "    DATA_DIR = os.path.join('data')\n",
    "print(f\"{DATA_DIR=}\", '-->', os.path.abspath(DATA_DIR))"
   ]
  },
  {
   "cell_type": "markdown",
   "id": "a1a91c9859dc7bd9",
   "metadata": {
    "collapsed": false
   },
   "source": [
    "## Import NER Ensemble _`kners`_"
   ]
  },
  {
   "cell_type": "code",
   "execution_count": 4,
   "id": "ac5576e56aeb517c",
   "metadata": {
    "ExecuteTime": {
     "end_time": "2024-01-19T17:13:15.050341Z",
     "start_time": "2024-01-19T17:13:14.911525Z"
    },
    "collapsed": false
   },
   "outputs": [
    {
     "data": {
      "text/plain": [
       "'data/trained_models'"
      ]
     },
     "execution_count": 4,
     "metadata": {},
     "output_type": "execute_result"
    }
   ],
   "source": [
    "MODELS_DIR = os.path.join(DATA_DIR, 'trained_models')\n",
    "MODELS_DIR"
   ]
  },
  {
   "cell_type": "code",
   "execution_count": 5,
   "id": "517cb064d6c4684d",
   "metadata": {
    "ExecuteTime": {
     "end_time": "2024-01-19T17:13:16.512766Z",
     "start_time": "2024-01-19T17:13:16.019346Z"
    },
    "collapsed": false
   },
   "outputs": [
    {
     "data": {
      "text/plain": [
       "{'EVENT': 'data/trained_models/2024-01-15/oalz-1788-q1-ner-EVENT/checkpoint-1393',\n",
       " 'LOC': 'data/trained_models/2024-01-15/oalz-1788-q1-ner-LOC/checkpoint-1393',\n",
       " 'MISC': 'data/trained_models/2024-01-15/oalz-1788-q1-ner-MISC/checkpoint-2786',\n",
       " 'ORG': 'data/trained_models/2024-01-15/oalz-1788-q1-ner-ORG/checkpoint-1393',\n",
       " 'PER': 'data/trained_models/2024-01-15/oalz-1788-q1-ner-PER/checkpoint-2786',\n",
       " 'TIME': 'data/trained_models/2024-01-15/oalz-1788-q1-ner-TIME/checkpoint-1393'}"
      ]
     },
     "execution_count": 5,
     "metadata": {},
     "output_type": "execute_result"
    }
   ],
   "source": [
    "classifier_paths = {\n",
    "    entity_type: os.path.join(MODELS_DIR,\n",
    "                              kners.CLASSIFIER_MODEL_VERSION,\n",
    "                              \"\".join([kners.CLASSIFIER_NAME_BASE, entity_type]),\n",
    "                              kners.SELECTED_EPOCHS[entity_type])\n",
    "    for entity_type in kners.ENTITY_TYPES\n",
    "}\n",
    "classifier_paths"
   ]
  },
  {
   "cell_type": "code",
   "execution_count": 6,
   "id": "cf8e7cf1",
   "metadata": {},
   "outputs": [
    {
     "data": {
      "text/plain": [
       "{'EVENT': '/Users/lelvilamp/source/repos/lelvilamp/kediff-ner-training/data/trained_models/2024-01-15/oalz-1788-q1-ner-EVENT/checkpoint-1393',\n",
       " 'LOC': '/Users/lelvilamp/source/repos/lelvilamp/kediff-ner-training/data/trained_models/2024-01-15/oalz-1788-q1-ner-LOC/checkpoint-1393',\n",
       " 'MISC': '/Users/lelvilamp/source/repos/lelvilamp/kediff-ner-training/data/trained_models/2024-01-15/oalz-1788-q1-ner-MISC/checkpoint-2786',\n",
       " 'ORG': '/Users/lelvilamp/source/repos/lelvilamp/kediff-ner-training/data/trained_models/2024-01-15/oalz-1788-q1-ner-ORG/checkpoint-1393',\n",
       " 'PER': '/Users/lelvilamp/source/repos/lelvilamp/kediff-ner-training/data/trained_models/2024-01-15/oalz-1788-q1-ner-PER/checkpoint-2786',\n",
       " 'TIME': '/Users/lelvilamp/source/repos/lelvilamp/kediff-ner-training/data/trained_models/2024-01-15/oalz-1788-q1-ner-TIME/checkpoint-1393'}"
      ]
     },
     "execution_count": 6,
     "metadata": {},
     "output_type": "execute_result"
    }
   ],
   "source": [
    "{k: os.path.abspath(v) for k, v in classifier_paths.items()}"
   ]
  },
  {
   "cell_type": "code",
   "execution_count": 7,
   "id": "bf8fa51c1c7d8648",
   "metadata": {
    "ExecuteTime": {
     "end_time": "2024-01-19T17:13:54.313226Z",
     "start_time": "2024-01-19T17:13:19.577829Z"
    },
    "collapsed": false
   },
   "outputs": [
    {
     "name": "stdout",
     "output_type": "stream",
     "text": [
      "Loading tokeniser 'dbmdz/bert-base-historic-multilingual-cased'\n",
      "Initialising models. Received paths to 6 classifiers\n"
     ]
    },
    {
     "name": "stderr",
     "output_type": "stream",
     "text": [
      "100%|██████████| 6/6 [00:46<00:00,  7.67s/it]"
     ]
    },
    {
     "name": "stdout",
     "output_type": "stream",
     "text": [
      "Class initialised\n"
     ]
    },
    {
     "name": "stderr",
     "output_type": "stream",
     "text": [
      "\n"
     ]
    }
   ],
   "source": [
    "ner = kners.KediffNerSystem(classifier_paths, print_debug_messages_to_console=True)"
   ]
  },
  {
   "cell_type": "markdown",
   "id": "225969368eba1a48",
   "metadata": {
    "collapsed": false
   },
   "source": [
    "## Import Text and Ground Truth"
   ]
  },
  {
   "cell_type": "code",
   "execution_count": 8,
   "id": "d202594e161d56d6",
   "metadata": {
    "collapsed": false
   },
   "outputs": [
    {
     "data": {
      "text/plain": [
       "13928"
      ]
     },
     "execution_count": 8,
     "metadata": {},
     "output_type": "execute_result"
    }
   ],
   "source": [
    "with open(os.path.join(DATA_DIR, 'union_dataset.jsonl')) as f:\n",
    "    lines = [json.loads(line) for line in f]\n",
    "len(lines)"
   ]
  },
  {
   "cell_type": "code",
   "execution_count": 9,
   "id": "0beadc67",
   "metadata": {},
   "outputs": [
    {
     "data": {
      "text/plain": [
       "{'id': 43,\n",
       " 'text': 'der gemeine Mann z. B., wie seine Lage bioher beschaffen war, noch itzt beschaffen ist, und wahrscheinlicher Weise noch mehrere Jahrhunderte hindurch beschaffen seyn wird, fühlt gewiß mehr Ruhe dabey, wenn er gewisse Wahrheiten auf das Ansehen seiner vernünftigern, oder vernünftiger seyn sollenden Lehrer bloß glaubt, als wenn es ihm einfiele, sie ohne alle Hülfskenntnisse selbst zu prüfen.)',\n",
       " 'label': []}"
      ]
     },
     "execution_count": 9,
     "metadata": {},
     "output_type": "execute_result"
    }
   ],
   "source": [
    "line = lines[42]\n",
    "line"
   ]
  },
  {
   "cell_type": "code",
   "execution_count": 10,
   "id": "7add258b",
   "metadata": {},
   "outputs": [
    {
     "data": {
      "text/plain": [
       "[]"
      ]
     },
     "execution_count": 10,
     "metadata": {},
     "output_type": "execute_result"
    }
   ],
   "source": [
    "predicted = ner(line['text'])\n",
    "predicted"
   ]
  },
  {
   "cell_type": "markdown",
   "id": "465fb28c",
   "metadata": {},
   "source": [
    "# Apply to entire file"
   ]
  },
  {
   "cell_type": "code",
   "execution_count": 11,
   "id": "a3dfc25b",
   "metadata": {},
   "outputs": [
    {
     "data": {
      "text/plain": [
       "{'id': 43,\n",
       " 'text': 'der gemeine Mann z. B., wie seine Lage bioher beschaffen war, noch itzt beschaffen ist, und wahrscheinlicher Weise noch mehrere Jahrhunderte hindurch beschaffen seyn wird, fühlt gewiß mehr Ruhe dabey, wenn er gewisse Wahrheiten auf das Ansehen seiner vernünftigern, oder vernünftiger seyn sollenden Lehrer bloß glaubt, als wenn es ihm einfiele, sie ohne alle Hülfskenntnisse selbst zu prüfen.)',\n",
       " 'ground_truth': [],\n",
       " 'predicted': []}"
      ]
     },
     "execution_count": 11,
     "metadata": {},
     "output_type": "execute_result"
    }
   ],
   "source": [
    "{\n",
    "    'id': line['id'],\n",
    "    'text': line['text'],\n",
    "    'ground_truth': line['label'],\n",
    "    'predicted': predicted\n",
    "}"
   ]
  },
  {
   "cell_type": "code",
   "execution_count": 12,
   "id": "fe7962db",
   "metadata": {},
   "outputs": [],
   "source": [
    "# todo remove this later\n",
    "lines = lines[:1_111]"
   ]
  },
  {
   "cell_type": "code",
   "execution_count": 13,
   "id": "0b16d92a",
   "metadata": {},
   "outputs": [
    {
     "name": "stderr",
     "output_type": "stream",
     "text": [
      "  2%|▏         | 23/1111 [01:06<52:21,  2.89s/it]  \n"
     ]
    }
   ],
   "source": [
    "for line in tqdm(lines):\n",
    "    line['predicted'] = ner(line['text'])"
   ]
  },
  {
   "cell_type": "code",
   "execution_count": null,
   "id": "8870fede",
   "metadata": {},
   "outputs": [],
   "source": []
  }
 ],
 "metadata": {
  "kernelspec": {
   "display_name": "Python 3",
   "language": "python",
   "name": "python3"
  },
  "language_info": {
   "codemirror_mode": {
    "name": "ipython",
    "version": 3
   },
   "file_extension": ".py",
   "mimetype": "text/x-python",
   "name": "python",
   "nbconvert_exporter": "python",
   "pygments_lexer": "ipython3",
   "version": "3.9.16"
  }
 },
 "nbformat": 4,
 "nbformat_minor": 5
}
