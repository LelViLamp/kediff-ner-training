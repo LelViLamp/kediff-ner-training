{
  "cells": [
    {
      "cell_type": "code",
      "execution_count": null,
      "metadata": {
        "collapsed": true,
        "id": "initial_id"
      },
      "outputs": [],
      "source": [
        "import os.path\n",
        "\n",
        "import json\n",
        "from tqdm import tqdm"
      ],
      "id": "initial_id"
    },
    {
      "cell_type": "markdown",
      "metadata": {
        "collapsed": false,
        "id": "cc71f8550aacb4a4"
      },
      "source": [
        "# Load things"
      ],
      "id": "cc71f8550aacb4a4"
    },
    {
      "cell_type": "markdown",
      "metadata": {
        "id": "242ed9de"
      },
      "source": [
        "## Define `DATA_DIR`"
      ],
      "id": "242ed9de"
    },
    {
      "cell_type": "code",
      "execution_count": null,
      "metadata": {
        "id": "275f01f14b3aeed1"
      },
      "outputs": [],
      "source": [
        "try:\n",
        "    from google.colab import drive\n",
        "\n",
        "    print(\n",
        "        \"You work on Colab. Gentle as we are, we will mount Drive for you. \"\n",
        "        \"It'd help if you allowed this in the popup that opens.\"\n",
        "    )\n",
        "    drive.mount('/content/drive')\n",
        "    DATA_DIR = os.path.join('drive', 'MyDrive', 'KEDiff', 'data')\n",
        "except ModuleNotFoundError:\n",
        "    print(\"You do not work on Colab\")\n",
        "    DATA_DIR = os.path.join('data')\n",
        "print(f\"{DATA_DIR=}\", '-->', os.path.abspath(DATA_DIR))"
      ],
      "id": "275f01f14b3aeed1"
    },
    {
      "cell_type": "markdown",
      "metadata": {
        "collapsed": false,
        "id": "a1a91c9859dc7bd9"
      },
      "source": [
        "## Import NER Ensemble _`kners`_"
      ],
      "id": "a1a91c9859dc7bd9"
    },
    {
      "cell_type": "code",
      "execution_count": null,
      "metadata": {
        "id": "G7y8j8W27Xgh"
      },
      "outputs": [],
      "source": [
        "try:\n",
        "    from google.colab import drive\n",
        "\n",
        "    print(\"You work on Colab, so 'kediff_ner_system.py' needs to be copied over before importing it.\")\n",
        "\n",
        "    import shutil\n",
        "    shutil.copy(\n",
        "        src = os.path.join('drive', 'MyDrive', 'KEDiff', 'kediff_ner_system.py'),\n",
        "        dst = '.'\n",
        "    )\n",
        "except ModuleNotFoundError:\n",
        "    pass"
      ],
      "id": "G7y8j8W27Xgh"
    },
    {
      "cell_type": "code",
      "execution_count": null,
      "metadata": {
        "id": "mVMR9J5I772j"
      },
      "outputs": [],
      "source": [
        "import kediff_ner_system as kners"
      ],
      "id": "mVMR9J5I772j"
    },
    {
      "cell_type": "code",
      "execution_count": null,
      "metadata": {
        "id": "ac5576e56aeb517c"
      },
      "outputs": [],
      "source": [
        "MODELS_DIR = os.path.join(DATA_DIR, 'trained_models')\n",
        "MODELS_DIR"
      ],
      "id": "ac5576e56aeb517c"
    },
    {
      "cell_type": "code",
      "execution_count": null,
      "metadata": {
        "id": "517cb064d6c4684d"
      },
      "outputs": [],
      "source": [
        "classifier_paths = {\n",
        "    entity_type: os.path.join(MODELS_DIR,\n",
        "                              kners.CLASSIFIER_MODEL_VERSION,\n",
        "                              \"\".join([kners.CLASSIFIER_NAME_BASE, entity_type]),\n",
        "                              kners.SELECTED_EPOCHS[entity_type])\n",
        "    for entity_type in kners.ENTITY_TYPES\n",
        "}\n",
        "classifier_paths"
      ],
      "id": "517cb064d6c4684d"
    },
    {
      "cell_type": "code",
      "execution_count": null,
      "metadata": {
        "id": "cf8e7cf1"
      },
      "outputs": [],
      "source": [
        "{k: os.path.abspath(v) for k, v in classifier_paths.items()}"
      ],
      "id": "cf8e7cf1"
    },
    {
      "cell_type": "code",
      "execution_count": null,
      "metadata": {
        "id": "bf8fa51c1c7d8648"
      },
      "outputs": [],
      "source": [
        "ner = kners.KediffNerSystem(classifier_paths, print_debug_messages_to_console=True)"
      ],
      "id": "bf8fa51c1c7d8648"
    },
    {
      "cell_type": "markdown",
      "metadata": {
        "collapsed": false,
        "id": "225969368eba1a48"
      },
      "source": [
        "## Import Text and Ground Truth"
      ],
      "id": "225969368eba1a48"
    },
    {
      "cell_type": "code",
      "execution_count": null,
      "metadata": {
        "id": "d202594e161d56d6"
      },
      "outputs": [],
      "source": [
        "with open(os.path.join(DATA_DIR, 'union_dataset.jsonl')) as f:\n",
        "    lines = [json.loads(line) for line in f]\n",
        "len(lines)"
      ],
      "id": "d202594e161d56d6"
    },
    {
      "cell_type": "code",
      "execution_count": null,
      "metadata": {
        "id": "0beadc67"
      },
      "outputs": [],
      "source": [
        "line = lines[42]\n",
        "line"
      ],
      "id": "0beadc67"
    },
    {
      "cell_type": "code",
      "execution_count": null,
      "metadata": {
        "id": "7add258b"
      },
      "outputs": [],
      "source": [
        "predicted = ner.ner(line['text'], print_table_to_console=True)"
      ],
      "id": "7add258b"
    },
    {
      "cell_type": "markdown",
      "metadata": {
        "id": "465fb28c"
      },
      "source": [
        "# Apply kNERs to entire file"
      ],
      "id": "465fb28c"
    },
    {
      "cell_type": "code",
      "execution_count": null,
      "metadata": {
        "id": "a3dfc25b"
      },
      "outputs": [],
      "source": [
        "{\n",
        "    'id': line['id'],\n",
        "    'text': line['text'],\n",
        "    'ground_truth': line['label'],\n",
        "    'predicted': predicted\n",
        "}"
      ],
      "id": "a3dfc25b"
    },
    {
      "cell_type": "code",
      "execution_count": null,
      "metadata": {
        "id": "fe7962db"
      },
      "outputs": [],
      "source": [
        "# todo remove this later\n",
        "lines = lines[:50]"
      ],
      "id": "fe7962db"
    },
    {
      "cell_type": "code",
      "execution_count": null,
      "metadata": {
        "id": "0b16d92a"
      },
      "outputs": [],
      "source": [
        "for line in tqdm(lines):\n",
        "    line['predicted'] = ner(line['text'])"
      ],
      "id": "0b16d92a"
    },
    {
      "cell_type": "code",
      "source": [
        "lines[2]"
      ],
      "metadata": {
        "id": "ZFxA60jADwzt"
      },
      "id": "ZFxA60jADwzt",
      "execution_count": null,
      "outputs": []
    },
    {
      "cell_type": "code",
      "source": [
        "for k in lines[2]['predicted'][0].keys():\n",
        "    print(type(lines[2]['predicted'][0][k]))"
      ],
      "metadata": {
        "id": "rUqGitPkESOb"
      },
      "id": "rUqGitPkESOb",
      "execution_count": null,
      "outputs": []
    },
    {
      "cell_type": "code",
      "source": [
        "lines[2]['predicted'][0]['score'].astype(float)"
      ],
      "metadata": {
        "id": "vZNeEKcnExVn"
      },
      "id": "vZNeEKcnExVn",
      "execution_count": null,
      "outputs": []
    },
    {
      "cell_type": "code",
      "source": [
        "for line in tqdm(lines):\n",
        "    for prediction in line['predicted']:\n",
        "        prediction['score'] = prediction['score'].astype(float)"
      ],
      "metadata": {
        "id": "6yYRmusbFOnM"
      },
      "id": "6yYRmusbFOnM",
      "execution_count": null,
      "outputs": []
    },
    {
      "cell_type": "code",
      "source": [
        "json.dumps(lines[2])"
      ],
      "metadata": {
        "id": "bn8fdCMcEB75"
      },
      "id": "bn8fdCMcEB75",
      "execution_count": null,
      "outputs": []
    },
    {
      "cell_type": "code",
      "execution_count": null,
      "metadata": {
        "id": "8870fede"
      },
      "outputs": [],
      "source": [
        "with open(os.path.join(DATA_DIR, 'predictions.jsonl'), \"w\") as f:\n",
        "    for line in lines:\n",
        "        f.write(json.dumps(line) + \"\\n\")"
      ],
      "id": "8870fede"
    },
    {
      "cell_type": "code",
      "source": [],
      "metadata": {
        "id": "1mBnPgg3Fifr"
      },
      "id": "1mBnPgg3Fifr",
      "execution_count": null,
      "outputs": []
    }
  ],
  "metadata": {
    "colab": {
      "provenance": [],
      "collapsed_sections": [
        "cc71f8550aacb4a4",
        "242ed9de",
        "a1a91c9859dc7bd9",
        "225969368eba1a48"
      ]
    },
    "kernelspec": {
      "display_name": "Python 3",
      "language": "python",
      "name": "python3"
    },
    "language_info": {
      "codemirror_mode": {
        "name": "ipython",
        "version": 3
      },
      "file_extension": ".py",
      "mimetype": "text/x-python",
      "name": "python",
      "nbconvert_exporter": "python",
      "pygments_lexer": "ipython3",
      "version": "3.9.16"
    }
  },
  "nbformat": 4,
  "nbformat_minor": 5
}