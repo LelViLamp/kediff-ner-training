{
  "cells": [
    {
      "cell_type": "code",
      "execution_count": 1,
      "metadata": {
        "ExecuteTime": {
          "end_time": "2024-01-17T14:20:40.505177Z",
          "start_time": "2024-01-17T14:20:33.775660Z"
        },
        "id": "NAi-XWD5FBo0"
      },
      "outputs": [],
      "source": [
        "import os\n",
        "\n",
        "import tabulate\n",
        "from tqdm import tqdm\n",
        "from transformers import AutoModel, AutoTokenizer, pipeline"
      ]
    },
    {
      "cell_type": "code",
      "execution_count": 2,
      "metadata": {
        "ExecuteTime": {
          "end_time": "2024-01-17T14:20:40.579539Z",
          "start_time": "2024-01-17T14:20:40.512271Z"
        },
        "colab": {
          "base_uri": "https://localhost:8080/"
        },
        "id": "OEr0F9QJFBpA",
        "outputId": "4446d481-2bac-4158-b74b-345847aad19e"
      },
      "outputs": [
        {
          "output_type": "stream",
          "name": "stdout",
          "text": [
            "You work on Colab. Gentle as we are, we will mount Drive for you. It'd help if you allowed this in the popup that opens.\n",
            "Mounted at /content/drive\n",
            "DATA_DIR='drive/MyDrive/KEDiff/data' --> /content/drive/MyDrive/KEDiff/data\n"
          ]
        }
      ],
      "source": [
        "try:\n",
        "    from google.colab import drive\n",
        "\n",
        "    print(\n",
        "        \"You work on Colab. Gentle as we are, we will mount Drive for you. \"\n",
        "        \"It'd help if you allowed this in the popup that opens.\"\n",
        "    )\n",
        "    drive.mount('/content/drive')\n",
        "    DATA_DIR = os.path.join('drive', 'MyDrive', 'KEDiff', 'data')\n",
        "except ModuleNotFoundError:\n",
        "    print(\"You do not work on Colab\")\n",
        "    DATA_DIR = os.path.join('data')\n",
        "print(f\"{DATA_DIR=}\", '-->', os.path.abspath(DATA_DIR))"
      ]
    },
    {
      "cell_type": "code",
      "execution_count": 3,
      "metadata": {
        "ExecuteTime": {
          "end_time": "2024-01-17T14:20:40.581022Z",
          "start_time": "2024-01-17T14:20:40.534225Z"
        },
        "id": "1UFU---IFBpG"
      },
      "outputs": [],
      "source": [
        "TOKENISER_CHECKPOINT = \"dbmdz/bert-base-historic-multilingual-cased\"\n",
        "CHECKPOINT_NAME_BASE = \"oalz-1788-q1-ner-\"\n",
        "TRAINED_DIR = os.path.join(DATA_DIR, 'trained_models', '2024-01-15')"
      ]
    },
    {
      "cell_type": "code",
      "execution_count": 4,
      "metadata": {
        "ExecuteTime": {
          "end_time": "2024-01-17T14:20:41.761489Z",
          "start_time": "2024-01-17T14:20:40.546665Z"
        },
        "colab": {
          "base_uri": "https://localhost:8080/",
          "height": 235,
          "referenced_widgets": [
            "688df19704d44f2f8fd1efcf8ac67e97",
            "54b91e0929f143c798ef9f83a442667e",
            "ed553848e51c4e668cbb2ec7070befb0",
            "3e1411d58a674c3b98db0c98e146f503",
            "7f36a8cd03a046dab571768f7e4910f3",
            "6cc399bd72a0423eb32d0dabcee1659a",
            "05d1538e2be64587a25e60e58a1f6e51",
            "365cc0fd932f4025b206f7758ba687cf",
            "a20ff07803ea42a48915a3ce2b1248e3",
            "eda36cbe824844beafe3d9ac1fe52df2",
            "2f25cf39e28046ce820a42bd49bce1a6",
            "db8b217254cb4015bb83af4043875b10",
            "81a48247e3b84f89802a5cd94789d54d",
            "d3f4fcfd759c4350a9dd4490b36ad285",
            "7fee7777eebc45c5a8c5b120c8144c28",
            "c47abc7f52024f29aecbd56c230bec61",
            "9b8a09feba9a47b1a2bae49251c33861",
            "46f4b1440ecc495eb615ec8ee0d0b451",
            "b1cfea78665547f987debd5406fe8c99",
            "5a6a45b75c6044648ec084a3074abcef",
            "8b122aa19f974a25adc5b02297a69997",
            "16a3e18560f34c17b5588b242b5fd184",
            "abfaf55d1f0a497b8e2b3b735b388cff",
            "05bf268e8fe049e1980faf939ff1e76c",
            "019f78fcbd9d4b91913438f3723b6b85",
            "f09e874ee1d0463dbf3449f00c636486",
            "5794dd92055647029be62887a362d281",
            "ff8c37ae92684346a719d83eaae13550",
            "0fbf669d72d64b0fa2b3068391e3e9fe",
            "9d7438f8e74f4da5a61bdd7fc9ceb998",
            "29362417e7fc453eb648a4c86f0110e2",
            "512abe53959c407fa442cc57f4706b0b",
            "7f7fbb81d98940dba3ae84f6b15a40c3"
          ]
        },
        "id": "H3wsol8BFBpH",
        "outputId": "76e4c984-a8e8-4574-f922-2e4a12486733"
      },
      "outputs": [
        {
          "output_type": "stream",
          "name": "stderr",
          "text": [
            "/usr/local/lib/python3.10/dist-packages/huggingface_hub/utils/_token.py:88: UserWarning: \n",
            "The secret `HF_TOKEN` does not exist in your Colab secrets.\n",
            "To authenticate with the Hugging Face Hub, create a token in your settings tab (https://huggingface.co/settings/tokens), set it as secret in your Google Colab and restart your session.\n",
            "You will be able to reuse this secret in all of your notebooks.\n",
            "Please note that authentication is recommended but still optional to access public models or datasets.\n",
            "  warnings.warn(\n"
          ]
        },
        {
          "output_type": "display_data",
          "data": {
            "text/plain": [
              "tokenizer_config.json:   0%|          | 0.00/83.0 [00:00<?, ?B/s]"
            ],
            "application/vnd.jupyter.widget-view+json": {
              "version_major": 2,
              "version_minor": 0,
              "model_id": "688df19704d44f2f8fd1efcf8ac67e97"
            }
          },
          "metadata": {}
        },
        {
          "output_type": "display_data",
          "data": {
            "text/plain": [
              "config.json:   0%|          | 0.00/561 [00:00<?, ?B/s]"
            ],
            "application/vnd.jupyter.widget-view+json": {
              "version_major": 2,
              "version_minor": 0,
              "model_id": "db8b217254cb4015bb83af4043875b10"
            }
          },
          "metadata": {}
        },
        {
          "output_type": "display_data",
          "data": {
            "text/plain": [
              "vocab.txt:   0%|          | 0.00/212k [00:00<?, ?B/s]"
            ],
            "application/vnd.jupyter.widget-view+json": {
              "version_major": 2,
              "version_minor": 0,
              "model_id": "abfaf55d1f0a497b8e2b3b735b388cff"
            }
          },
          "metadata": {}
        }
      ],
      "source": [
        "tokeniser = AutoTokenizer.from_pretrained(TOKENISER_CHECKPOINT)"
      ]
    },
    {
      "cell_type": "code",
      "execution_count": 5,
      "metadata": {
        "ExecuteTime": {
          "end_time": "2024-01-17T14:20:41.847820Z",
          "start_time": "2024-01-17T14:20:41.770290Z"
        },
        "colab": {
          "base_uri": "https://localhost:8080/"
        },
        "id": "_FVFQi1qFBpI",
        "outputId": "fd703e06-4541-45de-8031-13e9e9677ef9"
      },
      "outputs": [
        {
          "output_type": "execute_result",
          "data": {
            "text/plain": [
              "{'id': 1003,\n",
              " 'text': 'Unter die Gegenden, die den Borkenkäfer nähren S. 13 — 14. gehört leider auch das Erzstift Salzburg.',\n",
              " 'label': [[82, 99, 'ORG'], [82, 99, 'LOC'], [28, 39, 'MISC']]}"
            ]
          },
          "metadata": {},
          "execution_count": 5
        }
      ],
      "source": [
        "sample = {\n",
        "    \"id\": 1003,\n",
        "    \"text\": \"Unter die Gegenden, die den Borkenk\\u00e4fer n\\u00e4hren S. 13 \\u2014 14. geh\\u00f6rt leider auch das Erzstift Salzburg.\",\n",
        "    \"label\": [[82, 99, \"ORG\"], [82, 99, \"LOC\"], [28, 39, \"MISC\"]]\n",
        "}\n",
        "sample"
      ]
    },
    {
      "cell_type": "code",
      "execution_count": 6,
      "metadata": {
        "ExecuteTime": {
          "end_time": "2024-01-17T14:20:41.851698Z",
          "start_time": "2024-01-17T14:20:41.796795Z"
        },
        "colab": {
          "base_uri": "https://localhost:8080/"
        },
        "id": "erdaw3lVFBpL",
        "outputId": "d4d90ff1-0221-4d5b-e527-7aec60e57c3d"
      },
      "outputs": [
        {
          "output_type": "execute_result",
          "data": {
            "text/plain": [
              "{'input_ids': [2, 2558, 788, 25854, 668, 16, 788, 767, 3383, 1199, 1176, 1582, 3835, 2221, 55, 18, 1097, 338, 1136, 18, 16130, 24914, 1532, 1190, 7840, 14369, 18843, 18, 3], 'token_type_ids': [0, 0, 0, 0, 0, 0, 0, 0, 0, 0, 0, 0, 0, 0, 0, 0, 0, 0, 0, 0, 0, 0, 0, 0, 0, 0, 0, 0, 0], 'attention_mask': [1, 1, 1, 1, 1, 1, 1, 1, 1, 1, 1, 1, 1, 1, 1, 1, 1, 1, 1, 1, 1, 1, 1, 1, 1, 1, 1, 1, 1]}"
            ]
          },
          "metadata": {},
          "execution_count": 6
        }
      ],
      "source": [
        "x = tokeniser(sample['text'])\n",
        "x"
      ]
    },
    {
      "cell_type": "code",
      "execution_count": 7,
      "metadata": {
        "ExecuteTime": {
          "end_time": "2024-01-17T14:20:41.922471Z",
          "start_time": "2024-01-17T14:20:41.835933Z"
        },
        "id": "LXjBdPexFBpN"
      },
      "outputs": [],
      "source": [
        "sample_texts = [\n",
        "    \"(Das hei\\u00dft ab ovo anfangen, wie's jener that, der vom deutschen Gleichgewichte handeln wollte, und von Adam anfieng.)\",\n",
        "    \"Daniel Göller ist der beste Masterstudent Christian Borgelts und sollte eine Ehrenmedaille… medallje… medallie… wie schreibt man das????… sowie eine saftige Sonderzahlung von Herrn Prof. Lehnert, Rektor der Universität zu Salzburg, erhalten, sodass er endlich nach Island reisen und dort in einer Kirche zu Gott beten kann.\",\n",
        "    \"Nun ist die Frage, ob das Modell auch mit Frauennamen umgehen kann, da beim Lesen der Originaltexte ein deutlicher Bias zu Männernamen aufgefallen ist. Und wie es dann wohl mit geschlechtsneutralen Namen aussieht?\",\n",
        "    \"Bundeskanzlerin Brigitte Bierlein führte bis zur Angelobung der Bundesregierung Kurz II nach der vorgezogenen Nationalratswahl im Herbst 2019 die Amtsgeschäfte der Bundesministerien weiter. Vielleicht kennt sie ja auch Angela Merkel?\",\n",
        "    \"Test in Salzburg während der Österreichsichen Aufklärung. In Paris wurden mehrere Menschen aus Deutschland gesichtet.\",\n",
        "    \"den meisten Lesern durch eine ausführliche Beschreibung und Beurtheilung des Wirtembergischen, im katholischen Deutschlande noch immer nicht genug belannten Gesangbuches, einen Gefallen zu erzeigen.\"\n",
        "]"
      ]
    },
    {
      "cell_type": "code",
      "execution_count": 8,
      "metadata": {
        "ExecuteTime": {
          "end_time": "2024-01-17T14:20:41.938918Z",
          "start_time": "2024-01-17T14:20:41.860333Z"
        },
        "colab": {
          "base_uri": "https://localhost:8080/"
        },
        "id": "p1MuiHFwFBpO",
        "outputId": "138b85aa-231a-496c-97ce-e51bc433b14c"
      },
      "outputs": [
        {
          "output_type": "execute_result",
          "data": {
            "text/plain": [
              "{'EVENT': 'drive/MyDrive/KEDiff/data/trained_models/2024-01-15/oalz-1788-q1-ner-EVENT/checkpoint-1393',\n",
              " 'LOC': 'drive/MyDrive/KEDiff/data/trained_models/2024-01-15/oalz-1788-q1-ner-LOC/checkpoint-1393',\n",
              " 'MISC': 'drive/MyDrive/KEDiff/data/trained_models/2024-01-15/oalz-1788-q1-ner-MISC/checkpoint-2786',\n",
              " 'ORG': 'drive/MyDrive/KEDiff/data/trained_models/2024-01-15/oalz-1788-q1-ner-ORG/checkpoint-1393',\n",
              " 'PER': 'drive/MyDrive/KEDiff/data/trained_models/2024-01-15/oalz-1788-q1-ner-PER/checkpoint-2786',\n",
              " 'TIME': 'drive/MyDrive/KEDiff/data/trained_models/2024-01-15/oalz-1788-q1-ner-TIME/checkpoint-1393'}"
            ]
          },
          "metadata": {},
          "execution_count": 8
        }
      ],
      "source": [
        "label_types = [\"EVENT\", \"LOC\", \"MISC\", \"ORG\", \"PER\", \"TIME\"]\n",
        "selected_epochs = {\n",
        "    \"EVENT\" : \"checkpoint-1393\",\n",
        "    \"LOC\" : \"checkpoint-1393\",\n",
        "    \"MISC\" : \"checkpoint-2786\",\n",
        "    \"ORG\" : \"checkpoint-1393\",\n",
        "    \"PER\" : \"checkpoint-2786\",\n",
        "    \"TIME\" : \"checkpoint-1393\"\n",
        "}\n",
        "ner_model_paths = {\n",
        "    label_type: os.path.join(TRAINED_DIR,\n",
        "                             \"\".join([CHECKPOINT_NAME_BASE, label_type]),\n",
        "                             selected_epochs[label_type])\n",
        "    for label_type in label_types\n",
        "}\n",
        "ner_model_paths"
      ]
    },
    {
      "cell_type": "code",
      "execution_count": 9,
      "metadata": {
        "ExecuteTime": {
          "end_time": "2024-01-17T14:21:07.404398Z",
          "start_time": "2024-01-17T14:20:41.874644Z"
        },
        "id": "lCNm-15bFBpP",
        "colab": {
          "base_uri": "https://localhost:8080/"
        },
        "outputId": "6f3e0dfb-32f1-4a5d-db1e-1b01bba20ce9"
      },
      "outputs": [
        {
          "output_type": "stream",
          "name": "stderr",
          "text": [
            "100%|██████████| 6/6 [00:52<00:00,  8.77s/it]\n"
          ]
        },
        {
          "output_type": "execute_result",
          "data": {
            "text/plain": [
              "['EVENT', 'LOC', 'MISC', 'ORG', 'PER', 'TIME']"
            ]
          },
          "metadata": {},
          "execution_count": 9
        }
      ],
      "source": [
        "token_classifiers = {}\n",
        "for label_type in tqdm(label_types):\n",
        "    token_classifiers[label_type] = pipeline(\n",
        "        \"token-classification\",\n",
        "        model=os.path.abspath(ner_model_paths[label_type]),\n",
        "        aggregation_strategy=\"simple\"\n",
        "    )\n",
        "list(token_classifiers.keys())"
      ]
    },
    {
      "cell_type": "code",
      "execution_count": 10,
      "metadata": {
        "ExecuteTime": {
          "end_time": "2024-01-17T14:21:07.405895Z",
          "start_time": "2024-01-17T14:21:07.350988Z"
        },
        "id": "r5XtqymEFBpR"
      },
      "outputs": [],
      "source": [
        "def find_entities(text: str):\n",
        "    entities = {\n",
        "        label_type : token_classifiers[label_type](text)\n",
        "        for label_type in label_types\n",
        "    }\n",
        "    return entities"
      ]
    },
    {
      "cell_type": "code",
      "outputs": [
        {
          "output_type": "execute_result",
          "data": {
            "text/plain": [
              "{'EVENT': [],\n",
              " 'LOC': [{'entity_group': 'LOC',\n",
              "   'score': 0.89277834,\n",
              "   'word': 'deutschen',\n",
              "   'start': 54,\n",
              "   'end': 63}],\n",
              " 'MISC': [],\n",
              " 'ORG': [],\n",
              " 'PER': [{'entity_group': 'PER',\n",
              "   'score': 0.98266566,\n",
              "   'word': 'Adam',\n",
              "   'start': 103,\n",
              "   'end': 107}],\n",
              " 'TIME': []}"
            ]
          },
          "metadata": {},
          "execution_count": 11
        }
      ],
      "source": [
        "text = sample_texts[0]\n",
        "entities_dict = find_entities(text)\n",
        "entities_dict"
      ],
      "metadata": {
        "ExecuteTime": {
          "end_time": "2024-01-17T14:21:23.877304Z",
          "start_time": "2024-01-17T14:21:13.418917Z"
        },
        "colab": {
          "base_uri": "https://localhost:8080/"
        },
        "id": "UJpdW_xIFBpW",
        "outputId": "f297f9e5-43e4-4878-cf76-9d1806c65a25"
      },
      "execution_count": 11
    },
    {
      "cell_type": "code",
      "outputs": [],
      "source": [
        "def entities_dict_to_list(entities_dict):\n",
        "    entities_list = []\n",
        "    for label_type in entities_dict:\n",
        "        entities_list += entities_dict[label_type]\n",
        "    return entities_list"
      ],
      "metadata": {
        "ExecuteTime": {
          "end_time": "2024-01-17T14:21:24.247267Z",
          "start_time": "2024-01-17T14:21:23.817419Z"
        },
        "id": "39-goJXQFBpX"
      },
      "execution_count": 12
    },
    {
      "cell_type": "code",
      "outputs": [
        {
          "output_type": "execute_result",
          "data": {
            "text/plain": [
              "[{'entity_group': 'LOC',\n",
              "  'score': 0.89277834,\n",
              "  'word': 'deutschen',\n",
              "  'start': 54,\n",
              "  'end': 63},\n",
              " {'entity_group': 'PER',\n",
              "  'score': 0.98266566,\n",
              "  'word': 'Adam',\n",
              "  'start': 103,\n",
              "  'end': 107}]"
            ]
          },
          "metadata": {},
          "execution_count": 13
        }
      ],
      "source": [
        "entity_list = entities_dict_to_list(entities_dict)\n",
        "entity_list"
      ],
      "metadata": {
        "ExecuteTime": {
          "end_time": "2024-01-17T14:21:24.291415Z",
          "start_time": "2024-01-17T14:21:23.818111Z"
        },
        "colab": {
          "base_uri": "https://localhost:8080/"
        },
        "id": "LTi9dnS_FBpc",
        "outputId": "0066631d-bd9b-4a8f-9417-2c5c268487ff"
      },
      "execution_count": 13
    },
    {
      "cell_type": "code",
      "outputs": [],
      "source": [
        "def sort_entity_list(entity_list):\n",
        "    sorted_entity_list = sorted(entity_list, key=lambda d: (d['start'], d['score'], d['entity_group']))\n",
        "    return sorted_entity_list"
      ],
      "metadata": {
        "ExecuteTime": {
          "end_time": "2024-01-17T14:21:24.294027Z",
          "start_time": "2024-01-17T14:21:23.818891Z"
        },
        "id": "8ne78YYzFBpd"
      },
      "execution_count": 14
    },
    {
      "cell_type": "code",
      "outputs": [
        {
          "output_type": "execute_result",
          "data": {
            "text/plain": [
              "[{'entity_group': 'LOC',\n",
              "  'score': 0.89277834,\n",
              "  'word': 'deutschen',\n",
              "  'start': 54,\n",
              "  'end': 63},\n",
              " {'entity_group': 'PER',\n",
              "  'score': 0.98266566,\n",
              "  'word': 'Adam',\n",
              "  'start': 103,\n",
              "  'end': 107}]"
            ]
          },
          "metadata": {},
          "execution_count": 15
        }
      ],
      "source": [
        "sorted_entity_list = sort_entity_list(entity_list)\n",
        "sorted_entity_list"
      ],
      "metadata": {
        "ExecuteTime": {
          "end_time": "2024-01-17T14:21:24.297127Z",
          "start_time": "2024-01-17T14:21:23.819401Z"
        },
        "colab": {
          "base_uri": "https://localhost:8080/"
        },
        "id": "BNtp98EOFBpd",
        "outputId": "c98dc794-418f-4f48-d2f7-9637ec8af267"
      },
      "execution_count": 15
    },
    {
      "cell_type": "code",
      "source": [
        "def print_entities_as_table(entity_list, tablefmt: str = \"simple_outline\"):\n",
        "    if entity_list is None or len(entity_list) == 0:\n",
        "        print(\"No entities found\")\n",
        "        return\n",
        "    header = list(entity_list[0].keys())\n",
        "    header[0] = \"type\"\n",
        "    rows = [entity.values() for entity in entity_list]\n",
        "    print(tabulate.tabulate(rows, header, tablefmt=tablefmt))"
      ],
      "metadata": {
        "id": "zY5rgN4EPf7V"
      },
      "execution_count": 16,
      "outputs": []
    },
    {
      "cell_type": "code",
      "source": [
        "print_entities_as_table(sorted_entity_list)"
      ],
      "metadata": {
        "colab": {
          "base_uri": "https://localhost:8080/"
        },
        "id": "HEMUS47nPh3f",
        "outputId": "4704b474-a46f-4712-970e-8849b4eed5c7"
      },
      "execution_count": 17,
      "outputs": [
        {
          "output_type": "stream",
          "name": "stdout",
          "text": [
            "┌────────┬──────────┬───────────┬─────────┬───────┐\n",
            "│ type   │    score │ word      │   start │   end │\n",
            "├────────┼──────────┼───────────┼─────────┼───────┤\n",
            "│ LOC    │ 0.892778 │ deutschen │      54 │    63 │\n",
            "│ PER    │ 0.982666 │ Adam      │     103 │   107 │\n",
            "└────────┴──────────┴───────────┴─────────┴───────┘\n"
          ]
        }
      ]
    },
    {
      "cell_type": "code",
      "outputs": [],
      "source": [
        "def ner(text: str, print_table: bool = False):\n",
        "    entity_dict = find_entities(text)\n",
        "    entity_list = entities_dict_to_list(entity_dict)\n",
        "    sorted_entity_list = sort_entity_list(entity_list)\n",
        "    if print_table: print_entities_as_table(sorted_entity_list)\n",
        "    return sorted_entity_list"
      ],
      "metadata": {
        "ExecuteTime": {
          "end_time": "2024-01-17T14:21:24.325302Z",
          "start_time": "2024-01-17T14:21:23.819794Z"
        },
        "id": "Dsrb9RE5FBpf"
      },
      "execution_count": 18
    },
    {
      "cell_type": "code",
      "outputs": [
        {
          "output_type": "stream",
          "name": "stderr",
          "text": [
            "100%|██████████| 6/6 [00:05<00:00,  1.09it/s]\n"
          ]
        },
        {
          "output_type": "execute_result",
          "data": {
            "text/plain": [
              "[[{'entity_group': 'LOC',\n",
              "   'score': 0.89277834,\n",
              "   'word': 'deutschen',\n",
              "   'start': 54,\n",
              "   'end': 63},\n",
              "  {'entity_group': 'PER',\n",
              "   'score': 0.98266566,\n",
              "   'word': 'Adam',\n",
              "   'start': 103,\n",
              "   'end': 107}],\n",
              " [{'entity_group': 'PER',\n",
              "   'score': 0.9947171,\n",
              "   'word': 'Daniel Göller',\n",
              "   'start': 0,\n",
              "   'end': 13},\n",
              "  {'entity_group': 'PER',\n",
              "   'score': 0.9756709,\n",
              "   'word': 'Christian Borgelts',\n",
              "   'start': 42,\n",
              "   'end': 60},\n",
              "  {'entity_group': 'PER',\n",
              "   'score': 0.84162706,\n",
              "   'word': 'Herrn Prof. Lehnert, Rektor der Universität',\n",
              "   'start': 175,\n",
              "   'end': 218},\n",
              "  {'entity_group': 'ORG',\n",
              "   'score': 0.8358598,\n",
              "   'word': 'Universität zu Salzburg',\n",
              "   'start': 207,\n",
              "   'end': 230},\n",
              "  {'entity_group': 'LOC',\n",
              "   'score': 0.91554254,\n",
              "   'word': 'Salzburg',\n",
              "   'start': 222,\n",
              "   'end': 230},\n",
              "  {'entity_group': 'LOC',\n",
              "   'score': 0.9196716,\n",
              "   'word': 'Island',\n",
              "   'start': 265,\n",
              "   'end': 271},\n",
              "  {'entity_group': 'ORG',\n",
              "   'score': 0.6116128,\n",
              "   'word': 'Kirche',\n",
              "   'start': 297,\n",
              "   'end': 303},\n",
              "  {'entity_group': 'PER',\n",
              "   'score': 0.78227466,\n",
              "   'word': 'Gott',\n",
              "   'start': 307,\n",
              "   'end': 311}],\n",
              " [],\n",
              " [{'entity_group': 'ORG',\n",
              "   'score': 0.56936216,\n",
              "   'word': 'Bundeskanzlerin',\n",
              "   'start': 0,\n",
              "   'end': 15},\n",
              "  {'entity_group': 'PER',\n",
              "   'score': 0.9921264,\n",
              "   'word': 'Bundeskanzlerin Brigitte Bierlein',\n",
              "   'start': 0,\n",
              "   'end': 33},\n",
              "  {'entity_group': 'ORG',\n",
              "   'score': 0.67151767,\n",
              "   'word': 'Bundesregierung',\n",
              "   'start': 64,\n",
              "   'end': 79},\n",
              "  {'entity_group': 'ORG',\n",
              "   'score': 0.57262325,\n",
              "   'word': '##rats',\n",
              "   'start': 118,\n",
              "   'end': 122},\n",
              "  {'entity_group': 'TIME',\n",
              "   'score': 0.8351234,\n",
              "   'word': '2019',\n",
              "   'start': 137,\n",
              "   'end': 141},\n",
              "  {'entity_group': 'ORG',\n",
              "   'score': 0.790812,\n",
              "   'word': 'Bundesministerien',\n",
              "   'start': 164,\n",
              "   'end': 181},\n",
              "  {'entity_group': 'PER',\n",
              "   'score': 0.9889722,\n",
              "   'word': 'Angela Merkel',\n",
              "   'start': 219,\n",
              "   'end': 232}],\n",
              " [{'entity_group': 'LOC',\n",
              "   'score': 0.96092474,\n",
              "   'word': 'Salzburg',\n",
              "   'start': 8,\n",
              "   'end': 16},\n",
              "  {'entity_group': 'LOC',\n",
              "   'score': 0.9371394,\n",
              "   'word': 'Österreichsichen',\n",
              "   'start': 29,\n",
              "   'end': 45},\n",
              "  {'entity_group': 'LOC',\n",
              "   'score': 0.9643895,\n",
              "   'word': 'Paris',\n",
              "   'start': 61,\n",
              "   'end': 66},\n",
              "  {'entity_group': 'LOC',\n",
              "   'score': 0.9582276,\n",
              "   'word': 'Deutschland',\n",
              "   'start': 95,\n",
              "   'end': 106}],\n",
              " [{'entity_group': 'MISC',\n",
              "   'score': 0.5527715,\n",
              "   'word': 'Wir',\n",
              "   'start': 77,\n",
              "   'end': 80},\n",
              "  {'entity_group': 'LOC',\n",
              "   'score': 0.91953945,\n",
              "   'word': 'Wirtembergischen',\n",
              "   'start': 77,\n",
              "   'end': 93},\n",
              "  {'entity_group': 'MISC',\n",
              "   'score': 0.5903728,\n",
              "   'word': '##ischen',\n",
              "   'start': 87,\n",
              "   'end': 93},\n",
              "  {'entity_group': 'ORG',\n",
              "   'score': 0.7514959,\n",
              "   'word': 'katholischen Deutschlande',\n",
              "   'start': 98,\n",
              "   'end': 123},\n",
              "  {'entity_group': 'LOC',\n",
              "   'score': 0.8247633,\n",
              "   'word': 'katholischen Deutschlande',\n",
              "   'start': 98,\n",
              "   'end': 123},\n",
              "  {'entity_group': 'MISC',\n",
              "   'score': 0.50581384,\n",
              "   'word': 'Deutschland',\n",
              "   'start': 111,\n",
              "   'end': 122}]]"
            ]
          },
          "metadata": {},
          "execution_count": 19
        }
      ],
      "source": [
        "entities = [ner(text) for text in tqdm(sample_texts)]\n",
        "entities"
      ],
      "metadata": {
        "ExecuteTime": {
          "end_time": "2024-01-17T14:21:34.963659Z",
          "start_time": "2024-01-17T14:21:23.820337Z"
        },
        "colab": {
          "base_uri": "https://localhost:8080/"
        },
        "id": "Na8h2hXCFBpg",
        "outputId": "fcb64ff5-7b04-4fb9-be0b-453adbe0c364"
      },
      "execution_count": 19
    },
    {
      "cell_type": "code",
      "outputs": [
        {
          "output_type": "stream",
          "name": "stdout",
          "text": [
            "Daniel Göller ist der beste Masterstudent Christian Borgelts und sollte eine Ehrenmedaille… medallje… medallie… wie schreibt man das????… sowie eine saftige Sonderzahlung von Herrn Prof. Lehnert, Rektor der Universität zu Salzburg, erhalten, sodass er endlich nach Island reisen und dort in einer Kirche zu Gott beten kann.\n",
            "\n",
            "┌────────┬──────────┬─────────────────────────────────────────────┬─────────┬───────┐\n",
            "│ type   │    score │ word                                        │   start │   end │\n",
            "├────────┼──────────┼─────────────────────────────────────────────┼─────────┼───────┤\n",
            "│ PER    │ 0.994717 │ Daniel Göller                               │       0 │    13 │\n",
            "│ PER    │ 0.975671 │ Christian Borgelts                          │      42 │    60 │\n",
            "│ PER    │ 0.841627 │ Herrn Prof. Lehnert, Rektor der Universität │     175 │   218 │\n",
            "│ ORG    │ 0.83586  │ Universität zu Salzburg                     │     207 │   230 │\n",
            "│ LOC    │ 0.915543 │ Salzburg                                    │     222 │   230 │\n",
            "│ LOC    │ 0.919672 │ Island                                      │     265 │   271 │\n",
            "│ ORG    │ 0.611613 │ Kirche                                      │     297 │   303 │\n",
            "│ PER    │ 0.782275 │ Gott                                        │     307 │   311 │\n",
            "└────────┴──────────┴─────────────────────────────────────────────┴─────────┴───────┘\n"
          ]
        }
      ],
      "source": [
        "i = 1\n",
        "print(sample_texts[i])\n",
        "print(\"\")\n",
        "x = ner(sample_texts[i], print_table=True)"
      ],
      "metadata": {
        "ExecuteTime": {
          "end_time": "2024-01-17T14:49:40.153080Z",
          "start_time": "2024-01-17T14:49:29.429614Z"
        },
        "colab": {
          "base_uri": "https://localhost:8080/"
        },
        "id": "BIvfQhE9FBph",
        "outputId": "e50a7b61-aafb-4195-a7f0-4d2ca1dcf6d0"
      },
      "execution_count": 23
    },
    {
      "cell_type": "code",
      "source": [
        "x = ner(\"Willkommen in Österreich\", print_table=True)"
      ],
      "metadata": {
        "id": "142A7gJBKZvo",
        "colab": {
          "base_uri": "https://localhost:8080/"
        },
        "outputId": "7a632954-c040-4606-80b8-e9e812ff02c3"
      },
      "execution_count": 24,
      "outputs": [
        {
          "output_type": "stream",
          "name": "stdout",
          "text": [
            "Willkommen in Österreich\n",
            "\n",
            "┌────────┬──────────┬────────────┬─────────┬───────┐\n",
            "│ type   │    score │ word       │   start │   end │\n",
            "├────────┼──────────┼────────────┼─────────┼───────┤\n",
            "│ LOC    │ 0.961031 │ Österreich │      14 │    24 │\n",
            "└────────┴──────────┴────────────┴─────────┴───────┘\n"
          ]
        }
      ]
    },
    {
      "cell_type": "code",
      "source": [
        "x = ner(\"D. Hr. Rec. betrachtet den Text von L.K.Y.I. aus der vorhergehenden Ausgabe.\", print_table=True)"
      ],
      "metadata": {
        "colab": {
          "base_uri": "https://localhost:8080/"
        },
        "id": "gXkKO5V4Z46Z",
        "outputId": "466c2d73-5f4d-4566-c1a4-065759a4349f"
      },
      "execution_count": 28,
      "outputs": [
        {
          "output_type": "stream",
          "name": "stdout",
          "text": [
            "┌────────┬──────────┬────────────┬─────────┬───────┐\n",
            "│ type   │    score │ word       │   start │   end │\n",
            "├────────┼──────────┼────────────┼─────────┼───────┤\n",
            "│ PER    │ 0.991839 │ Hr. Rec.   │       3 │    11 │\n",
            "│ MISC   │ 0.571993 │ L. K. Y    │      36 │    41 │\n",
            "│ PER    │ 0.979722 │ L. K. Y. I │      36 │    43 │\n",
            "└────────┴──────────┴────────────┴─────────┴───────┘\n"
          ]
        }
      ]
    },
    {
      "cell_type": "code",
      "source": [
        "x = ner(\"D. Hr. V. betrachtet den Text von L.K.Y.I. aus der vorhergehenden Ausgabe.\", print_table=True)"
      ],
      "metadata": {
        "colab": {
          "base_uri": "https://localhost:8080/"
        },
        "id": "UZDrZbLudMmg",
        "outputId": "0a355279-2183-4069-b7d0-67b170fe914f"
      },
      "execution_count": 32,
      "outputs": [
        {
          "output_type": "stream",
          "name": "stdout",
          "text": [
            "┌────────┬──────────┬────────────┬─────────┬───────┐\n",
            "│ type   │    score │ word       │   start │   end │\n",
            "├────────┼──────────┼────────────┼─────────┼───────┤\n",
            "│ PER    │ 0.969234 │ Hr. V.     │       3 │     9 │\n",
            "│ PER    │ 0.983884 │ L. K. Y. I │      34 │    41 │\n",
            "└────────┴──────────┴────────────┴─────────┴───────┘\n"
          ]
        }
      ]
    },
    {
      "cell_type": "code",
      "source": [
        "x = ner(\"Der V. betrachtet den Text von L.K.Y.I. aus der vorhergehenden Ausgabe.\", print_table=True)"
      ],
      "metadata": {
        "colab": {
          "base_uri": "https://localhost:8080/"
        },
        "id": "fqunWaCcehfv",
        "outputId": "91805985-7cd0-4b4c-d26f-239bfa9e8e73"
      },
      "execution_count": 33,
      "outputs": [
        {
          "output_type": "stream",
          "name": "stdout",
          "text": [
            "┌────────┬──────────┬────────────┬─────────┬───────┐\n",
            "│ type   │    score │ word       │   start │   end │\n",
            "├────────┼──────────┼────────────┼─────────┼───────┤\n",
            "│ PER    │ 0.996371 │ V          │       4 │     5 │\n",
            "│ PER    │ 0.969254 │ L. K. Y. I │      31 │    38 │\n",
            "│ MISC   │ 0.523102 │ K          │      33 │    34 │\n",
            "└────────┴──────────┴────────────┴─────────┴───────┘\n"
          ]
        }
      ]
    },
    {
      "cell_type": "markdown",
      "source": [
        "Als Rec. ist LKYI MISC mit Verfasser nicht. 🤔"
      ],
      "metadata": {
        "id": "9Nl_MHlMd1lE"
      }
    },
    {
      "cell_type": "code",
      "source": [
        "x = ner(\"D. Hr. Verf. betrachtet den Text von L.K.Y.I. aus der vorhergehenden Ausgabe.\", print_table=True)"
      ],
      "metadata": {
        "colab": {
          "base_uri": "https://localhost:8080/"
        },
        "id": "l1KKNhBZdu_f",
        "outputId": "8b0e724b-2909-4d0b-a105-6bb4d5294522"
      },
      "execution_count": 30,
      "outputs": [
        {
          "output_type": "stream",
          "name": "stdout",
          "text": [
            "┌────────┬──────────┬────────────┬─────────┬───────┐\n",
            "│ type   │    score │ word       │   start │   end │\n",
            "├────────┼──────────┼────────────┼─────────┼───────┤\n",
            "│ PER    │ 0.993812 │ Hr. Verf.  │       3 │    12 │\n",
            "│ MISC   │ 0.554557 │ L. K. Y.   │      37 │    43 │\n",
            "│ PER    │ 0.978283 │ L. K. Y. I │      37 │    44 │\n",
            "└────────┴──────────┴────────────┴─────────┴───────┘\n"
          ]
        }
      ]
    },
    {
      "cell_type": "markdown",
      "source": [
        "Confusion matrix:\n",
        "\n",
        "* we've got 3 classes: `O`, `B-PER`, `I-PER`\n",
        "* transform to `O` and `PER` → treat as **binary classification** matrix by summarising `B-PER` and `I-PER` in same class \"`PER`\".\n",
        "\n",
        "**How do we count? Is our unit a word, tokens, something else?**\n",
        "\n",
        "```\n",
        "Kantsche Theorie\n",
        "PPPP------------\n",
        "\n",
        "Daniels Dominik\n",
        "PPPPPPP-PPPPPPP\n",
        "BIIIIII-BIIIIII\n",
        "```"
      ],
      "metadata": {
        "id": "l81SoBfCf3Jv"
      }
    },
    {
      "cell_type": "markdown",
      "source": [
        "Todos\n",
        "\n",
        "* create an index of persons and the pages they're mentioned on\n",
        "* adds an outlook for other tasks on the manual labour to be done after automatic index creation (PER is class with most data)\n",
        "* transform automatic annotations (step4) to LATEX format (OCR files) and XML\n",
        "* Write thesis"
      ],
      "metadata": {
        "id": "z585myu9jvmp"
      }
    },
    {
      "cell_type": "code",
      "source": [
        "tokeniser(\"Kantsche Theorie\")"
      ],
      "metadata": {
        "colab": {
          "base_uri": "https://localhost:8080/"
        },
        "id": "VxHPvYLTeQKv",
        "outputId": "02043705-b252-478e-8a4f-49c98114b857"
      },
      "execution_count": 34,
      "outputs": [
        {
          "output_type": "execute_result",
          "data": {
            "text/plain": [
              "{'input_ids': [2, 24626, 3040, 922, 12942, 3], 'token_type_ids': [0, 0, 0, 0, 0, 0], 'attention_mask': [1, 1, 1, 1, 1, 1]}"
            ]
          },
          "metadata": {},
          "execution_count": 34
        }
      ]
    },
    {
      "cell_type": "code",
      "source": [
        "tokeniser(\"Kantsche\")"
      ],
      "metadata": {
        "colab": {
          "base_uri": "https://localhost:8080/"
        },
        "id": "TK6n0r7FggDE",
        "outputId": "29ccc846-b64a-4545-f647-9567255bed38"
      },
      "execution_count": 35,
      "outputs": [
        {
          "output_type": "execute_result",
          "data": {
            "text/plain": [
              "{'input_ids': [2, 24626, 3040, 3], 'token_type_ids': [0, 0, 0, 0], 'attention_mask': [1, 1, 1, 1]}"
            ]
          },
          "metadata": {},
          "execution_count": 35
        }
      ]
    },
    {
      "cell_type": "code",
      "source": [],
      "metadata": {
        "id": "2ikCqMswgp3s"
      },
      "execution_count": null,
      "outputs": []
    }
  ],
  "metadata": {
    "kernelspec": {
      "display_name": "kediff",
      "language": "python",
      "name": "python3"
    },
    "language_info": {
      "codemirror_mode": {
        "name": "ipython",
        "version": 3
      },
      "file_extension": ".py",
      "mimetype": "text/x-python",
      "name": "python",
      "nbconvert_exporter": "python",
      "pygments_lexer": "ipython3",
      "version": "3.9.16"
    },
    "colab": {
      "provenance": []
    },
    "widgets": {
      "application/vnd.jupyter.widget-state+json": {
        "688df19704d44f2f8fd1efcf8ac67e97": {
          "model_module": "@jupyter-widgets/controls",
          "model_name": "HBoxModel",
          "model_module_version": "1.5.0",
          "state": {
            "_dom_classes": [],
            "_model_module": "@jupyter-widgets/controls",
            "_model_module_version": "1.5.0",
            "_model_name": "HBoxModel",
            "_view_count": null,
            "_view_module": "@jupyter-widgets/controls",
            "_view_module_version": "1.5.0",
            "_view_name": "HBoxView",
            "box_style": "",
            "children": [
              "IPY_MODEL_54b91e0929f143c798ef9f83a442667e",
              "IPY_MODEL_ed553848e51c4e668cbb2ec7070befb0",
              "IPY_MODEL_3e1411d58a674c3b98db0c98e146f503"
            ],
            "layout": "IPY_MODEL_7f36a8cd03a046dab571768f7e4910f3"
          }
        },
        "54b91e0929f143c798ef9f83a442667e": {
          "model_module": "@jupyter-widgets/controls",
          "model_name": "HTMLModel",
          "model_module_version": "1.5.0",
          "state": {
            "_dom_classes": [],
            "_model_module": "@jupyter-widgets/controls",
            "_model_module_version": "1.5.0",
            "_model_name": "HTMLModel",
            "_view_count": null,
            "_view_module": "@jupyter-widgets/controls",
            "_view_module_version": "1.5.0",
            "_view_name": "HTMLView",
            "description": "",
            "description_tooltip": null,
            "layout": "IPY_MODEL_6cc399bd72a0423eb32d0dabcee1659a",
            "placeholder": "​",
            "style": "IPY_MODEL_05d1538e2be64587a25e60e58a1f6e51",
            "value": "tokenizer_config.json: 100%"
          }
        },
        "ed553848e51c4e668cbb2ec7070befb0": {
          "model_module": "@jupyter-widgets/controls",
          "model_name": "FloatProgressModel",
          "model_module_version": "1.5.0",
          "state": {
            "_dom_classes": [],
            "_model_module": "@jupyter-widgets/controls",
            "_model_module_version": "1.5.0",
            "_model_name": "FloatProgressModel",
            "_view_count": null,
            "_view_module": "@jupyter-widgets/controls",
            "_view_module_version": "1.5.0",
            "_view_name": "ProgressView",
            "bar_style": "success",
            "description": "",
            "description_tooltip": null,
            "layout": "IPY_MODEL_365cc0fd932f4025b206f7758ba687cf",
            "max": 83,
            "min": 0,
            "orientation": "horizontal",
            "style": "IPY_MODEL_a20ff07803ea42a48915a3ce2b1248e3",
            "value": 83
          }
        },
        "3e1411d58a674c3b98db0c98e146f503": {
          "model_module": "@jupyter-widgets/controls",
          "model_name": "HTMLModel",
          "model_module_version": "1.5.0",
          "state": {
            "_dom_classes": [],
            "_model_module": "@jupyter-widgets/controls",
            "_model_module_version": "1.5.0",
            "_model_name": "HTMLModel",
            "_view_count": null,
            "_view_module": "@jupyter-widgets/controls",
            "_view_module_version": "1.5.0",
            "_view_name": "HTMLView",
            "description": "",
            "description_tooltip": null,
            "layout": "IPY_MODEL_eda36cbe824844beafe3d9ac1fe52df2",
            "placeholder": "​",
            "style": "IPY_MODEL_2f25cf39e28046ce820a42bd49bce1a6",
            "value": " 83.0/83.0 [00:00&lt;00:00, 4.42kB/s]"
          }
        },
        "7f36a8cd03a046dab571768f7e4910f3": {
          "model_module": "@jupyter-widgets/base",
          "model_name": "LayoutModel",
          "model_module_version": "1.2.0",
          "state": {
            "_model_module": "@jupyter-widgets/base",
            "_model_module_version": "1.2.0",
            "_model_name": "LayoutModel",
            "_view_count": null,
            "_view_module": "@jupyter-widgets/base",
            "_view_module_version": "1.2.0",
            "_view_name": "LayoutView",
            "align_content": null,
            "align_items": null,
            "align_self": null,
            "border": null,
            "bottom": null,
            "display": null,
            "flex": null,
            "flex_flow": null,
            "grid_area": null,
            "grid_auto_columns": null,
            "grid_auto_flow": null,
            "grid_auto_rows": null,
            "grid_column": null,
            "grid_gap": null,
            "grid_row": null,
            "grid_template_areas": null,
            "grid_template_columns": null,
            "grid_template_rows": null,
            "height": null,
            "justify_content": null,
            "justify_items": null,
            "left": null,
            "margin": null,
            "max_height": null,
            "max_width": null,
            "min_height": null,
            "min_width": null,
            "object_fit": null,
            "object_position": null,
            "order": null,
            "overflow": null,
            "overflow_x": null,
            "overflow_y": null,
            "padding": null,
            "right": null,
            "top": null,
            "visibility": null,
            "width": null
          }
        },
        "6cc399bd72a0423eb32d0dabcee1659a": {
          "model_module": "@jupyter-widgets/base",
          "model_name": "LayoutModel",
          "model_module_version": "1.2.0",
          "state": {
            "_model_module": "@jupyter-widgets/base",
            "_model_module_version": "1.2.0",
            "_model_name": "LayoutModel",
            "_view_count": null,
            "_view_module": "@jupyter-widgets/base",
            "_view_module_version": "1.2.0",
            "_view_name": "LayoutView",
            "align_content": null,
            "align_items": null,
            "align_self": null,
            "border": null,
            "bottom": null,
            "display": null,
            "flex": null,
            "flex_flow": null,
            "grid_area": null,
            "grid_auto_columns": null,
            "grid_auto_flow": null,
            "grid_auto_rows": null,
            "grid_column": null,
            "grid_gap": null,
            "grid_row": null,
            "grid_template_areas": null,
            "grid_template_columns": null,
            "grid_template_rows": null,
            "height": null,
            "justify_content": null,
            "justify_items": null,
            "left": null,
            "margin": null,
            "max_height": null,
            "max_width": null,
            "min_height": null,
            "min_width": null,
            "object_fit": null,
            "object_position": null,
            "order": null,
            "overflow": null,
            "overflow_x": null,
            "overflow_y": null,
            "padding": null,
            "right": null,
            "top": null,
            "visibility": null,
            "width": null
          }
        },
        "05d1538e2be64587a25e60e58a1f6e51": {
          "model_module": "@jupyter-widgets/controls",
          "model_name": "DescriptionStyleModel",
          "model_module_version": "1.5.0",
          "state": {
            "_model_module": "@jupyter-widgets/controls",
            "_model_module_version": "1.5.0",
            "_model_name": "DescriptionStyleModel",
            "_view_count": null,
            "_view_module": "@jupyter-widgets/base",
            "_view_module_version": "1.2.0",
            "_view_name": "StyleView",
            "description_width": ""
          }
        },
        "365cc0fd932f4025b206f7758ba687cf": {
          "model_module": "@jupyter-widgets/base",
          "model_name": "LayoutModel",
          "model_module_version": "1.2.0",
          "state": {
            "_model_module": "@jupyter-widgets/base",
            "_model_module_version": "1.2.0",
            "_model_name": "LayoutModel",
            "_view_count": null,
            "_view_module": "@jupyter-widgets/base",
            "_view_module_version": "1.2.0",
            "_view_name": "LayoutView",
            "align_content": null,
            "align_items": null,
            "align_self": null,
            "border": null,
            "bottom": null,
            "display": null,
            "flex": null,
            "flex_flow": null,
            "grid_area": null,
            "grid_auto_columns": null,
            "grid_auto_flow": null,
            "grid_auto_rows": null,
            "grid_column": null,
            "grid_gap": null,
            "grid_row": null,
            "grid_template_areas": null,
            "grid_template_columns": null,
            "grid_template_rows": null,
            "height": null,
            "justify_content": null,
            "justify_items": null,
            "left": null,
            "margin": null,
            "max_height": null,
            "max_width": null,
            "min_height": null,
            "min_width": null,
            "object_fit": null,
            "object_position": null,
            "order": null,
            "overflow": null,
            "overflow_x": null,
            "overflow_y": null,
            "padding": null,
            "right": null,
            "top": null,
            "visibility": null,
            "width": null
          }
        },
        "a20ff07803ea42a48915a3ce2b1248e3": {
          "model_module": "@jupyter-widgets/controls",
          "model_name": "ProgressStyleModel",
          "model_module_version": "1.5.0",
          "state": {
            "_model_module": "@jupyter-widgets/controls",
            "_model_module_version": "1.5.0",
            "_model_name": "ProgressStyleModel",
            "_view_count": null,
            "_view_module": "@jupyter-widgets/base",
            "_view_module_version": "1.2.0",
            "_view_name": "StyleView",
            "bar_color": null,
            "description_width": ""
          }
        },
        "eda36cbe824844beafe3d9ac1fe52df2": {
          "model_module": "@jupyter-widgets/base",
          "model_name": "LayoutModel",
          "model_module_version": "1.2.0",
          "state": {
            "_model_module": "@jupyter-widgets/base",
            "_model_module_version": "1.2.0",
            "_model_name": "LayoutModel",
            "_view_count": null,
            "_view_module": "@jupyter-widgets/base",
            "_view_module_version": "1.2.0",
            "_view_name": "LayoutView",
            "align_content": null,
            "align_items": null,
            "align_self": null,
            "border": null,
            "bottom": null,
            "display": null,
            "flex": null,
            "flex_flow": null,
            "grid_area": null,
            "grid_auto_columns": null,
            "grid_auto_flow": null,
            "grid_auto_rows": null,
            "grid_column": null,
            "grid_gap": null,
            "grid_row": null,
            "grid_template_areas": null,
            "grid_template_columns": null,
            "grid_template_rows": null,
            "height": null,
            "justify_content": null,
            "justify_items": null,
            "left": null,
            "margin": null,
            "max_height": null,
            "max_width": null,
            "min_height": null,
            "min_width": null,
            "object_fit": null,
            "object_position": null,
            "order": null,
            "overflow": null,
            "overflow_x": null,
            "overflow_y": null,
            "padding": null,
            "right": null,
            "top": null,
            "visibility": null,
            "width": null
          }
        },
        "2f25cf39e28046ce820a42bd49bce1a6": {
          "model_module": "@jupyter-widgets/controls",
          "model_name": "DescriptionStyleModel",
          "model_module_version": "1.5.0",
          "state": {
            "_model_module": "@jupyter-widgets/controls",
            "_model_module_version": "1.5.0",
            "_model_name": "DescriptionStyleModel",
            "_view_count": null,
            "_view_module": "@jupyter-widgets/base",
            "_view_module_version": "1.2.0",
            "_view_name": "StyleView",
            "description_width": ""
          }
        },
        "db8b217254cb4015bb83af4043875b10": {
          "model_module": "@jupyter-widgets/controls",
          "model_name": "HBoxModel",
          "model_module_version": "1.5.0",
          "state": {
            "_dom_classes": [],
            "_model_module": "@jupyter-widgets/controls",
            "_model_module_version": "1.5.0",
            "_model_name": "HBoxModel",
            "_view_count": null,
            "_view_module": "@jupyter-widgets/controls",
            "_view_module_version": "1.5.0",
            "_view_name": "HBoxView",
            "box_style": "",
            "children": [
              "IPY_MODEL_81a48247e3b84f89802a5cd94789d54d",
              "IPY_MODEL_d3f4fcfd759c4350a9dd4490b36ad285",
              "IPY_MODEL_7fee7777eebc45c5a8c5b120c8144c28"
            ],
            "layout": "IPY_MODEL_c47abc7f52024f29aecbd56c230bec61"
          }
        },
        "81a48247e3b84f89802a5cd94789d54d": {
          "model_module": "@jupyter-widgets/controls",
          "model_name": "HTMLModel",
          "model_module_version": "1.5.0",
          "state": {
            "_dom_classes": [],
            "_model_module": "@jupyter-widgets/controls",
            "_model_module_version": "1.5.0",
            "_model_name": "HTMLModel",
            "_view_count": null,
            "_view_module": "@jupyter-widgets/controls",
            "_view_module_version": "1.5.0",
            "_view_name": "HTMLView",
            "description": "",
            "description_tooltip": null,
            "layout": "IPY_MODEL_9b8a09feba9a47b1a2bae49251c33861",
            "placeholder": "​",
            "style": "IPY_MODEL_46f4b1440ecc495eb615ec8ee0d0b451",
            "value": "config.json: 100%"
          }
        },
        "d3f4fcfd759c4350a9dd4490b36ad285": {
          "model_module": "@jupyter-widgets/controls",
          "model_name": "FloatProgressModel",
          "model_module_version": "1.5.0",
          "state": {
            "_dom_classes": [],
            "_model_module": "@jupyter-widgets/controls",
            "_model_module_version": "1.5.0",
            "_model_name": "FloatProgressModel",
            "_view_count": null,
            "_view_module": "@jupyter-widgets/controls",
            "_view_module_version": "1.5.0",
            "_view_name": "ProgressView",
            "bar_style": "success",
            "description": "",
            "description_tooltip": null,
            "layout": "IPY_MODEL_b1cfea78665547f987debd5406fe8c99",
            "max": 561,
            "min": 0,
            "orientation": "horizontal",
            "style": "IPY_MODEL_5a6a45b75c6044648ec084a3074abcef",
            "value": 561
          }
        },
        "7fee7777eebc45c5a8c5b120c8144c28": {
          "model_module": "@jupyter-widgets/controls",
          "model_name": "HTMLModel",
          "model_module_version": "1.5.0",
          "state": {
            "_dom_classes": [],
            "_model_module": "@jupyter-widgets/controls",
            "_model_module_version": "1.5.0",
            "_model_name": "HTMLModel",
            "_view_count": null,
            "_view_module": "@jupyter-widgets/controls",
            "_view_module_version": "1.5.0",
            "_view_name": "HTMLView",
            "description": "",
            "description_tooltip": null,
            "layout": "IPY_MODEL_8b122aa19f974a25adc5b02297a69997",
            "placeholder": "​",
            "style": "IPY_MODEL_16a3e18560f34c17b5588b242b5fd184",
            "value": " 561/561 [00:00&lt;00:00, 25.4kB/s]"
          }
        },
        "c47abc7f52024f29aecbd56c230bec61": {
          "model_module": "@jupyter-widgets/base",
          "model_name": "LayoutModel",
          "model_module_version": "1.2.0",
          "state": {
            "_model_module": "@jupyter-widgets/base",
            "_model_module_version": "1.2.0",
            "_model_name": "LayoutModel",
            "_view_count": null,
            "_view_module": "@jupyter-widgets/base",
            "_view_module_version": "1.2.0",
            "_view_name": "LayoutView",
            "align_content": null,
            "align_items": null,
            "align_self": null,
            "border": null,
            "bottom": null,
            "display": null,
            "flex": null,
            "flex_flow": null,
            "grid_area": null,
            "grid_auto_columns": null,
            "grid_auto_flow": null,
            "grid_auto_rows": null,
            "grid_column": null,
            "grid_gap": null,
            "grid_row": null,
            "grid_template_areas": null,
            "grid_template_columns": null,
            "grid_template_rows": null,
            "height": null,
            "justify_content": null,
            "justify_items": null,
            "left": null,
            "margin": null,
            "max_height": null,
            "max_width": null,
            "min_height": null,
            "min_width": null,
            "object_fit": null,
            "object_position": null,
            "order": null,
            "overflow": null,
            "overflow_x": null,
            "overflow_y": null,
            "padding": null,
            "right": null,
            "top": null,
            "visibility": null,
            "width": null
          }
        },
        "9b8a09feba9a47b1a2bae49251c33861": {
          "model_module": "@jupyter-widgets/base",
          "model_name": "LayoutModel",
          "model_module_version": "1.2.0",
          "state": {
            "_model_module": "@jupyter-widgets/base",
            "_model_module_version": "1.2.0",
            "_model_name": "LayoutModel",
            "_view_count": null,
            "_view_module": "@jupyter-widgets/base",
            "_view_module_version": "1.2.0",
            "_view_name": "LayoutView",
            "align_content": null,
            "align_items": null,
            "align_self": null,
            "border": null,
            "bottom": null,
            "display": null,
            "flex": null,
            "flex_flow": null,
            "grid_area": null,
            "grid_auto_columns": null,
            "grid_auto_flow": null,
            "grid_auto_rows": null,
            "grid_column": null,
            "grid_gap": null,
            "grid_row": null,
            "grid_template_areas": null,
            "grid_template_columns": null,
            "grid_template_rows": null,
            "height": null,
            "justify_content": null,
            "justify_items": null,
            "left": null,
            "margin": null,
            "max_height": null,
            "max_width": null,
            "min_height": null,
            "min_width": null,
            "object_fit": null,
            "object_position": null,
            "order": null,
            "overflow": null,
            "overflow_x": null,
            "overflow_y": null,
            "padding": null,
            "right": null,
            "top": null,
            "visibility": null,
            "width": null
          }
        },
        "46f4b1440ecc495eb615ec8ee0d0b451": {
          "model_module": "@jupyter-widgets/controls",
          "model_name": "DescriptionStyleModel",
          "model_module_version": "1.5.0",
          "state": {
            "_model_module": "@jupyter-widgets/controls",
            "_model_module_version": "1.5.0",
            "_model_name": "DescriptionStyleModel",
            "_view_count": null,
            "_view_module": "@jupyter-widgets/base",
            "_view_module_version": "1.2.0",
            "_view_name": "StyleView",
            "description_width": ""
          }
        },
        "b1cfea78665547f987debd5406fe8c99": {
          "model_module": "@jupyter-widgets/base",
          "model_name": "LayoutModel",
          "model_module_version": "1.2.0",
          "state": {
            "_model_module": "@jupyter-widgets/base",
            "_model_module_version": "1.2.0",
            "_model_name": "LayoutModel",
            "_view_count": null,
            "_view_module": "@jupyter-widgets/base",
            "_view_module_version": "1.2.0",
            "_view_name": "LayoutView",
            "align_content": null,
            "align_items": null,
            "align_self": null,
            "border": null,
            "bottom": null,
            "display": null,
            "flex": null,
            "flex_flow": null,
            "grid_area": null,
            "grid_auto_columns": null,
            "grid_auto_flow": null,
            "grid_auto_rows": null,
            "grid_column": null,
            "grid_gap": null,
            "grid_row": null,
            "grid_template_areas": null,
            "grid_template_columns": null,
            "grid_template_rows": null,
            "height": null,
            "justify_content": null,
            "justify_items": null,
            "left": null,
            "margin": null,
            "max_height": null,
            "max_width": null,
            "min_height": null,
            "min_width": null,
            "object_fit": null,
            "object_position": null,
            "order": null,
            "overflow": null,
            "overflow_x": null,
            "overflow_y": null,
            "padding": null,
            "right": null,
            "top": null,
            "visibility": null,
            "width": null
          }
        },
        "5a6a45b75c6044648ec084a3074abcef": {
          "model_module": "@jupyter-widgets/controls",
          "model_name": "ProgressStyleModel",
          "model_module_version": "1.5.0",
          "state": {
            "_model_module": "@jupyter-widgets/controls",
            "_model_module_version": "1.5.0",
            "_model_name": "ProgressStyleModel",
            "_view_count": null,
            "_view_module": "@jupyter-widgets/base",
            "_view_module_version": "1.2.0",
            "_view_name": "StyleView",
            "bar_color": null,
            "description_width": ""
          }
        },
        "8b122aa19f974a25adc5b02297a69997": {
          "model_module": "@jupyter-widgets/base",
          "model_name": "LayoutModel",
          "model_module_version": "1.2.0",
          "state": {
            "_model_module": "@jupyter-widgets/base",
            "_model_module_version": "1.2.0",
            "_model_name": "LayoutModel",
            "_view_count": null,
            "_view_module": "@jupyter-widgets/base",
            "_view_module_version": "1.2.0",
            "_view_name": "LayoutView",
            "align_content": null,
            "align_items": null,
            "align_self": null,
            "border": null,
            "bottom": null,
            "display": null,
            "flex": null,
            "flex_flow": null,
            "grid_area": null,
            "grid_auto_columns": null,
            "grid_auto_flow": null,
            "grid_auto_rows": null,
            "grid_column": null,
            "grid_gap": null,
            "grid_row": null,
            "grid_template_areas": null,
            "grid_template_columns": null,
            "grid_template_rows": null,
            "height": null,
            "justify_content": null,
            "justify_items": null,
            "left": null,
            "margin": null,
            "max_height": null,
            "max_width": null,
            "min_height": null,
            "min_width": null,
            "object_fit": null,
            "object_position": null,
            "order": null,
            "overflow": null,
            "overflow_x": null,
            "overflow_y": null,
            "padding": null,
            "right": null,
            "top": null,
            "visibility": null,
            "width": null
          }
        },
        "16a3e18560f34c17b5588b242b5fd184": {
          "model_module": "@jupyter-widgets/controls",
          "model_name": "DescriptionStyleModel",
          "model_module_version": "1.5.0",
          "state": {
            "_model_module": "@jupyter-widgets/controls",
            "_model_module_version": "1.5.0",
            "_model_name": "DescriptionStyleModel",
            "_view_count": null,
            "_view_module": "@jupyter-widgets/base",
            "_view_module_version": "1.2.0",
            "_view_name": "StyleView",
            "description_width": ""
          }
        },
        "abfaf55d1f0a497b8e2b3b735b388cff": {
          "model_module": "@jupyter-widgets/controls",
          "model_name": "HBoxModel",
          "model_module_version": "1.5.0",
          "state": {
            "_dom_classes": [],
            "_model_module": "@jupyter-widgets/controls",
            "_model_module_version": "1.5.0",
            "_model_name": "HBoxModel",
            "_view_count": null,
            "_view_module": "@jupyter-widgets/controls",
            "_view_module_version": "1.5.0",
            "_view_name": "HBoxView",
            "box_style": "",
            "children": [
              "IPY_MODEL_05bf268e8fe049e1980faf939ff1e76c",
              "IPY_MODEL_019f78fcbd9d4b91913438f3723b6b85",
              "IPY_MODEL_f09e874ee1d0463dbf3449f00c636486"
            ],
            "layout": "IPY_MODEL_5794dd92055647029be62887a362d281"
          }
        },
        "05bf268e8fe049e1980faf939ff1e76c": {
          "model_module": "@jupyter-widgets/controls",
          "model_name": "HTMLModel",
          "model_module_version": "1.5.0",
          "state": {
            "_dom_classes": [],
            "_model_module": "@jupyter-widgets/controls",
            "_model_module_version": "1.5.0",
            "_model_name": "HTMLModel",
            "_view_count": null,
            "_view_module": "@jupyter-widgets/controls",
            "_view_module_version": "1.5.0",
            "_view_name": "HTMLView",
            "description": "",
            "description_tooltip": null,
            "layout": "IPY_MODEL_ff8c37ae92684346a719d83eaae13550",
            "placeholder": "​",
            "style": "IPY_MODEL_0fbf669d72d64b0fa2b3068391e3e9fe",
            "value": "vocab.txt: 100%"
          }
        },
        "019f78fcbd9d4b91913438f3723b6b85": {
          "model_module": "@jupyter-widgets/controls",
          "model_name": "FloatProgressModel",
          "model_module_version": "1.5.0",
          "state": {
            "_dom_classes": [],
            "_model_module": "@jupyter-widgets/controls",
            "_model_module_version": "1.5.0",
            "_model_name": "FloatProgressModel",
            "_view_count": null,
            "_view_module": "@jupyter-widgets/controls",
            "_view_module_version": "1.5.0",
            "_view_name": "ProgressView",
            "bar_style": "success",
            "description": "",
            "description_tooltip": null,
            "layout": "IPY_MODEL_9d7438f8e74f4da5a61bdd7fc9ceb998",
            "max": 212157,
            "min": 0,
            "orientation": "horizontal",
            "style": "IPY_MODEL_29362417e7fc453eb648a4c86f0110e2",
            "value": 212157
          }
        },
        "f09e874ee1d0463dbf3449f00c636486": {
          "model_module": "@jupyter-widgets/controls",
          "model_name": "HTMLModel",
          "model_module_version": "1.5.0",
          "state": {
            "_dom_classes": [],
            "_model_module": "@jupyter-widgets/controls",
            "_model_module_version": "1.5.0",
            "_model_name": "HTMLModel",
            "_view_count": null,
            "_view_module": "@jupyter-widgets/controls",
            "_view_module_version": "1.5.0",
            "_view_name": "HTMLView",
            "description": "",
            "description_tooltip": null,
            "layout": "IPY_MODEL_512abe53959c407fa442cc57f4706b0b",
            "placeholder": "​",
            "style": "IPY_MODEL_7f7fbb81d98940dba3ae84f6b15a40c3",
            "value": " 212k/212k [00:00&lt;00:00, 4.43MB/s]"
          }
        },
        "5794dd92055647029be62887a362d281": {
          "model_module": "@jupyter-widgets/base",
          "model_name": "LayoutModel",
          "model_module_version": "1.2.0",
          "state": {
            "_model_module": "@jupyter-widgets/base",
            "_model_module_version": "1.2.0",
            "_model_name": "LayoutModel",
            "_view_count": null,
            "_view_module": "@jupyter-widgets/base",
            "_view_module_version": "1.2.0",
            "_view_name": "LayoutView",
            "align_content": null,
            "align_items": null,
            "align_self": null,
            "border": null,
            "bottom": null,
            "display": null,
            "flex": null,
            "flex_flow": null,
            "grid_area": null,
            "grid_auto_columns": null,
            "grid_auto_flow": null,
            "grid_auto_rows": null,
            "grid_column": null,
            "grid_gap": null,
            "grid_row": null,
            "grid_template_areas": null,
            "grid_template_columns": null,
            "grid_template_rows": null,
            "height": null,
            "justify_content": null,
            "justify_items": null,
            "left": null,
            "margin": null,
            "max_height": null,
            "max_width": null,
            "min_height": null,
            "min_width": null,
            "object_fit": null,
            "object_position": null,
            "order": null,
            "overflow": null,
            "overflow_x": null,
            "overflow_y": null,
            "padding": null,
            "right": null,
            "top": null,
            "visibility": null,
            "width": null
          }
        },
        "ff8c37ae92684346a719d83eaae13550": {
          "model_module": "@jupyter-widgets/base",
          "model_name": "LayoutModel",
          "model_module_version": "1.2.0",
          "state": {
            "_model_module": "@jupyter-widgets/base",
            "_model_module_version": "1.2.0",
            "_model_name": "LayoutModel",
            "_view_count": null,
            "_view_module": "@jupyter-widgets/base",
            "_view_module_version": "1.2.0",
            "_view_name": "LayoutView",
            "align_content": null,
            "align_items": null,
            "align_self": null,
            "border": null,
            "bottom": null,
            "display": null,
            "flex": null,
            "flex_flow": null,
            "grid_area": null,
            "grid_auto_columns": null,
            "grid_auto_flow": null,
            "grid_auto_rows": null,
            "grid_column": null,
            "grid_gap": null,
            "grid_row": null,
            "grid_template_areas": null,
            "grid_template_columns": null,
            "grid_template_rows": null,
            "height": null,
            "justify_content": null,
            "justify_items": null,
            "left": null,
            "margin": null,
            "max_height": null,
            "max_width": null,
            "min_height": null,
            "min_width": null,
            "object_fit": null,
            "object_position": null,
            "order": null,
            "overflow": null,
            "overflow_x": null,
            "overflow_y": null,
            "padding": null,
            "right": null,
            "top": null,
            "visibility": null,
            "width": null
          }
        },
        "0fbf669d72d64b0fa2b3068391e3e9fe": {
          "model_module": "@jupyter-widgets/controls",
          "model_name": "DescriptionStyleModel",
          "model_module_version": "1.5.0",
          "state": {
            "_model_module": "@jupyter-widgets/controls",
            "_model_module_version": "1.5.0",
            "_model_name": "DescriptionStyleModel",
            "_view_count": null,
            "_view_module": "@jupyter-widgets/base",
            "_view_module_version": "1.2.0",
            "_view_name": "StyleView",
            "description_width": ""
          }
        },
        "9d7438f8e74f4da5a61bdd7fc9ceb998": {
          "model_module": "@jupyter-widgets/base",
          "model_name": "LayoutModel",
          "model_module_version": "1.2.0",
          "state": {
            "_model_module": "@jupyter-widgets/base",
            "_model_module_version": "1.2.0",
            "_model_name": "LayoutModel",
            "_view_count": null,
            "_view_module": "@jupyter-widgets/base",
            "_view_module_version": "1.2.0",
            "_view_name": "LayoutView",
            "align_content": null,
            "align_items": null,
            "align_self": null,
            "border": null,
            "bottom": null,
            "display": null,
            "flex": null,
            "flex_flow": null,
            "grid_area": null,
            "grid_auto_columns": null,
            "grid_auto_flow": null,
            "grid_auto_rows": null,
            "grid_column": null,
            "grid_gap": null,
            "grid_row": null,
            "grid_template_areas": null,
            "grid_template_columns": null,
            "grid_template_rows": null,
            "height": null,
            "justify_content": null,
            "justify_items": null,
            "left": null,
            "margin": null,
            "max_height": null,
            "max_width": null,
            "min_height": null,
            "min_width": null,
            "object_fit": null,
            "object_position": null,
            "order": null,
            "overflow": null,
            "overflow_x": null,
            "overflow_y": null,
            "padding": null,
            "right": null,
            "top": null,
            "visibility": null,
            "width": null
          }
        },
        "29362417e7fc453eb648a4c86f0110e2": {
          "model_module": "@jupyter-widgets/controls",
          "model_name": "ProgressStyleModel",
          "model_module_version": "1.5.0",
          "state": {
            "_model_module": "@jupyter-widgets/controls",
            "_model_module_version": "1.5.0",
            "_model_name": "ProgressStyleModel",
            "_view_count": null,
            "_view_module": "@jupyter-widgets/base",
            "_view_module_version": "1.2.0",
            "_view_name": "StyleView",
            "bar_color": null,
            "description_width": ""
          }
        },
        "512abe53959c407fa442cc57f4706b0b": {
          "model_module": "@jupyter-widgets/base",
          "model_name": "LayoutModel",
          "model_module_version": "1.2.0",
          "state": {
            "_model_module": "@jupyter-widgets/base",
            "_model_module_version": "1.2.0",
            "_model_name": "LayoutModel",
            "_view_count": null,
            "_view_module": "@jupyter-widgets/base",
            "_view_module_version": "1.2.0",
            "_view_name": "LayoutView",
            "align_content": null,
            "align_items": null,
            "align_self": null,
            "border": null,
            "bottom": null,
            "display": null,
            "flex": null,
            "flex_flow": null,
            "grid_area": null,
            "grid_auto_columns": null,
            "grid_auto_flow": null,
            "grid_auto_rows": null,
            "grid_column": null,
            "grid_gap": null,
            "grid_row": null,
            "grid_template_areas": null,
            "grid_template_columns": null,
            "grid_template_rows": null,
            "height": null,
            "justify_content": null,
            "justify_items": null,
            "left": null,
            "margin": null,
            "max_height": null,
            "max_width": null,
            "min_height": null,
            "min_width": null,
            "object_fit": null,
            "object_position": null,
            "order": null,
            "overflow": null,
            "overflow_x": null,
            "overflow_y": null,
            "padding": null,
            "right": null,
            "top": null,
            "visibility": null,
            "width": null
          }
        },
        "7f7fbb81d98940dba3ae84f6b15a40c3": {
          "model_module": "@jupyter-widgets/controls",
          "model_name": "DescriptionStyleModel",
          "model_module_version": "1.5.0",
          "state": {
            "_model_module": "@jupyter-widgets/controls",
            "_model_module_version": "1.5.0",
            "_model_name": "DescriptionStyleModel",
            "_view_count": null,
            "_view_module": "@jupyter-widgets/base",
            "_view_module_version": "1.2.0",
            "_view_name": "StyleView",
            "description_width": ""
          }
        }
      }
    }
  },
  "nbformat": 4,
  "nbformat_minor": 0
}