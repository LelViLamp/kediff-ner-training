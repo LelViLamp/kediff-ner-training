{
 "cells": [
  {
   "cell_type": "markdown",
   "source": [
    "Please note that this notebook is the basis for an importable class stored in `kediff_ner_system.py`. Subsequent notebooks or classes **will use that script**, while the present notebook only served for constructing that class. ⚠️"
   ],
   "metadata": {
    "id": "mPzXexGYZiFT"
   }
  },
  {
   "cell_type": "markdown",
   "source": [
    "# Load'n'Import"
   ],
   "metadata": {
    "id": "_QktKKNVO6-W"
   }
  },
  {
   "cell_type": "markdown",
   "source": [
    "## Packages"
   ],
   "metadata": {
    "id": "bruBNkksd-pc"
   }
  },
  {
   "cell_type": "code",
   "metadata": {
    "id": "NAi-XWD5FBo0"
   },
   "source": [
    "import os\n",
    "from typing import Union\n",
    "\n",
    "import tabulate\n",
    "from tqdm import tqdm\n",
    "from transformers import AutoTokenizer, BatchEncoding, BertTokenizerFast, TokenClassificationPipeline"
   ],
   "outputs": [],
   "execution_count": null
  },
  {
   "cell_type": "markdown",
   "source": [
    "## Define `DATA_DIR`"
   ],
   "metadata": {
    "id": "uIh-FIkYO98l"
   }
  },
  {
   "cell_type": "code",
   "metadata": {
    "colab": {
     "base_uri": "https://localhost:8080/"
    },
    "id": "OEr0F9QJFBpA",
    "outputId": "41e8aca2-96a8-44f1-ae45-9497aa2b6d7a"
   },
   "source": [
    "DATA_DIR: str\n",
    "try:\n",
    "    from google.colab import drive\n",
    "\n",
    "    print(\n",
    "        \"You work on Colab. Gentle as we are, we will mount Drive for you. \"\n",
    "        \"It'd help if you allowed this in the popup that opens.\"\n",
    "    )\n",
    "    drive.mount('/content/drive')\n",
    "    DATA_DIR = os.path.join('drive', 'MyDrive', 'KEDiff', 'data')\n",
    "except ModuleNotFoundError:\n",
    "    print(\"You do not work on Colab\")\n",
    "    DATA_DIR = os.path.join('data')\n",
    "print(f\"{DATA_DIR=}\", '-->', os.path.abspath(DATA_DIR))"
   ],
   "outputs": [],
   "execution_count": null
  },
  {
   "cell_type": "markdown",
   "source": [
    "## Load _hmBERT_ Tokeniser `dbmdz/bert-base-historic-multilingual-cased`"
   ],
   "metadata": {
    "id": "B0qO-UuOYwuJ"
   }
  },
  {
   "cell_type": "code",
   "metadata": {
    "id": "1UFU---IFBpG"
   },
   "source": [
    "TOKENISER_CHECKPOINT: str = \"dbmdz/bert-base-historic-multilingual-cased\"\n",
    "CHECKPOINT_NAME_BASE: str = \"oalz-1788-q1-ner-\"\n",
    "TRAINED_DIR: str = os.path.join(DATA_DIR, 'trained_models', '2024-01-15')"
   ],
   "outputs": [],
   "execution_count": null
  },
  {
   "cell_type": "code",
   "metadata": {
    "colab": {
     "base_uri": "https://localhost:8080/",
     "height": 403,
     "referenced_widgets": [
      "57dc89258a93491d84b3607c7d134620",
      "d2c1974fef9e4aff9ea6a7a49fcd121a",
      "3b8fa77da3f94503a2c37d71e8a9c6ff",
      "88c1bef7778e4df0b4406cd08bb48bde",
      "0e3a015914064eba9db8e33d35f74800",
      "1538da66b42444edad99a6bbd92fb5a2",
      "c63c48307b3649749a13ad02b3383d74",
      "7f9762e154e94da8bbb47f44f642a76b",
      "7cac9d6b933842048509b3b17efaa7d3",
      "90b6464be54748e6b804bd77c283263b",
      "ff6ef1f2e1d74e9aab12ceaf031f21e4",
      "5433f72da2764100b899fd0b0945624a",
      "1dd5997ff5274373ba298107cef8e40a",
      "95bbf951d653413c82be45c7ce2bfd9d",
      "99acd3c6d2164b40911d78d16111ffe0",
      "dc88a51a0b914761a438637ccfb0a20c",
      "dd352f19df204ef5a52cd84dccab3e0b",
      "dff0641f09b4436abcbdf79ac2547af1",
      "6d4c80a4375c4c4e83a6f303597a6987",
      "a6c971914cd446c0ba944926e74ef582",
      "a497564a43b1451f89cdaa012d6cf95f",
      "abc2adaa9b614f4f91c4be6edb93eb4c",
      "7338ec9512eb4c658f1cd48f712b3226",
      "0f565849bed34eef99367c5041c7acb9",
      "8ba67522d57140c7b2a5b0a8ed20e83a",
      "3b497827a2974c7a9819e8f429f1948e",
      "6f90e28a15a5492db9b405b14bd12b4b",
      "913f9d95c062418f90a70986ee4e0708",
      "d8b1ecf512ba47a6804609cf9f13735f",
      "7a2b4ad1634540b39d523c1fe3674652",
      "9c096bc7e5a248e69201ef09235ddd5c",
      "45bbce1e926045efa56983de9d2053f0",
      "db9745bc2aa94e0c839ebbed9a5408be"
     ]
    },
    "id": "H3wsol8BFBpH",
    "outputId": "a20173c0-cfcd-46de-bfe4-57e27df3158a"
   },
   "source": "tokeniser: BertTokenizerFast = AutoTokenizer.from_pretrained(TOKENISER_CHECKPOINT)",
   "outputs": [],
   "execution_count": null
  },
  {
   "cell_type": "markdown",
   "source": [
    "Test the tokeniser."
   ],
   "metadata": {
    "id": "HGoRJW01Y5-c"
   }
  },
  {
   "cell_type": "code",
   "metadata": {
    "colab": {
     "base_uri": "https://localhost:8080/"
    },
    "id": "_FVFQi1qFBpI",
    "outputId": "6f4bffbd-b2c9-4007-c74d-89435541f715"
   },
   "source": [
    "sample: dict[str, Union[int, str, list[list[Union[int, str]]]]] = {\n",
    "    \"id\": 1003,\n",
    "    \"text\": \"Unter die Gegenden, die den Borkenk\\u00e4fer n\\u00e4hren S. 13 \\u2014 14. geh\\u00f6rt leider auch das Erzstift Salzburg.\",\n",
    "    \"label\": [[82, 99, \"ORG\"], [82, 99, \"LOC\"], [28, 39, \"MISC\"]]\n",
    "}\n",
    "sample"
   ],
   "outputs": [],
   "execution_count": null
  },
  {
   "cell_type": "code",
   "metadata": {
    "colab": {
     "base_uri": "https://localhost:8080/"
    },
    "id": "erdaw3lVFBpL",
    "outputId": "de71f992-62d5-49f6-cbe2-c7728fa9eeb7"
   },
   "source": [
    "x: BatchEncoding = tokeniser(sample['text'])\n",
    "x"
   ],
   "outputs": [],
   "execution_count": null
  },
  {
   "cell_type": "markdown",
   "source": [
    "## Define some sample texts to run NER on"
   ],
   "metadata": {
    "id": "9nrIiKlnY_9P"
   }
  },
  {
   "cell_type": "code",
   "metadata": {
    "id": "LXjBdPexFBpN"
   },
   "source": [
    "sample_texts: list[str] = [\n",
    "    \"(Das hei\\u00dft ab ovo anfangen, wie's jener that, der vom deutschen Gleichgewichte handeln wollte, und von Adam anfieng.)\",\n",
    "    \"Daniel Göller ist der beste Masterstudent Christian Borgelts und sollte eine Ehrenmedaille… medallje… medallie… wie schreibt man das????… sowie eine saftige Sonderzahlung von Herrn Prof. Lehnert, Rektor der Universität zu Salzburg, erhalten, sodass er endlich nach Island reisen und dort in einer Kirche zu Gott beten kann.\",\n",
    "    \"Nun ist die Frage, ob das Modell auch mit Frauennamen umgehen kann, da beim Lesen der Originaltexte ein deutlicher Bias zu Männernamen aufgefallen ist. Und wie es dann wohl mit geschlechtsneutralen Namen aussieht?\",\n",
    "    \"Bundeskanzlerin Brigitte Bierlein führte bis zur Angelobung der Bundesregierung Kurz II nach der vorgezogenen Nationalratswahl im Herbst 2019 die Amtsgeschäfte der Bundesministerien weiter. Vielleicht kennt sie ja auch Angela Merkel?\",\n",
    "    \"Test in Salzburg während der Österreichsichen Aufklärung. In Paris wurden mehrere Menschen aus Deutschland gesichtet.\",\n",
    "    \"den meisten Lesern durch eine ausführliche Beschreibung und Beurtheilung des Wirtembergischen, im katholischen Deutschlande noch immer nicht genug belannten Gesangbuches, einen Gefallen zu erzeigen.\"\n",
    "]"
   ],
   "outputs": [],
   "execution_count": null
  },
  {
   "cell_type": "markdown",
   "source": [
    "## Load NER systems"
   ],
   "metadata": {
    "id": "QqlCTwo5ZDOP"
   }
  },
  {
   "cell_type": "code",
   "metadata": {
    "colab": {
     "base_uri": "https://localhost:8080/"
    },
    "id": "p1MuiHFwFBpO",
    "outputId": "660a0ea9-42d3-44c7-e9f9-6135b515d30a"
   },
   "source": [
    "label_types: list[str] = [\"EVENT\", \"LOC\", \"MISC\", \"ORG\", \"PER\", \"TIME\"]\n",
    "selected_epochs: dict[str, str] = {\n",
    "    \"EVENT\" : \"checkpoint-1393\",\n",
    "    \"LOC\" : \"checkpoint-1393\",\n",
    "    \"MISC\" : \"checkpoint-2786\",\n",
    "    \"ORG\" : \"checkpoint-1393\",\n",
    "    \"PER\" : \"checkpoint-2786\",\n",
    "    \"TIME\" : \"checkpoint-1393\"\n",
    "}\n",
    "ner_model_paths: dict[str, str] = {\n",
    "    label_type: os.path.join(TRAINED_DIR,\n",
    "                             \"\".join([CHECKPOINT_NAME_BASE, label_type]),\n",
    "                             selected_epochs[label_type])\n",
    "    for label_type in label_types\n",
    "}\n",
    "ner_model_paths"
   ],
   "outputs": [],
   "execution_count": null
  },
  {
   "cell_type": "code",
   "metadata": {
    "id": "lCNm-15bFBpP",
    "colab": {
     "base_uri": "https://localhost:8080/"
    },
    "outputId": "79ecdcf1-927c-44f2-ea6e-b9568c0938bf"
   },
   "source": [
    "token_classifiers: dict[str, TokenClassificationPipeline] = {}\n",
    "for label_type in tqdm(label_types):\n",
    "    token_classifiers[label_type] = pipeline(\n",
    "        \"token-classification\",\n",
    "        model=os.path.abspath(ner_model_paths[label_type]),\n",
    "        aggregation_strategy=\"simple\"\n",
    "    )\n",
    "list(token_classifiers.keys())"
   ],
   "outputs": [],
   "execution_count": null
  },
  {
   "cell_type": "markdown",
   "source": [
    "# Build NER pipeline"
   ],
   "metadata": {
    "id": "NK8SndpDZHbC"
   }
  },
  {
   "cell_type": "markdown",
   "source": [
    "## Sub functions"
   ],
   "metadata": {
    "id": "VVbabN-CZLio"
   }
  },
  {
   "cell_type": "code",
   "metadata": {
    "id": "r5XtqymEFBpR"
   },
   "source": [
    "def find_entities(text: str) -> dict[str, list[dict[str, Union[float, int, str]]]]:\n",
    "    entities: dict[str, list[dict[str, Union[float, int, str]]]] = {\n",
    "        label_type : token_classifiers[label_type](text)\n",
    "        for label_type in label_types\n",
    "    }\n",
    "    return entities"
   ],
   "outputs": [],
   "execution_count": null
  },
  {
   "cell_type": "code",
   "source": [
    "text = sample_texts[0]\n",
    "entities_dict = find_entities(text)\n",
    "entities_dict"
   ],
   "metadata": {
    "colab": {
     "base_uri": "https://localhost:8080/"
    },
    "id": "UJpdW_xIFBpW",
    "outputId": "54fb3491-5981-4271-89f5-ea03bc3b8a19"
   },
   "outputs": [],
   "execution_count": null
  },
  {
   "cell_type": "code",
   "source": [
    "def entities_dict_to_list(entities_dict: dict[str, list[dict[str, Union[float, int, str]]]]) -> list[dict[str, Union[float, int, str]]]:\n",
    "    entities_list = []\n",
    "    for label_type in entities_dict:\n",
    "        entities_list += entities_dict[label_type]\n",
    "    return entities_list"
   ],
   "metadata": {
    "id": "39-goJXQFBpX"
   },
   "outputs": [],
   "execution_count": null
  },
  {
   "cell_type": "code",
   "source": [
    "entity_list = entities_dict_to_list(entities_dict)\n",
    "entity_list"
   ],
   "metadata": {
    "colab": {
     "base_uri": "https://localhost:8080/"
    },
    "id": "LTi9dnS_FBpc",
    "outputId": "341e665d-12e0-492f-bfac-8490e8aa64a6"
   },
   "outputs": [],
   "execution_count": null
  },
  {
   "cell_type": "code",
   "source": [
    "def sort_entity_list(entity_list: list[dict[str, Union[float, int, str]]]) -> list[dict[str, Union[float, int, str]]]:\n",
    "    sorted_entity_list = sorted(entity_list, key=lambda d: (d['start'], d['score'], d['entity_group']))\n",
    "    return sorted_entity_list"
   ],
   "metadata": {
    "id": "8ne78YYzFBpd"
   },
   "outputs": [],
   "execution_count": null
  },
  {
   "cell_type": "code",
   "source": [
    "sorted_entity_list = sort_entity_list(entity_list)\n",
    "sorted_entity_list"
   ],
   "metadata": {
    "colab": {
     "base_uri": "https://localhost:8080/"
    },
    "id": "BNtp98EOFBpd",
    "outputId": "4ee35cbf-a1f5-4ff9-f09b-1bef762556d9"
   },
   "outputs": [],
   "execution_count": null
  },
  {
   "cell_type": "code",
   "source": [
    "def print_entities_as_table(entity_list: list[dict[str, Union[float, int, str]]], table_format: str = \"simple_outline\") -> None:\n",
    "    if entity_list is None or len(entity_list) == 0:\n",
    "        print(\"No entities found\")\n",
    "        return\n",
    "    header: list[str] = list(entity_list[0].keys())\n",
    "    header[0] = \"type\"\n",
    "    rows: list[list[Union[float, int, str]]] = [list(entity.values()) for entity in entity_list]\n",
    "    print(tabulate.tabulate(rows, header, tablefmt=table_format))"
   ],
   "metadata": {
    "id": "zY5rgN4EPf7V"
   },
   "outputs": [],
   "execution_count": null
  },
  {
   "cell_type": "code",
   "source": [
    "print_entities_as_table(sorted_entity_list)"
   ],
   "metadata": {
    "colab": {
     "base_uri": "https://localhost:8080/"
    },
    "id": "HEMUS47nPh3f",
    "outputId": "298294af-f13f-46bf-fb61-5905bb5b0619"
   },
   "outputs": [],
   "execution_count": null
  },
  {
   "cell_type": "markdown",
   "source": [
    "## Stick them together into a pipeline"
   ],
   "metadata": {
    "id": "xWRTwIPMZVFq"
   }
  },
  {
   "cell_type": "code",
   "source": [
    "def ner(text: str, print_table: bool = False):\n",
    "    entity_dict: dict[str, list[dict[str, Union[float, int, str]]]] = find_entities(text)\n",
    "    entity_list: list[dict[str, Union[float, int, str]]] = entities_dict_to_list(entity_dict)\n",
    "    sorted_entity_list: list[dict[str, Union[float, int, str]]] = sort_entity_list(entity_list)\n",
    "    if print_table: print_entities_as_table(sorted_entity_list)\n",
    "    return sorted_entity_list"
   ],
   "metadata": {
    "id": "Dsrb9RE5FBpf"
   },
   "outputs": [],
   "execution_count": null
  },
  {
   "cell_type": "code",
   "source": [
    "entities = [ner(text) for text in tqdm(sample_texts)]\n",
    "entities"
   ],
   "metadata": {
    "colab": {
     "base_uri": "https://localhost:8080/"
    },
    "id": "Na8h2hXCFBpg",
    "outputId": "7c79aee5-760f-4eb7-cfa5-08ebeef302f1"
   },
   "outputs": [],
   "execution_count": null
  },
  {
   "cell_type": "code",
   "source": [
    "i = 1\n",
    "print(sample_texts[i])\n",
    "print(\"\")\n",
    "x = ner(sample_texts[i], print_table=True)"
   ],
   "metadata": {
    "colab": {
     "base_uri": "https://localhost:8080/"
    },
    "id": "BIvfQhE9FBph",
    "outputId": "6ca78983-7af3-4f8f-d97b-066f07ef79e6"
   },
   "outputs": [],
   "execution_count": null
  },
  {
   "cell_type": "code",
   "source": [
    "x = ner(\"Willkommen in Österreich\", print_table=True)"
   ],
   "metadata": {
    "id": "142A7gJBKZvo",
    "colab": {
     "base_uri": "https://localhost:8080/"
    },
    "outputId": "5448c59c-47bd-4d22-d28b-5cd1fbf33819"
   },
   "outputs": [],
   "execution_count": null
  },
  {
   "cell_type": "markdown",
   "source": [
    "# Some observations when using the NER system"
   ],
   "metadata": {
    "id": "zHc5krpLZeI5"
   }
  },
  {
   "cell_type": "code",
   "source": [
    "x = ner(\"D. Hr. Rec. betrachtet den Text von L.K.Y.I. aus der vorhergehenden Ausgabe.\", print_table=True)"
   ],
   "metadata": {
    "colab": {
     "base_uri": "https://localhost:8080/"
    },
    "id": "gXkKO5V4Z46Z",
    "outputId": "a09c4922-a3ac-4066-f07e-e5f55c1a26c6"
   },
   "outputs": [],
   "execution_count": null
  },
  {
   "cell_type": "code",
   "source": [
    "x = ner(\"D. Hr. V. betrachtet den Text von L.K.Y.I. aus der vorhergehenden Ausgabe.\", print_table=True)"
   ],
   "metadata": {
    "colab": {
     "base_uri": "https://localhost:8080/"
    },
    "id": "UZDrZbLudMmg",
    "outputId": "2d1911bc-176b-401b-9a09-4d62b4920461"
   },
   "outputs": [],
   "execution_count": null
  },
  {
   "cell_type": "code",
   "source": [
    "x = ner(\"Der V. betrachtet den Text von L.K.Y.I. aus der vorhergehenden Ausgabe.\", print_table=True)"
   ],
   "metadata": {
    "colab": {
     "base_uri": "https://localhost:8080/"
    },
    "id": "fqunWaCcehfv",
    "outputId": "77e6d3a9-0d22-46c7-ade4-6fa9b0dd98f8"
   },
   "outputs": [],
   "execution_count": null
  },
  {
   "cell_type": "markdown",
   "source": [
    "Als Rec. ist LKYI MISC mit Verfasser nicht. 🤔"
   ],
   "metadata": {
    "id": "9Nl_MHlMd1lE"
   }
  },
  {
   "cell_type": "code",
   "source": [
    "x = ner(\"D. Hr. Verf. betrachtet den Text von L.K.Y.I. aus der vorhergehenden Ausgabe.\", print_table=True)"
   ],
   "metadata": {
    "colab": {
     "base_uri": "https://localhost:8080/"
    },
    "id": "l1KKNhBZdu_f",
    "outputId": "f37dc0b5-8d20-4e16-d8ca-46c08194504f"
   },
   "outputs": [],
   "execution_count": null
  },
  {
   "cell_type": "code",
   "source": [
    "tokeniser(\"Kantsche Theorie\")"
   ],
   "metadata": {
    "colab": {
     "base_uri": "https://localhost:8080/"
    },
    "id": "VxHPvYLTeQKv",
    "outputId": "5e722be1-79cc-40b5-d231-b1c3fbad6838"
   },
   "outputs": [],
   "execution_count": null
  },
  {
   "cell_type": "code",
   "source": [
    "tokeniser(\"Kantsche\")"
   ],
   "metadata": {
    "colab": {
     "base_uri": "https://localhost:8080/"
    },
    "id": "TK6n0r7FggDE",
    "outputId": "b222f32a-264c-4113-e1c1-d62507a15a5f"
   },
   "outputs": [],
   "execution_count": null
  },
  {
   "cell_type": "markdown",
   "source": [
    "# Thoughts & Todos"
   ],
   "metadata": {
    "id": "AwiFkBAWaD0U"
   }
  },
  {
   "cell_type": "markdown",
   "source": [
    "Confusion matrix:\n",
    "\n",
    "* we've got 3 classes: `O`, `B-PER`, `I-PER`\n",
    "* transform to `O` and `PER` → treat as **binary classification** matrix by summarising `B-PER` and `I-PER` in same class \"`PER`\".\n",
    "\n",
    "**How do we count? Is our unit a word, tokens, something else?**\n",
    "\n",
    "```\n",
    "Kantsche Theorie\n",
    "PPPP------------\n",
    "\n",
    "Daniels Dominik\n",
    "PPPPPPP-PPPPPPP\n",
    "BIIIIII-BIIIIII\n",
    "```"
   ],
   "metadata": {
    "id": "l81SoBfCf3Jv"
   }
  },
  {
   "cell_type": "markdown",
   "source": [
    "Todos\n",
    "\n",
    "*   create an index of persons and the pages they're mentioned on\n",
    "*   adds an outlook for other tasks on the manual labour to be done after automatic index creation (PER is class with most data)\n",
    "*   transform automatic annotations (step4) to LATEX format (OCR files) and XML\n",
    "*   make models available, e.g. on the HF Model Hub --> plus example to play around with\n",
    "*   write thesis"
   ],
   "metadata": {
    "id": "z585myu9jvmp"
   }
  },
  {
   "metadata": {},
   "cell_type": "code",
   "source": "",
   "outputs": [],
   "execution_count": null
  }
 ],
 "metadata": {
  "kernelspec": {
   "display_name": "kediff",
   "language": "python",
   "name": "python3"
  },
  "language_info": {
   "codemirror_mode": {
    "name": "ipython",
    "version": 3
   },
   "file_extension": ".py",
   "mimetype": "text/x-python",
   "name": "python",
   "nbconvert_exporter": "python",
   "pygments_lexer": "ipython3",
   "version": "3.9.16"
  },
  "colab": {
   "provenance": [],
   "collapsed_sections": [
    "_QktKKNVO6-W",
    "uIh-FIkYO98l",
    "B0qO-UuOYwuJ",
    "9nrIiKlnY_9P",
    "QqlCTwo5ZDOP",
    "NK8SndpDZHbC",
    "VVbabN-CZLio",
    "xWRTwIPMZVFq",
    "zHc5krpLZeI5"
   ]
  },
  "widgets": {
   "application/vnd.jupyter.widget-state+json": {
    "57dc89258a93491d84b3607c7d134620": {
     "model_module": "@jupyter-widgets/controls",
     "model_name": "HBoxModel",
     "model_module_version": "1.5.0",
     "state": {
      "_dom_classes": [],
      "_model_module": "@jupyter-widgets/controls",
      "_model_module_version": "1.5.0",
      "_model_name": "HBoxModel",
      "_view_count": null,
      "_view_module": "@jupyter-widgets/controls",
      "_view_module_version": "1.5.0",
      "_view_name": "HBoxView",
      "box_style": "",
      "children": [
       "IPY_MODEL_d2c1974fef9e4aff9ea6a7a49fcd121a",
       "IPY_MODEL_3b8fa77da3f94503a2c37d71e8a9c6ff",
       "IPY_MODEL_88c1bef7778e4df0b4406cd08bb48bde"
      ],
      "layout": "IPY_MODEL_0e3a015914064eba9db8e33d35f74800"
     }
    },
    "d2c1974fef9e4aff9ea6a7a49fcd121a": {
     "model_module": "@jupyter-widgets/controls",
     "model_name": "HTMLModel",
     "model_module_version": "1.5.0",
     "state": {
      "_dom_classes": [],
      "_model_module": "@jupyter-widgets/controls",
      "_model_module_version": "1.5.0",
      "_model_name": "HTMLModel",
      "_view_count": null,
      "_view_module": "@jupyter-widgets/controls",
      "_view_module_version": "1.5.0",
      "_view_name": "HTMLView",
      "description": "",
      "description_tooltip": null,
      "layout": "IPY_MODEL_1538da66b42444edad99a6bbd92fb5a2",
      "placeholder": "​",
      "style": "IPY_MODEL_c63c48307b3649749a13ad02b3383d74",
      "value": "tokenizer_config.json: 100%"
     }
    },
    "3b8fa77da3f94503a2c37d71e8a9c6ff": {
     "model_module": "@jupyter-widgets/controls",
     "model_name": "FloatProgressModel",
     "model_module_version": "1.5.0",
     "state": {
      "_dom_classes": [],
      "_model_module": "@jupyter-widgets/controls",
      "_model_module_version": "1.5.0",
      "_model_name": "FloatProgressModel",
      "_view_count": null,
      "_view_module": "@jupyter-widgets/controls",
      "_view_module_version": "1.5.0",
      "_view_name": "ProgressView",
      "bar_style": "success",
      "description": "",
      "description_tooltip": null,
      "layout": "IPY_MODEL_7f9762e154e94da8bbb47f44f642a76b",
      "max": 83,
      "min": 0,
      "orientation": "horizontal",
      "style": "IPY_MODEL_7cac9d6b933842048509b3b17efaa7d3",
      "value": 83
     }
    },
    "88c1bef7778e4df0b4406cd08bb48bde": {
     "model_module": "@jupyter-widgets/controls",
     "model_name": "HTMLModel",
     "model_module_version": "1.5.0",
     "state": {
      "_dom_classes": [],
      "_model_module": "@jupyter-widgets/controls",
      "_model_module_version": "1.5.0",
      "_model_name": "HTMLModel",
      "_view_count": null,
      "_view_module": "@jupyter-widgets/controls",
      "_view_module_version": "1.5.0",
      "_view_name": "HTMLView",
      "description": "",
      "description_tooltip": null,
      "layout": "IPY_MODEL_90b6464be54748e6b804bd77c283263b",
      "placeholder": "​",
      "style": "IPY_MODEL_ff6ef1f2e1d74e9aab12ceaf031f21e4",
      "value": " 83.0/83.0 [00:00&lt;00:00, 2.69kB/s]"
     }
    },
    "0e3a015914064eba9db8e33d35f74800": {
     "model_module": "@jupyter-widgets/base",
     "model_name": "LayoutModel",
     "model_module_version": "1.2.0",
     "state": {
      "_model_module": "@jupyter-widgets/base",
      "_model_module_version": "1.2.0",
      "_model_name": "LayoutModel",
      "_view_count": null,
      "_view_module": "@jupyter-widgets/base",
      "_view_module_version": "1.2.0",
      "_view_name": "LayoutView",
      "align_content": null,
      "align_items": null,
      "align_self": null,
      "border": null,
      "bottom": null,
      "display": null,
      "flex": null,
      "flex_flow": null,
      "grid_area": null,
      "grid_auto_columns": null,
      "grid_auto_flow": null,
      "grid_auto_rows": null,
      "grid_column": null,
      "grid_gap": null,
      "grid_row": null,
      "grid_template_areas": null,
      "grid_template_columns": null,
      "grid_template_rows": null,
      "height": null,
      "justify_content": null,
      "justify_items": null,
      "left": null,
      "margin": null,
      "max_height": null,
      "max_width": null,
      "min_height": null,
      "min_width": null,
      "object_fit": null,
      "object_position": null,
      "order": null,
      "overflow": null,
      "overflow_x": null,
      "overflow_y": null,
      "padding": null,
      "right": null,
      "top": null,
      "visibility": null,
      "width": null
     }
    },
    "1538da66b42444edad99a6bbd92fb5a2": {
     "model_module": "@jupyter-widgets/base",
     "model_name": "LayoutModel",
     "model_module_version": "1.2.0",
     "state": {
      "_model_module": "@jupyter-widgets/base",
      "_model_module_version": "1.2.0",
      "_model_name": "LayoutModel",
      "_view_count": null,
      "_view_module": "@jupyter-widgets/base",
      "_view_module_version": "1.2.0",
      "_view_name": "LayoutView",
      "align_content": null,
      "align_items": null,
      "align_self": null,
      "border": null,
      "bottom": null,
      "display": null,
      "flex": null,
      "flex_flow": null,
      "grid_area": null,
      "grid_auto_columns": null,
      "grid_auto_flow": null,
      "grid_auto_rows": null,
      "grid_column": null,
      "grid_gap": null,
      "grid_row": null,
      "grid_template_areas": null,
      "grid_template_columns": null,
      "grid_template_rows": null,
      "height": null,
      "justify_content": null,
      "justify_items": null,
      "left": null,
      "margin": null,
      "max_height": null,
      "max_width": null,
      "min_height": null,
      "min_width": null,
      "object_fit": null,
      "object_position": null,
      "order": null,
      "overflow": null,
      "overflow_x": null,
      "overflow_y": null,
      "padding": null,
      "right": null,
      "top": null,
      "visibility": null,
      "width": null
     }
    },
    "c63c48307b3649749a13ad02b3383d74": {
     "model_module": "@jupyter-widgets/controls",
     "model_name": "DescriptionStyleModel",
     "model_module_version": "1.5.0",
     "state": {
      "_model_module": "@jupyter-widgets/controls",
      "_model_module_version": "1.5.0",
      "_model_name": "DescriptionStyleModel",
      "_view_count": null,
      "_view_module": "@jupyter-widgets/base",
      "_view_module_version": "1.2.0",
      "_view_name": "StyleView",
      "description_width": ""
     }
    },
    "7f9762e154e94da8bbb47f44f642a76b": {
     "model_module": "@jupyter-widgets/base",
     "model_name": "LayoutModel",
     "model_module_version": "1.2.0",
     "state": {
      "_model_module": "@jupyter-widgets/base",
      "_model_module_version": "1.2.0",
      "_model_name": "LayoutModel",
      "_view_count": null,
      "_view_module": "@jupyter-widgets/base",
      "_view_module_version": "1.2.0",
      "_view_name": "LayoutView",
      "align_content": null,
      "align_items": null,
      "align_self": null,
      "border": null,
      "bottom": null,
      "display": null,
      "flex": null,
      "flex_flow": null,
      "grid_area": null,
      "grid_auto_columns": null,
      "grid_auto_flow": null,
      "grid_auto_rows": null,
      "grid_column": null,
      "grid_gap": null,
      "grid_row": null,
      "grid_template_areas": null,
      "grid_template_columns": null,
      "grid_template_rows": null,
      "height": null,
      "justify_content": null,
      "justify_items": null,
      "left": null,
      "margin": null,
      "max_height": null,
      "max_width": null,
      "min_height": null,
      "min_width": null,
      "object_fit": null,
      "object_position": null,
      "order": null,
      "overflow": null,
      "overflow_x": null,
      "overflow_y": null,
      "padding": null,
      "right": null,
      "top": null,
      "visibility": null,
      "width": null
     }
    },
    "7cac9d6b933842048509b3b17efaa7d3": {
     "model_module": "@jupyter-widgets/controls",
     "model_name": "ProgressStyleModel",
     "model_module_version": "1.5.0",
     "state": {
      "_model_module": "@jupyter-widgets/controls",
      "_model_module_version": "1.5.0",
      "_model_name": "ProgressStyleModel",
      "_view_count": null,
      "_view_module": "@jupyter-widgets/base",
      "_view_module_version": "1.2.0",
      "_view_name": "StyleView",
      "bar_color": null,
      "description_width": ""
     }
    },
    "90b6464be54748e6b804bd77c283263b": {
     "model_module": "@jupyter-widgets/base",
     "model_name": "LayoutModel",
     "model_module_version": "1.2.0",
     "state": {
      "_model_module": "@jupyter-widgets/base",
      "_model_module_version": "1.2.0",
      "_model_name": "LayoutModel",
      "_view_count": null,
      "_view_module": "@jupyter-widgets/base",
      "_view_module_version": "1.2.0",
      "_view_name": "LayoutView",
      "align_content": null,
      "align_items": null,
      "align_self": null,
      "border": null,
      "bottom": null,
      "display": null,
      "flex": null,
      "flex_flow": null,
      "grid_area": null,
      "grid_auto_columns": null,
      "grid_auto_flow": null,
      "grid_auto_rows": null,
      "grid_column": null,
      "grid_gap": null,
      "grid_row": null,
      "grid_template_areas": null,
      "grid_template_columns": null,
      "grid_template_rows": null,
      "height": null,
      "justify_content": null,
      "justify_items": null,
      "left": null,
      "margin": null,
      "max_height": null,
      "max_width": null,
      "min_height": null,
      "min_width": null,
      "object_fit": null,
      "object_position": null,
      "order": null,
      "overflow": null,
      "overflow_x": null,
      "overflow_y": null,
      "padding": null,
      "right": null,
      "top": null,
      "visibility": null,
      "width": null
     }
    },
    "ff6ef1f2e1d74e9aab12ceaf031f21e4": {
     "model_module": "@jupyter-widgets/controls",
     "model_name": "DescriptionStyleModel",
     "model_module_version": "1.5.0",
     "state": {
      "_model_module": "@jupyter-widgets/controls",
      "_model_module_version": "1.5.0",
      "_model_name": "DescriptionStyleModel",
      "_view_count": null,
      "_view_module": "@jupyter-widgets/base",
      "_view_module_version": "1.2.0",
      "_view_name": "StyleView",
      "description_width": ""
     }
    },
    "5433f72da2764100b899fd0b0945624a": {
     "model_module": "@jupyter-widgets/controls",
     "model_name": "HBoxModel",
     "model_module_version": "1.5.0",
     "state": {
      "_dom_classes": [],
      "_model_module": "@jupyter-widgets/controls",
      "_model_module_version": "1.5.0",
      "_model_name": "HBoxModel",
      "_view_count": null,
      "_view_module": "@jupyter-widgets/controls",
      "_view_module_version": "1.5.0",
      "_view_name": "HBoxView",
      "box_style": "",
      "children": [
       "IPY_MODEL_1dd5997ff5274373ba298107cef8e40a",
       "IPY_MODEL_95bbf951d653413c82be45c7ce2bfd9d",
       "IPY_MODEL_99acd3c6d2164b40911d78d16111ffe0"
      ],
      "layout": "IPY_MODEL_dc88a51a0b914761a438637ccfb0a20c"
     }
    },
    "1dd5997ff5274373ba298107cef8e40a": {
     "model_module": "@jupyter-widgets/controls",
     "model_name": "HTMLModel",
     "model_module_version": "1.5.0",
     "state": {
      "_dom_classes": [],
      "_model_module": "@jupyter-widgets/controls",
      "_model_module_version": "1.5.0",
      "_model_name": "HTMLModel",
      "_view_count": null,
      "_view_module": "@jupyter-widgets/controls",
      "_view_module_version": "1.5.0",
      "_view_name": "HTMLView",
      "description": "",
      "description_tooltip": null,
      "layout": "IPY_MODEL_dd352f19df204ef5a52cd84dccab3e0b",
      "placeholder": "​",
      "style": "IPY_MODEL_dff0641f09b4436abcbdf79ac2547af1",
      "value": "config.json: 100%"
     }
    },
    "95bbf951d653413c82be45c7ce2bfd9d": {
     "model_module": "@jupyter-widgets/controls",
     "model_name": "FloatProgressModel",
     "model_module_version": "1.5.0",
     "state": {
      "_dom_classes": [],
      "_model_module": "@jupyter-widgets/controls",
      "_model_module_version": "1.5.0",
      "_model_name": "FloatProgressModel",
      "_view_count": null,
      "_view_module": "@jupyter-widgets/controls",
      "_view_module_version": "1.5.0",
      "_view_name": "ProgressView",
      "bar_style": "success",
      "description": "",
      "description_tooltip": null,
      "layout": "IPY_MODEL_6d4c80a4375c4c4e83a6f303597a6987",
      "max": 561,
      "min": 0,
      "orientation": "horizontal",
      "style": "IPY_MODEL_a6c971914cd446c0ba944926e74ef582",
      "value": 561
     }
    },
    "99acd3c6d2164b40911d78d16111ffe0": {
     "model_module": "@jupyter-widgets/controls",
     "model_name": "HTMLModel",
     "model_module_version": "1.5.0",
     "state": {
      "_dom_classes": [],
      "_model_module": "@jupyter-widgets/controls",
      "_model_module_version": "1.5.0",
      "_model_name": "HTMLModel",
      "_view_count": null,
      "_view_module": "@jupyter-widgets/controls",
      "_view_module_version": "1.5.0",
      "_view_name": "HTMLView",
      "description": "",
      "description_tooltip": null,
      "layout": "IPY_MODEL_a497564a43b1451f89cdaa012d6cf95f",
      "placeholder": "​",
      "style": "IPY_MODEL_abc2adaa9b614f4f91c4be6edb93eb4c",
      "value": " 561/561 [00:00&lt;00:00, 23.2kB/s]"
     }
    },
    "dc88a51a0b914761a438637ccfb0a20c": {
     "model_module": "@jupyter-widgets/base",
     "model_name": "LayoutModel",
     "model_module_version": "1.2.0",
     "state": {
      "_model_module": "@jupyter-widgets/base",
      "_model_module_version": "1.2.0",
      "_model_name": "LayoutModel",
      "_view_count": null,
      "_view_module": "@jupyter-widgets/base",
      "_view_module_version": "1.2.0",
      "_view_name": "LayoutView",
      "align_content": null,
      "align_items": null,
      "align_self": null,
      "border": null,
      "bottom": null,
      "display": null,
      "flex": null,
      "flex_flow": null,
      "grid_area": null,
      "grid_auto_columns": null,
      "grid_auto_flow": null,
      "grid_auto_rows": null,
      "grid_column": null,
      "grid_gap": null,
      "grid_row": null,
      "grid_template_areas": null,
      "grid_template_columns": null,
      "grid_template_rows": null,
      "height": null,
      "justify_content": null,
      "justify_items": null,
      "left": null,
      "margin": null,
      "max_height": null,
      "max_width": null,
      "min_height": null,
      "min_width": null,
      "object_fit": null,
      "object_position": null,
      "order": null,
      "overflow": null,
      "overflow_x": null,
      "overflow_y": null,
      "padding": null,
      "right": null,
      "top": null,
      "visibility": null,
      "width": null
     }
    },
    "dd352f19df204ef5a52cd84dccab3e0b": {
     "model_module": "@jupyter-widgets/base",
     "model_name": "LayoutModel",
     "model_module_version": "1.2.0",
     "state": {
      "_model_module": "@jupyter-widgets/base",
      "_model_module_version": "1.2.0",
      "_model_name": "LayoutModel",
      "_view_count": null,
      "_view_module": "@jupyter-widgets/base",
      "_view_module_version": "1.2.0",
      "_view_name": "LayoutView",
      "align_content": null,
      "align_items": null,
      "align_self": null,
      "border": null,
      "bottom": null,
      "display": null,
      "flex": null,
      "flex_flow": null,
      "grid_area": null,
      "grid_auto_columns": null,
      "grid_auto_flow": null,
      "grid_auto_rows": null,
      "grid_column": null,
      "grid_gap": null,
      "grid_row": null,
      "grid_template_areas": null,
      "grid_template_columns": null,
      "grid_template_rows": null,
      "height": null,
      "justify_content": null,
      "justify_items": null,
      "left": null,
      "margin": null,
      "max_height": null,
      "max_width": null,
      "min_height": null,
      "min_width": null,
      "object_fit": null,
      "object_position": null,
      "order": null,
      "overflow": null,
      "overflow_x": null,
      "overflow_y": null,
      "padding": null,
      "right": null,
      "top": null,
      "visibility": null,
      "width": null
     }
    },
    "dff0641f09b4436abcbdf79ac2547af1": {
     "model_module": "@jupyter-widgets/controls",
     "model_name": "DescriptionStyleModel",
     "model_module_version": "1.5.0",
     "state": {
      "_model_module": "@jupyter-widgets/controls",
      "_model_module_version": "1.5.0",
      "_model_name": "DescriptionStyleModel",
      "_view_count": null,
      "_view_module": "@jupyter-widgets/base",
      "_view_module_version": "1.2.0",
      "_view_name": "StyleView",
      "description_width": ""
     }
    },
    "6d4c80a4375c4c4e83a6f303597a6987": {
     "model_module": "@jupyter-widgets/base",
     "model_name": "LayoutModel",
     "model_module_version": "1.2.0",
     "state": {
      "_model_module": "@jupyter-widgets/base",
      "_model_module_version": "1.2.0",
      "_model_name": "LayoutModel",
      "_view_count": null,
      "_view_module": "@jupyter-widgets/base",
      "_view_module_version": "1.2.0",
      "_view_name": "LayoutView",
      "align_content": null,
      "align_items": null,
      "align_self": null,
      "border": null,
      "bottom": null,
      "display": null,
      "flex": null,
      "flex_flow": null,
      "grid_area": null,
      "grid_auto_columns": null,
      "grid_auto_flow": null,
      "grid_auto_rows": null,
      "grid_column": null,
      "grid_gap": null,
      "grid_row": null,
      "grid_template_areas": null,
      "grid_template_columns": null,
      "grid_template_rows": null,
      "height": null,
      "justify_content": null,
      "justify_items": null,
      "left": null,
      "margin": null,
      "max_height": null,
      "max_width": null,
      "min_height": null,
      "min_width": null,
      "object_fit": null,
      "object_position": null,
      "order": null,
      "overflow": null,
      "overflow_x": null,
      "overflow_y": null,
      "padding": null,
      "right": null,
      "top": null,
      "visibility": null,
      "width": null
     }
    },
    "a6c971914cd446c0ba944926e74ef582": {
     "model_module": "@jupyter-widgets/controls",
     "model_name": "ProgressStyleModel",
     "model_module_version": "1.5.0",
     "state": {
      "_model_module": "@jupyter-widgets/controls",
      "_model_module_version": "1.5.0",
      "_model_name": "ProgressStyleModel",
      "_view_count": null,
      "_view_module": "@jupyter-widgets/base",
      "_view_module_version": "1.2.0",
      "_view_name": "StyleView",
      "bar_color": null,
      "description_width": ""
     }
    },
    "a497564a43b1451f89cdaa012d6cf95f": {
     "model_module": "@jupyter-widgets/base",
     "model_name": "LayoutModel",
     "model_module_version": "1.2.0",
     "state": {
      "_model_module": "@jupyter-widgets/base",
      "_model_module_version": "1.2.0",
      "_model_name": "LayoutModel",
      "_view_count": null,
      "_view_module": "@jupyter-widgets/base",
      "_view_module_version": "1.2.0",
      "_view_name": "LayoutView",
      "align_content": null,
      "align_items": null,
      "align_self": null,
      "border": null,
      "bottom": null,
      "display": null,
      "flex": null,
      "flex_flow": null,
      "grid_area": null,
      "grid_auto_columns": null,
      "grid_auto_flow": null,
      "grid_auto_rows": null,
      "grid_column": null,
      "grid_gap": null,
      "grid_row": null,
      "grid_template_areas": null,
      "grid_template_columns": null,
      "grid_template_rows": null,
      "height": null,
      "justify_content": null,
      "justify_items": null,
      "left": null,
      "margin": null,
      "max_height": null,
      "max_width": null,
      "min_height": null,
      "min_width": null,
      "object_fit": null,
      "object_position": null,
      "order": null,
      "overflow": null,
      "overflow_x": null,
      "overflow_y": null,
      "padding": null,
      "right": null,
      "top": null,
      "visibility": null,
      "width": null
     }
    },
    "abc2adaa9b614f4f91c4be6edb93eb4c": {
     "model_module": "@jupyter-widgets/controls",
     "model_name": "DescriptionStyleModel",
     "model_module_version": "1.5.0",
     "state": {
      "_model_module": "@jupyter-widgets/controls",
      "_model_module_version": "1.5.0",
      "_model_name": "DescriptionStyleModel",
      "_view_count": null,
      "_view_module": "@jupyter-widgets/base",
      "_view_module_version": "1.2.0",
      "_view_name": "StyleView",
      "description_width": ""
     }
    },
    "7338ec9512eb4c658f1cd48f712b3226": {
     "model_module": "@jupyter-widgets/controls",
     "model_name": "HBoxModel",
     "model_module_version": "1.5.0",
     "state": {
      "_dom_classes": [],
      "_model_module": "@jupyter-widgets/controls",
      "_model_module_version": "1.5.0",
      "_model_name": "HBoxModel",
      "_view_count": null,
      "_view_module": "@jupyter-widgets/controls",
      "_view_module_version": "1.5.0",
      "_view_name": "HBoxView",
      "box_style": "",
      "children": [
       "IPY_MODEL_0f565849bed34eef99367c5041c7acb9",
       "IPY_MODEL_8ba67522d57140c7b2a5b0a8ed20e83a",
       "IPY_MODEL_3b497827a2974c7a9819e8f429f1948e"
      ],
      "layout": "IPY_MODEL_6f90e28a15a5492db9b405b14bd12b4b"
     }
    },
    "0f565849bed34eef99367c5041c7acb9": {
     "model_module": "@jupyter-widgets/controls",
     "model_name": "HTMLModel",
     "model_module_version": "1.5.0",
     "state": {
      "_dom_classes": [],
      "_model_module": "@jupyter-widgets/controls",
      "_model_module_version": "1.5.0",
      "_model_name": "HTMLModel",
      "_view_count": null,
      "_view_module": "@jupyter-widgets/controls",
      "_view_module_version": "1.5.0",
      "_view_name": "HTMLView",
      "description": "",
      "description_tooltip": null,
      "layout": "IPY_MODEL_913f9d95c062418f90a70986ee4e0708",
      "placeholder": "​",
      "style": "IPY_MODEL_d8b1ecf512ba47a6804609cf9f13735f",
      "value": "vocab.txt: 100%"
     }
    },
    "8ba67522d57140c7b2a5b0a8ed20e83a": {
     "model_module": "@jupyter-widgets/controls",
     "model_name": "FloatProgressModel",
     "model_module_version": "1.5.0",
     "state": {
      "_dom_classes": [],
      "_model_module": "@jupyter-widgets/controls",
      "_model_module_version": "1.5.0",
      "_model_name": "FloatProgressModel",
      "_view_count": null,
      "_view_module": "@jupyter-widgets/controls",
      "_view_module_version": "1.5.0",
      "_view_name": "ProgressView",
      "bar_style": "success",
      "description": "",
      "description_tooltip": null,
      "layout": "IPY_MODEL_7a2b4ad1634540b39d523c1fe3674652",
      "max": 212157,
      "min": 0,
      "orientation": "horizontal",
      "style": "IPY_MODEL_9c096bc7e5a248e69201ef09235ddd5c",
      "value": 212157
     }
    },
    "3b497827a2974c7a9819e8f429f1948e": {
     "model_module": "@jupyter-widgets/controls",
     "model_name": "HTMLModel",
     "model_module_version": "1.5.0",
     "state": {
      "_dom_classes": [],
      "_model_module": "@jupyter-widgets/controls",
      "_model_module_version": "1.5.0",
      "_model_name": "HTMLModel",
      "_view_count": null,
      "_view_module": "@jupyter-widgets/controls",
      "_view_module_version": "1.5.0",
      "_view_name": "HTMLView",
      "description": "",
      "description_tooltip": null,
      "layout": "IPY_MODEL_45bbce1e926045efa56983de9d2053f0",
      "placeholder": "​",
      "style": "IPY_MODEL_db9745bc2aa94e0c839ebbed9a5408be",
      "value": " 212k/212k [00:00&lt;00:00, 5.81MB/s]"
     }
    },
    "6f90e28a15a5492db9b405b14bd12b4b": {
     "model_module": "@jupyter-widgets/base",
     "model_name": "LayoutModel",
     "model_module_version": "1.2.0",
     "state": {
      "_model_module": "@jupyter-widgets/base",
      "_model_module_version": "1.2.0",
      "_model_name": "LayoutModel",
      "_view_count": null,
      "_view_module": "@jupyter-widgets/base",
      "_view_module_version": "1.2.0",
      "_view_name": "LayoutView",
      "align_content": null,
      "align_items": null,
      "align_self": null,
      "border": null,
      "bottom": null,
      "display": null,
      "flex": null,
      "flex_flow": null,
      "grid_area": null,
      "grid_auto_columns": null,
      "grid_auto_flow": null,
      "grid_auto_rows": null,
      "grid_column": null,
      "grid_gap": null,
      "grid_row": null,
      "grid_template_areas": null,
      "grid_template_columns": null,
      "grid_template_rows": null,
      "height": null,
      "justify_content": null,
      "justify_items": null,
      "left": null,
      "margin": null,
      "max_height": null,
      "max_width": null,
      "min_height": null,
      "min_width": null,
      "object_fit": null,
      "object_position": null,
      "order": null,
      "overflow": null,
      "overflow_x": null,
      "overflow_y": null,
      "padding": null,
      "right": null,
      "top": null,
      "visibility": null,
      "width": null
     }
    },
    "913f9d95c062418f90a70986ee4e0708": {
     "model_module": "@jupyter-widgets/base",
     "model_name": "LayoutModel",
     "model_module_version": "1.2.0",
     "state": {
      "_model_module": "@jupyter-widgets/base",
      "_model_module_version": "1.2.0",
      "_model_name": "LayoutModel",
      "_view_count": null,
      "_view_module": "@jupyter-widgets/base",
      "_view_module_version": "1.2.0",
      "_view_name": "LayoutView",
      "align_content": null,
      "align_items": null,
      "align_self": null,
      "border": null,
      "bottom": null,
      "display": null,
      "flex": null,
      "flex_flow": null,
      "grid_area": null,
      "grid_auto_columns": null,
      "grid_auto_flow": null,
      "grid_auto_rows": null,
      "grid_column": null,
      "grid_gap": null,
      "grid_row": null,
      "grid_template_areas": null,
      "grid_template_columns": null,
      "grid_template_rows": null,
      "height": null,
      "justify_content": null,
      "justify_items": null,
      "left": null,
      "margin": null,
      "max_height": null,
      "max_width": null,
      "min_height": null,
      "min_width": null,
      "object_fit": null,
      "object_position": null,
      "order": null,
      "overflow": null,
      "overflow_x": null,
      "overflow_y": null,
      "padding": null,
      "right": null,
      "top": null,
      "visibility": null,
      "width": null
     }
    },
    "d8b1ecf512ba47a6804609cf9f13735f": {
     "model_module": "@jupyter-widgets/controls",
     "model_name": "DescriptionStyleModel",
     "model_module_version": "1.5.0",
     "state": {
      "_model_module": "@jupyter-widgets/controls",
      "_model_module_version": "1.5.0",
      "_model_name": "DescriptionStyleModel",
      "_view_count": null,
      "_view_module": "@jupyter-widgets/base",
      "_view_module_version": "1.2.0",
      "_view_name": "StyleView",
      "description_width": ""
     }
    },
    "7a2b4ad1634540b39d523c1fe3674652": {
     "model_module": "@jupyter-widgets/base",
     "model_name": "LayoutModel",
     "model_module_version": "1.2.0",
     "state": {
      "_model_module": "@jupyter-widgets/base",
      "_model_module_version": "1.2.0",
      "_model_name": "LayoutModel",
      "_view_count": null,
      "_view_module": "@jupyter-widgets/base",
      "_view_module_version": "1.2.0",
      "_view_name": "LayoutView",
      "align_content": null,
      "align_items": null,
      "align_self": null,
      "border": null,
      "bottom": null,
      "display": null,
      "flex": null,
      "flex_flow": null,
      "grid_area": null,
      "grid_auto_columns": null,
      "grid_auto_flow": null,
      "grid_auto_rows": null,
      "grid_column": null,
      "grid_gap": null,
      "grid_row": null,
      "grid_template_areas": null,
      "grid_template_columns": null,
      "grid_template_rows": null,
      "height": null,
      "justify_content": null,
      "justify_items": null,
      "left": null,
      "margin": null,
      "max_height": null,
      "max_width": null,
      "min_height": null,
      "min_width": null,
      "object_fit": null,
      "object_position": null,
      "order": null,
      "overflow": null,
      "overflow_x": null,
      "overflow_y": null,
      "padding": null,
      "right": null,
      "top": null,
      "visibility": null,
      "width": null
     }
    },
    "9c096bc7e5a248e69201ef09235ddd5c": {
     "model_module": "@jupyter-widgets/controls",
     "model_name": "ProgressStyleModel",
     "model_module_version": "1.5.0",
     "state": {
      "_model_module": "@jupyter-widgets/controls",
      "_model_module_version": "1.5.0",
      "_model_name": "ProgressStyleModel",
      "_view_count": null,
      "_view_module": "@jupyter-widgets/base",
      "_view_module_version": "1.2.0",
      "_view_name": "StyleView",
      "bar_color": null,
      "description_width": ""
     }
    },
    "45bbce1e926045efa56983de9d2053f0": {
     "model_module": "@jupyter-widgets/base",
     "model_name": "LayoutModel",
     "model_module_version": "1.2.0",
     "state": {
      "_model_module": "@jupyter-widgets/base",
      "_model_module_version": "1.2.0",
      "_model_name": "LayoutModel",
      "_view_count": null,
      "_view_module": "@jupyter-widgets/base",
      "_view_module_version": "1.2.0",
      "_view_name": "LayoutView",
      "align_content": null,
      "align_items": null,
      "align_self": null,
      "border": null,
      "bottom": null,
      "display": null,
      "flex": null,
      "flex_flow": null,
      "grid_area": null,
      "grid_auto_columns": null,
      "grid_auto_flow": null,
      "grid_auto_rows": null,
      "grid_column": null,
      "grid_gap": null,
      "grid_row": null,
      "grid_template_areas": null,
      "grid_template_columns": null,
      "grid_template_rows": null,
      "height": null,
      "justify_content": null,
      "justify_items": null,
      "left": null,
      "margin": null,
      "max_height": null,
      "max_width": null,
      "min_height": null,
      "min_width": null,
      "object_fit": null,
      "object_position": null,
      "order": null,
      "overflow": null,
      "overflow_x": null,
      "overflow_y": null,
      "padding": null,
      "right": null,
      "top": null,
      "visibility": null,
      "width": null
     }
    },
    "db9745bc2aa94e0c839ebbed9a5408be": {
     "model_module": "@jupyter-widgets/controls",
     "model_name": "DescriptionStyleModel",
     "model_module_version": "1.5.0",
     "state": {
      "_model_module": "@jupyter-widgets/controls",
      "_model_module_version": "1.5.0",
      "_model_name": "DescriptionStyleModel",
      "_view_count": null,
      "_view_module": "@jupyter-widgets/base",
      "_view_module_version": "1.2.0",
      "_view_name": "StyleView",
      "description_width": ""
     }
    }
   }
  }
 },
 "nbformat": 4,
 "nbformat_minor": 0
}
