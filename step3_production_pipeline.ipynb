{
  "cells": [
    {
      "cell_type": "code",
      "execution_count": 1,
      "metadata": {
        "ExecuteTime": {
          "end_time": "2024-01-17T14:20:40.505177Z",
          "start_time": "2024-01-17T14:20:33.775660Z"
        },
        "id": "NAi-XWD5FBo0"
      },
      "outputs": [],
      "source": [
        "import os\n",
        "\n",
        "import tabulate\n",
        "from tqdm import tqdm\n",
        "from transformers import AutoModel, AutoTokenizer, pipeline"
      ]
    },
    {
      "cell_type": "code",
      "execution_count": 2,
      "metadata": {
        "ExecuteTime": {
          "end_time": "2024-01-17T14:20:40.579539Z",
          "start_time": "2024-01-17T14:20:40.512271Z"
        },
        "colab": {
          "base_uri": "https://localhost:8080/"
        },
        "id": "OEr0F9QJFBpA",
        "outputId": "47ca31ee-219f-4d6e-c3b0-b5e27e9610c3"
      },
      "outputs": [
        {
          "output_type": "stream",
          "name": "stdout",
          "text": [
            "You work on Colab. Gentle as we are, we will mount Drive for you. It'd help if you allowed this in the popup that opens.\n",
            "Drive already mounted at /content/drive; to attempt to forcibly remount, call drive.mount(\"/content/drive\", force_remount=True).\n",
            "DATA_DIR='drive/MyDrive/KEDiff/data' --> /content/drive/MyDrive/KEDiff/data\n"
          ]
        }
      ],
      "source": [
        "try:\n",
        "    from google.colab import drive\n",
        "\n",
        "    print(\n",
        "        \"You work on Colab. Gentle as we are, we will mount Drive for you. \"\n",
        "        \"It'd help if you allowed this in the popup that opens.\"\n",
        "    )\n",
        "    drive.mount('/content/drive')\n",
        "    DATA_DIR = os.path.join('drive', 'MyDrive', 'KEDiff', 'data')\n",
        "except ModuleNotFoundError:\n",
        "    print(\"You do not work on Colab\")\n",
        "    DATA_DIR = os.path.join('data')\n",
        "print(f\"{DATA_DIR=}\", '-->', os.path.abspath(DATA_DIR))"
      ]
    },
    {
      "cell_type": "code",
      "execution_count": 3,
      "metadata": {
        "ExecuteTime": {
          "end_time": "2024-01-17T14:20:40.581022Z",
          "start_time": "2024-01-17T14:20:40.534225Z"
        },
        "id": "1UFU---IFBpG"
      },
      "outputs": [],
      "source": [
        "TOKENISER_CHECKPOINT = \"dbmdz/bert-base-historic-multilingual-cased\"\n",
        "CHECKPOINT_NAME_BASE = \"oalz-1788-q1-ner-\"\n",
        "TRAINED_DIR = os.path.join(DATA_DIR, 'trained_models', '2024-01-15')"
      ]
    },
    {
      "cell_type": "code",
      "execution_count": 4,
      "metadata": {
        "ExecuteTime": {
          "end_time": "2024-01-17T14:20:41.761489Z",
          "start_time": "2024-01-17T14:20:40.546665Z"
        },
        "colab": {
          "base_uri": "https://localhost:8080/"
        },
        "id": "H3wsol8BFBpH",
        "outputId": "37ebed8a-22fb-4fdf-cfbf-42c07dea33cc"
      },
      "outputs": [
        {
          "output_type": "stream",
          "name": "stderr",
          "text": [
            "/usr/local/lib/python3.10/dist-packages/huggingface_hub/utils/_token.py:88: UserWarning: \n",
            "The secret `HF_TOKEN` does not exist in your Colab secrets.\n",
            "To authenticate with the Hugging Face Hub, create a token in your settings tab (https://huggingface.co/settings/tokens), set it as secret in your Google Colab and restart your session.\n",
            "You will be able to reuse this secret in all of your notebooks.\n",
            "Please note that authentication is recommended but still optional to access public models or datasets.\n",
            "  warnings.warn(\n"
          ]
        }
      ],
      "source": [
        "tokeniser = AutoTokenizer.from_pretrained(TOKENISER_CHECKPOINT)"
      ]
    },
    {
      "cell_type": "code",
      "execution_count": 5,
      "metadata": {
        "ExecuteTime": {
          "end_time": "2024-01-17T14:20:41.847820Z",
          "start_time": "2024-01-17T14:20:41.770290Z"
        },
        "colab": {
          "base_uri": "https://localhost:8080/"
        },
        "id": "_FVFQi1qFBpI",
        "outputId": "18ecd43b-e8b3-4959-c1c7-3ea7f8503bb0"
      },
      "outputs": [
        {
          "output_type": "execute_result",
          "data": {
            "text/plain": [
              "{'id': 1003,\n",
              " 'text': 'Unter die Gegenden, die den Borkenkäfer nähren S. 13 — 14. gehört leider auch das Erzstift Salzburg.',\n",
              " 'label': [[82, 99, 'ORG'], [82, 99, 'LOC'], [28, 39, 'MISC']]}"
            ]
          },
          "metadata": {},
          "execution_count": 5
        }
      ],
      "source": [
        "sample = {\n",
        "    \"id\": 1003,\n",
        "    \"text\": \"Unter die Gegenden, die den Borkenk\\u00e4fer n\\u00e4hren S. 13 \\u2014 14. geh\\u00f6rt leider auch das Erzstift Salzburg.\",\n",
        "    \"label\": [[82, 99, \"ORG\"], [82, 99, \"LOC\"], [28, 39, \"MISC\"]]\n",
        "}\n",
        "sample"
      ]
    },
    {
      "cell_type": "code",
      "execution_count": 6,
      "metadata": {
        "ExecuteTime": {
          "end_time": "2024-01-17T14:20:41.851698Z",
          "start_time": "2024-01-17T14:20:41.796795Z"
        },
        "colab": {
          "base_uri": "https://localhost:8080/"
        },
        "id": "erdaw3lVFBpL",
        "outputId": "15fa1265-3fb4-4113-9c3f-1d0686c41319"
      },
      "outputs": [
        {
          "output_type": "execute_result",
          "data": {
            "text/plain": [
              "{'input_ids': [2, 2558, 788, 25854, 668, 16, 788, 767, 3383, 1199, 1176, 1582, 3835, 2221, 55, 18, 1097, 338, 1136, 18, 16130, 24914, 1532, 1190, 7840, 14369, 18843, 18, 3], 'token_type_ids': [0, 0, 0, 0, 0, 0, 0, 0, 0, 0, 0, 0, 0, 0, 0, 0, 0, 0, 0, 0, 0, 0, 0, 0, 0, 0, 0, 0, 0], 'attention_mask': [1, 1, 1, 1, 1, 1, 1, 1, 1, 1, 1, 1, 1, 1, 1, 1, 1, 1, 1, 1, 1, 1, 1, 1, 1, 1, 1, 1, 1]}"
            ]
          },
          "metadata": {},
          "execution_count": 6
        }
      ],
      "source": [
        "x = tokeniser(sample['text'])\n",
        "x"
      ]
    },
    {
      "cell_type": "code",
      "execution_count": 7,
      "metadata": {
        "ExecuteTime": {
          "end_time": "2024-01-17T14:20:41.922471Z",
          "start_time": "2024-01-17T14:20:41.835933Z"
        },
        "id": "LXjBdPexFBpN"
      },
      "outputs": [],
      "source": [
        "sample_texts = [\n",
        "    \"(Das hei\\u00dft ab ovo anfangen, wie's jener that, der vom deutschen Gleichgewichte handeln wollte, und von Adam anfieng.)\",\n",
        "    \"Daniel Göller ist der beste Masterstudent Christian Borgelts und sollte eine Ehrenmedaille… medallje… medallie… wie schreibt man das????… sowie eine saftige Sonderzahlung von Herrn Prof. Lehnert, Rektor der Universität zu Salzburg, erhalten, sodass er endlich nach Island reisen und dort in einer Kirche zu Gott beten kann.\",\n",
        "    \"Nun ist die Frage, ob das Modell auch mit Frauennamen umgehen kann, da beim Lesen der Originaltexte ein deutlicher Bias zu Männernamen aufgefallen ist. Und wie es dann wohl mit geschlechtsneutralen Namen aussieht?\",\n",
        "    \"Bundeskanzlerin Brigitte Bierlein führte bis zur Angelobung der Bundesregierung Kurz II nach der vorgezogenen Nationalratswahl im Herbst 2019 die Amtsgeschäfte der Bundesministerien weiter. Vielleicht kennt sie ja auch Angela Merkel?\",\n",
        "    \"Test in Salzburg während der Österreichsichen Aufklärung. In Paris wurden mehrere Menschen aus Deutschland gesichtet.\",\n",
        "    \"den meisten Lesern durch eine ausführliche Beschreibung und Beurtheilung des Wirtembergischen, im katholischen Deutschlande noch immer nicht genug belannten Gesangbuches, einen Gefallen zu erzeigen.\"\n",
        "]"
      ]
    },
    {
      "cell_type": "code",
      "execution_count": 8,
      "metadata": {
        "ExecuteTime": {
          "end_time": "2024-01-17T14:20:41.938918Z",
          "start_time": "2024-01-17T14:20:41.860333Z"
        },
        "colab": {
          "base_uri": "https://localhost:8080/"
        },
        "id": "p1MuiHFwFBpO",
        "outputId": "bce4055f-3bc7-44fb-fb6d-b0cb3d245d86"
      },
      "outputs": [
        {
          "output_type": "execute_result",
          "data": {
            "text/plain": [
              "{'EVENT': 'drive/MyDrive/KEDiff/data/trained_models/2024-01-15/oalz-1788-q1-ner-EVENT/checkpoint-1393',\n",
              " 'LOC': 'drive/MyDrive/KEDiff/data/trained_models/2024-01-15/oalz-1788-q1-ner-LOC/checkpoint-1393',\n",
              " 'MISC': 'drive/MyDrive/KEDiff/data/trained_models/2024-01-15/oalz-1788-q1-ner-MISC/checkpoint-2786',\n",
              " 'ORG': 'drive/MyDrive/KEDiff/data/trained_models/2024-01-15/oalz-1788-q1-ner-ORG/checkpoint-1393',\n",
              " 'PER': 'drive/MyDrive/KEDiff/data/trained_models/2024-01-15/oalz-1788-q1-ner-PER/checkpoint-2786',\n",
              " 'TIME': 'drive/MyDrive/KEDiff/data/trained_models/2024-01-15/oalz-1788-q1-ner-TIME/checkpoint-1393'}"
            ]
          },
          "metadata": {},
          "execution_count": 8
        }
      ],
      "source": [
        "label_types = [\"EVENT\", \"LOC\", \"MISC\", \"ORG\", \"PER\", \"TIME\"]\n",
        "selected_epochs = {\n",
        "    \"EVENT\" : \"checkpoint-1393\",\n",
        "    \"LOC\" : \"checkpoint-1393\",\n",
        "    \"MISC\" : \"checkpoint-2786\",\n",
        "    \"ORG\" : \"checkpoint-1393\",\n",
        "    \"PER\" : \"checkpoint-2786\",\n",
        "    \"TIME\" : \"checkpoint-1393\"\n",
        "}\n",
        "ner_model_paths = {\n",
        "    label_type: os.path.join(TRAINED_DIR,\n",
        "                             \"\".join([CHECKPOINT_NAME_BASE, label_type]),\n",
        "                             selected_epochs[label_type])\n",
        "    for label_type in label_types\n",
        "}\n",
        "ner_model_paths"
      ]
    },
    {
      "cell_type": "code",
      "execution_count": 9,
      "metadata": {
        "ExecuteTime": {
          "end_time": "2024-01-17T14:21:07.404398Z",
          "start_time": "2024-01-17T14:20:41.874644Z"
        },
        "id": "lCNm-15bFBpP",
        "colab": {
          "base_uri": "https://localhost:8080/"
        },
        "outputId": "3f08820b-6a3d-431b-cdd8-df3c1c05c95a"
      },
      "outputs": [
        {
          "output_type": "stream",
          "name": "stderr",
          "text": [
            "100%|██████████| 6/6 [00:18<00:00,  3.02s/it]\n"
          ]
        },
        {
          "output_type": "execute_result",
          "data": {
            "text/plain": [
              "['EVENT', 'LOC', 'MISC', 'ORG', 'PER', 'TIME']"
            ]
          },
          "metadata": {},
          "execution_count": 9
        }
      ],
      "source": [
        "token_classifiers = {}\n",
        "for label_type in tqdm(label_types):\n",
        "    token_classifiers[label_type] = pipeline(\n",
        "        \"token-classification\",\n",
        "        model=os.path.abspath(ner_model_paths[label_type]),\n",
        "        aggregation_strategy=\"simple\"\n",
        "    )\n",
        "list(token_classifiers.keys())"
      ]
    },
    {
      "cell_type": "code",
      "execution_count": 10,
      "metadata": {
        "ExecuteTime": {
          "end_time": "2024-01-17T14:21:07.405895Z",
          "start_time": "2024-01-17T14:21:07.350988Z"
        },
        "id": "r5XtqymEFBpR"
      },
      "outputs": [],
      "source": [
        "def find_entities(text: str):\n",
        "    entities = {\n",
        "        label_type : token_classifiers[label_type](text)\n",
        "        for label_type in label_types\n",
        "    }\n",
        "    return entities"
      ]
    },
    {
      "cell_type": "code",
      "outputs": [
        {
          "output_type": "execute_result",
          "data": {
            "text/plain": [
              "{'EVENT': [],\n",
              " 'LOC': [{'entity_group': 'LOC',\n",
              "   'score': 0.89277846,\n",
              "   'word': 'deutschen',\n",
              "   'start': 54,\n",
              "   'end': 63}],\n",
              " 'MISC': [],\n",
              " 'ORG': [],\n",
              " 'PER': [{'entity_group': 'PER',\n",
              "   'score': 0.98266566,\n",
              "   'word': 'Adam',\n",
              "   'start': 103,\n",
              "   'end': 107}],\n",
              " 'TIME': []}"
            ]
          },
          "metadata": {},
          "execution_count": 11
        }
      ],
      "source": [
        "text = sample_texts[0]\n",
        "entities_dict = find_entities(text)\n",
        "entities_dict"
      ],
      "metadata": {
        "ExecuteTime": {
          "end_time": "2024-01-17T14:21:23.877304Z",
          "start_time": "2024-01-17T14:21:13.418917Z"
        },
        "colab": {
          "base_uri": "https://localhost:8080/"
        },
        "id": "UJpdW_xIFBpW",
        "outputId": "ff628098-2b57-44cd-a710-8821058af7d2"
      },
      "execution_count": 11
    },
    {
      "cell_type": "code",
      "outputs": [],
      "source": [
        "def entities_dict_to_list(entities_dict):\n",
        "    entities_list = []\n",
        "    for label_type in entities_dict:\n",
        "        entities_list += entities_dict[label_type]\n",
        "    return entities_list"
      ],
      "metadata": {
        "ExecuteTime": {
          "end_time": "2024-01-17T14:21:24.247267Z",
          "start_time": "2024-01-17T14:21:23.817419Z"
        },
        "id": "39-goJXQFBpX"
      },
      "execution_count": 12
    },
    {
      "cell_type": "code",
      "outputs": [
        {
          "output_type": "execute_result",
          "data": {
            "text/plain": [
              "[{'entity_group': 'LOC',\n",
              "  'score': 0.89277846,\n",
              "  'word': 'deutschen',\n",
              "  'start': 54,\n",
              "  'end': 63},\n",
              " {'entity_group': 'PER',\n",
              "  'score': 0.98266566,\n",
              "  'word': 'Adam',\n",
              "  'start': 103,\n",
              "  'end': 107}]"
            ]
          },
          "metadata": {},
          "execution_count": 13
        }
      ],
      "source": [
        "entity_list = entities_dict_to_list(entities_dict)\n",
        "entity_list"
      ],
      "metadata": {
        "ExecuteTime": {
          "end_time": "2024-01-17T14:21:24.291415Z",
          "start_time": "2024-01-17T14:21:23.818111Z"
        },
        "colab": {
          "base_uri": "https://localhost:8080/"
        },
        "id": "LTi9dnS_FBpc",
        "outputId": "7d891b1a-4fdb-47c5-bfdd-7189099f6537"
      },
      "execution_count": 13
    },
    {
      "cell_type": "code",
      "outputs": [],
      "source": [
        "def sort_entity_list(entity_list):\n",
        "    sorted_entity_list = sorted(entity_list, key=lambda d: (d['start'], d['score'], d['entity_group']))\n",
        "    return sorted_entity_list"
      ],
      "metadata": {
        "ExecuteTime": {
          "end_time": "2024-01-17T14:21:24.294027Z",
          "start_time": "2024-01-17T14:21:23.818891Z"
        },
        "id": "8ne78YYzFBpd"
      },
      "execution_count": 14
    },
    {
      "cell_type": "code",
      "outputs": [
        {
          "output_type": "execute_result",
          "data": {
            "text/plain": [
              "[{'entity_group': 'LOC',\n",
              "  'score': 0.89277846,\n",
              "  'word': 'deutschen',\n",
              "  'start': 54,\n",
              "  'end': 63},\n",
              " {'entity_group': 'PER',\n",
              "  'score': 0.98266566,\n",
              "  'word': 'Adam',\n",
              "  'start': 103,\n",
              "  'end': 107}]"
            ]
          },
          "metadata": {},
          "execution_count": 15
        }
      ],
      "source": [
        "sorted_entity_list = sort_entity_list(entity_list)\n",
        "sorted_entity_list"
      ],
      "metadata": {
        "ExecuteTime": {
          "end_time": "2024-01-17T14:21:24.297127Z",
          "start_time": "2024-01-17T14:21:23.819401Z"
        },
        "colab": {
          "base_uri": "https://localhost:8080/"
        },
        "id": "BNtp98EOFBpd",
        "outputId": "8111a96f-0805-4121-eb4a-b9ceaba66ca5"
      },
      "execution_count": 15
    },
    {
      "cell_type": "code",
      "source": [
        "def print_entities_as_table(entity_list, tablefmt: str = \"simple_outline\"):\n",
        "    if entity_list is None or len(entity_list) == 0:\n",
        "        print(\"No entities found\")\n",
        "        return\n",
        "    header = list(entity_list[0].keys())\n",
        "    header[0] = \"type\"\n",
        "    rows = [entity.values() for entity in entity_list]\n",
        "    print(tabulate.tabulate(rows, header, tablefmt=tablefmt))"
      ],
      "metadata": {
        "id": "zY5rgN4EPf7V"
      },
      "execution_count": 16,
      "outputs": []
    },
    {
      "cell_type": "code",
      "source": [
        "print_entities_as_table(sorted_entity_list)"
      ],
      "metadata": {
        "colab": {
          "base_uri": "https://localhost:8080/"
        },
        "id": "HEMUS47nPh3f",
        "outputId": "e45ea991-587e-48b2-e0af-80e38f26c17b"
      },
      "execution_count": 17,
      "outputs": [
        {
          "output_type": "stream",
          "name": "stdout",
          "text": [
            "┌────────┬──────────┬───────────┬─────────┬───────┐\n",
            "│ type   │    score │ word      │   start │   end │\n",
            "├────────┼──────────┼───────────┼─────────┼───────┤\n",
            "│ LOC    │ 0.892778 │ deutschen │      54 │    63 │\n",
            "│ PER    │ 0.982666 │ Adam      │     103 │   107 │\n",
            "└────────┴──────────┴───────────┴─────────┴───────┘\n"
          ]
        }
      ]
    },
    {
      "cell_type": "code",
      "outputs": [],
      "source": [
        "def ner(text: str, print_table: bool = False):\n",
        "    entity_dict = find_entities(text)\n",
        "    entity_list = entities_dict_to_list(entity_dict)\n",
        "    sorted_entity_list = sort_entity_list(entity_list)\n",
        "    if print_table: print_entities_as_table(sorted_entity_list)\n",
        "    return sorted_entity_list"
      ],
      "metadata": {
        "ExecuteTime": {
          "end_time": "2024-01-17T14:21:24.325302Z",
          "start_time": "2024-01-17T14:21:23.819794Z"
        },
        "id": "Dsrb9RE5FBpf"
      },
      "execution_count": 18
    },
    {
      "cell_type": "code",
      "outputs": [
        {
          "output_type": "stream",
          "name": "stderr",
          "text": [
            "100%|██████████| 6/6 [00:10<00:00,  1.69s/it]\n"
          ]
        },
        {
          "output_type": "execute_result",
          "data": {
            "text/plain": [
              "[[{'entity_group': 'LOC',\n",
              "   'score': 0.89277846,\n",
              "   'word': 'deutschen',\n",
              "   'start': 54,\n",
              "   'end': 63},\n",
              "  {'entity_group': 'PER',\n",
              "   'score': 0.98266566,\n",
              "   'word': 'Adam',\n",
              "   'start': 103,\n",
              "   'end': 107}],\n",
              " [{'entity_group': 'PER',\n",
              "   'score': 0.9947171,\n",
              "   'word': 'Daniel Göller',\n",
              "   'start': 0,\n",
              "   'end': 13},\n",
              "  {'entity_group': 'PER',\n",
              "   'score': 0.975671,\n",
              "   'word': 'Christian Borgelts',\n",
              "   'start': 42,\n",
              "   'end': 60},\n",
              "  {'entity_group': 'PER',\n",
              "   'score': 0.84162706,\n",
              "   'word': 'Herrn Prof. Lehnert, Rektor der Universität',\n",
              "   'start': 175,\n",
              "   'end': 218},\n",
              "  {'entity_group': 'ORG',\n",
              "   'score': 0.8358596,\n",
              "   'word': 'Universität zu Salzburg',\n",
              "   'start': 207,\n",
              "   'end': 230},\n",
              "  {'entity_group': 'LOC',\n",
              "   'score': 0.9155426,\n",
              "   'word': 'Salzburg',\n",
              "   'start': 222,\n",
              "   'end': 230},\n",
              "  {'entity_group': 'LOC',\n",
              "   'score': 0.9196716,\n",
              "   'word': 'Island',\n",
              "   'start': 265,\n",
              "   'end': 271},\n",
              "  {'entity_group': 'ORG',\n",
              "   'score': 0.61161256,\n",
              "   'word': 'Kirche',\n",
              "   'start': 297,\n",
              "   'end': 303},\n",
              "  {'entity_group': 'PER',\n",
              "   'score': 0.78227496,\n",
              "   'word': 'Gott',\n",
              "   'start': 307,\n",
              "   'end': 311}],\n",
              " [],\n",
              " [{'entity_group': 'ORG',\n",
              "   'score': 0.5693627,\n",
              "   'word': 'Bundeskanzlerin',\n",
              "   'start': 0,\n",
              "   'end': 15},\n",
              "  {'entity_group': 'PER',\n",
              "   'score': 0.9921264,\n",
              "   'word': 'Bundeskanzlerin Brigitte Bierlein',\n",
              "   'start': 0,\n",
              "   'end': 33},\n",
              "  {'entity_group': 'ORG',\n",
              "   'score': 0.67151767,\n",
              "   'word': 'Bundesregierung',\n",
              "   'start': 64,\n",
              "   'end': 79},\n",
              "  {'entity_group': 'ORG',\n",
              "   'score': 0.5726234,\n",
              "   'word': '##rats',\n",
              "   'start': 118,\n",
              "   'end': 122},\n",
              "  {'entity_group': 'TIME',\n",
              "   'score': 0.8351235,\n",
              "   'word': '2019',\n",
              "   'start': 137,\n",
              "   'end': 141},\n",
              "  {'entity_group': 'ORG',\n",
              "   'score': 0.7908121,\n",
              "   'word': 'Bundesministerien',\n",
              "   'start': 164,\n",
              "   'end': 181},\n",
              "  {'entity_group': 'PER',\n",
              "   'score': 0.9889722,\n",
              "   'word': 'Angela Merkel',\n",
              "   'start': 219,\n",
              "   'end': 232}],\n",
              " [{'entity_group': 'LOC',\n",
              "   'score': 0.96092486,\n",
              "   'word': 'Salzburg',\n",
              "   'start': 8,\n",
              "   'end': 16},\n",
              "  {'entity_group': 'LOC',\n",
              "   'score': 0.9371395,\n",
              "   'word': 'Österreichsichen',\n",
              "   'start': 29,\n",
              "   'end': 45},\n",
              "  {'entity_group': 'LOC',\n",
              "   'score': 0.9643895,\n",
              "   'word': 'Paris',\n",
              "   'start': 61,\n",
              "   'end': 66},\n",
              "  {'entity_group': 'LOC',\n",
              "   'score': 0.9582276,\n",
              "   'word': 'Deutschland',\n",
              "   'start': 95,\n",
              "   'end': 106}],\n",
              " [{'entity_group': 'MISC',\n",
              "   'score': 0.5527707,\n",
              "   'word': 'Wir',\n",
              "   'start': 77,\n",
              "   'end': 80},\n",
              "  {'entity_group': 'LOC',\n",
              "   'score': 0.9195394,\n",
              "   'word': 'Wirtembergischen',\n",
              "   'start': 77,\n",
              "   'end': 93},\n",
              "  {'entity_group': 'MISC',\n",
              "   'score': 0.59037226,\n",
              "   'word': '##ischen',\n",
              "   'start': 87,\n",
              "   'end': 93},\n",
              "  {'entity_group': 'ORG',\n",
              "   'score': 0.751496,\n",
              "   'word': 'katholischen Deutschlande',\n",
              "   'start': 98,\n",
              "   'end': 123},\n",
              "  {'entity_group': 'LOC',\n",
              "   'score': 0.8247633,\n",
              "   'word': 'katholischen Deutschlande',\n",
              "   'start': 98,\n",
              "   'end': 123},\n",
              "  {'entity_group': 'MISC',\n",
              "   'score': 0.50581384,\n",
              "   'word': 'Deutschland',\n",
              "   'start': 111,\n",
              "   'end': 122}]]"
            ]
          },
          "metadata": {},
          "execution_count": 19
        }
      ],
      "source": [
        "entities = [ner(text) for text in tqdm(sample_texts)]\n",
        "entities"
      ],
      "metadata": {
        "ExecuteTime": {
          "end_time": "2024-01-17T14:21:34.963659Z",
          "start_time": "2024-01-17T14:21:23.820337Z"
        },
        "colab": {
          "base_uri": "https://localhost:8080/"
        },
        "id": "Na8h2hXCFBpg",
        "outputId": "046944d1-4aeb-4ff3-f030-6c3c2f0f7a5b"
      },
      "execution_count": 19
    },
    {
      "cell_type": "code",
      "outputs": [
        {
          "output_type": "stream",
          "name": "stdout",
          "text": [
            "Daniel Göller ist der beste Masterstudent Christian Borgelts und sollte eine Ehrenmedaille… medallje… medallie… wie schreibt man das????… sowie eine saftige Sonderzahlung von Herrn Prof. Lehnert, Rektor der Universität zu Salzburg, erhalten, sodass er endlich nach Island reisen und dort in einer Kirche zu Gott beten kann.\n",
            "\n",
            "┌────────┬──────────┬─────────────────────────────────────────────┬─────────┬───────┐\n",
            "│ type   │    score │ word                                        │   start │   end │\n",
            "├────────┼──────────┼─────────────────────────────────────────────┼─────────┼───────┤\n",
            "│ PER    │ 0.994717 │ Daniel Göller                               │       0 │    13 │\n",
            "│ PER    │ 0.975671 │ Christian Borgelts                          │      42 │    60 │\n",
            "│ PER    │ 0.841627 │ Herrn Prof. Lehnert, Rektor der Universität │     175 │   218 │\n",
            "│ ORG    │ 0.83586  │ Universität zu Salzburg                     │     207 │   230 │\n",
            "│ LOC    │ 0.915543 │ Salzburg                                    │     222 │   230 │\n",
            "│ LOC    │ 0.919672 │ Island                                      │     265 │   271 │\n",
            "│ ORG    │ 0.611613 │ Kirche                                      │     297 │   303 │\n",
            "│ PER    │ 0.782275 │ Gott                                        │     307 │   311 │\n",
            "└────────┴──────────┴─────────────────────────────────────────────┴─────────┴───────┘\n"
          ]
        }
      ],
      "source": [
        "i = 1\n",
        "print(sample_texts[i])\n",
        "print(\"\")\n",
        "x = ner(sample_texts[i], print_table=True)"
      ],
      "metadata": {
        "ExecuteTime": {
          "end_time": "2024-01-17T14:49:40.153080Z",
          "start_time": "2024-01-17T14:49:29.429614Z"
        },
        "colab": {
          "base_uri": "https://localhost:8080/"
        },
        "id": "BIvfQhE9FBph",
        "outputId": "3599f848-729d-41ce-91dc-3dbca4f638e3"
      },
      "execution_count": 20
    },
    {
      "cell_type": "code",
      "source": [],
      "metadata": {
        "id": "142A7gJBKZvo"
      },
      "execution_count": 20,
      "outputs": []
    }
  ],
  "metadata": {
    "kernelspec": {
      "display_name": "kediff",
      "language": "python",
      "name": "python3"
    },
    "language_info": {
      "codemirror_mode": {
        "name": "ipython",
        "version": 3
      },
      "file_extension": ".py",
      "mimetype": "text/x-python",
      "name": "python",
      "nbconvert_exporter": "python",
      "pygments_lexer": "ipython3",
      "version": "3.9.16"
    },
    "colab": {
      "provenance": []
    }
  },
  "nbformat": 4,
  "nbformat_minor": 0
}