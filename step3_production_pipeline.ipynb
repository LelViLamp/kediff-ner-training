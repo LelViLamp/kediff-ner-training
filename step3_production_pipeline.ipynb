{
  "cells": [
    {
      "cell_type": "markdown",
      "source": [
        "Please note that this notebook is the basis for an importable class stored in `kediff_ner_system.py`. Subsequent notebooks or classes **will use that script**, while the present notebook only served for constructing that class. ⚠️"
      ],
      "metadata": {
        "id": "mPzXexGYZiFT"
      }
    },
    {
      "cell_type": "markdown",
      "source": [
        "# Load'n'Import"
      ],
      "metadata": {
        "id": "_QktKKNVO6-W"
      }
    },
    {
      "cell_type": "markdown",
      "source": [
        "## Packages"
      ],
      "metadata": {
        "id": "bruBNkksd-pc"
      }
    },
    {
      "cell_type": "code",
      "execution_count": 1,
      "metadata": {
        "ExecuteTime": {
          "end_time": "2024-01-17T14:20:40.505177Z",
          "start_time": "2024-01-17T14:20:33.775660Z"
        },
        "id": "NAi-XWD5FBo0"
      },
      "outputs": [],
      "source": [
        "import os\n",
        "\n",
        "import tabulate\n",
        "from tqdm import tqdm\n",
        "from transformers import AutoModel, AutoTokenizer, pipeline"
      ]
    },
    {
      "cell_type": "markdown",
      "source": [
        "## Define `DATA_DIR`"
      ],
      "metadata": {
        "id": "uIh-FIkYO98l"
      }
    },
    {
      "cell_type": "code",
      "execution_count": 2,
      "metadata": {
        "ExecuteTime": {
          "end_time": "2024-01-17T14:20:40.579539Z",
          "start_time": "2024-01-17T14:20:40.512271Z"
        },
        "colab": {
          "base_uri": "https://localhost:8080/"
        },
        "id": "OEr0F9QJFBpA",
        "outputId": "41e8aca2-96a8-44f1-ae45-9497aa2b6d7a"
      },
      "outputs": [
        {
          "output_type": "stream",
          "name": "stdout",
          "text": [
            "You work on Colab. Gentle as we are, we will mount Drive for you. It'd help if you allowed this in the popup that opens.\n",
            "Mounted at /content/drive\n",
            "DATA_DIR='drive/MyDrive/KEDiff/data' --> /content/drive/MyDrive/KEDiff/data\n"
          ]
        }
      ],
      "source": [
        "try:\n",
        "    from google.colab import drive\n",
        "\n",
        "    print(\n",
        "        \"You work on Colab. Gentle as we are, we will mount Drive for you. \"\n",
        "        \"It'd help if you allowed this in the popup that opens.\"\n",
        "    )\n",
        "    drive.mount('/content/drive')\n",
        "    DATA_DIR = os.path.join('drive', 'MyDrive', 'KEDiff', 'data')\n",
        "except ModuleNotFoundError:\n",
        "    print(\"You do not work on Colab\")\n",
        "    DATA_DIR = os.path.join('data')\n",
        "print(f\"{DATA_DIR=}\", '-->', os.path.abspath(DATA_DIR))"
      ]
    },
    {
      "cell_type": "markdown",
      "source": [
        "## Load _hmBERT_ Tokeniser `dbmdz/bert-base-historic-multilingual-cased`"
      ],
      "metadata": {
        "id": "B0qO-UuOYwuJ"
      }
    },
    {
      "cell_type": "code",
      "execution_count": 3,
      "metadata": {
        "ExecuteTime": {
          "end_time": "2024-01-17T14:20:40.581022Z",
          "start_time": "2024-01-17T14:20:40.534225Z"
        },
        "id": "1UFU---IFBpG"
      },
      "outputs": [],
      "source": [
        "TOKENISER_CHECKPOINT = \"dbmdz/bert-base-historic-multilingual-cased\"\n",
        "CHECKPOINT_NAME_BASE = \"oalz-1788-q1-ner-\"\n",
        "TRAINED_DIR = os.path.join(DATA_DIR, 'trained_models', '2024-01-15')"
      ]
    },
    {
      "cell_type": "code",
      "execution_count": 4,
      "metadata": {
        "ExecuteTime": {
          "end_time": "2024-01-17T14:20:41.761489Z",
          "start_time": "2024-01-17T14:20:40.546665Z"
        },
        "colab": {
          "base_uri": "https://localhost:8080/",
          "height": 403,
          "referenced_widgets": [
            "57dc89258a93491d84b3607c7d134620",
            "d2c1974fef9e4aff9ea6a7a49fcd121a",
            "3b8fa77da3f94503a2c37d71e8a9c6ff",
            "88c1bef7778e4df0b4406cd08bb48bde",
            "0e3a015914064eba9db8e33d35f74800",
            "1538da66b42444edad99a6bbd92fb5a2",
            "c63c48307b3649749a13ad02b3383d74",
            "7f9762e154e94da8bbb47f44f642a76b",
            "7cac9d6b933842048509b3b17efaa7d3",
            "90b6464be54748e6b804bd77c283263b",
            "ff6ef1f2e1d74e9aab12ceaf031f21e4",
            "5433f72da2764100b899fd0b0945624a",
            "1dd5997ff5274373ba298107cef8e40a",
            "95bbf951d653413c82be45c7ce2bfd9d",
            "99acd3c6d2164b40911d78d16111ffe0",
            "dc88a51a0b914761a438637ccfb0a20c",
            "dd352f19df204ef5a52cd84dccab3e0b",
            "dff0641f09b4436abcbdf79ac2547af1",
            "6d4c80a4375c4c4e83a6f303597a6987",
            "a6c971914cd446c0ba944926e74ef582",
            "a497564a43b1451f89cdaa012d6cf95f",
            "abc2adaa9b614f4f91c4be6edb93eb4c",
            "7338ec9512eb4c658f1cd48f712b3226",
            "0f565849bed34eef99367c5041c7acb9",
            "8ba67522d57140c7b2a5b0a8ed20e83a",
            "3b497827a2974c7a9819e8f429f1948e",
            "6f90e28a15a5492db9b405b14bd12b4b",
            "913f9d95c062418f90a70986ee4e0708",
            "d8b1ecf512ba47a6804609cf9f13735f",
            "7a2b4ad1634540b39d523c1fe3674652",
            "9c096bc7e5a248e69201ef09235ddd5c",
            "45bbce1e926045efa56983de9d2053f0",
            "db9745bc2aa94e0c839ebbed9a5408be"
          ]
        },
        "id": "H3wsol8BFBpH",
        "outputId": "a20173c0-cfcd-46de-bfe4-57e27df3158a"
      },
      "outputs": [
        {
          "output_type": "stream",
          "name": "stderr",
          "text": [
            "/usr/local/lib/python3.10/dist-packages/huggingface_hub/utils/_token.py:88: UserWarning: \n",
            "The secret `HF_TOKEN` does not exist in your Colab secrets.\n",
            "To authenticate with the Hugging Face Hub, create a token in your settings tab (https://huggingface.co/settings/tokens), set it as secret in your Google Colab and restart your session.\n",
            "You will be able to reuse this secret in all of your notebooks.\n",
            "Please note that authentication is recommended but still optional to access public models or datasets.\n",
            "  warnings.warn(\n"
          ]
        },
        {
          "output_type": "display_data",
          "data": {
            "text/plain": [
              "tokenizer_config.json:   0%|          | 0.00/83.0 [00:00<?, ?B/s]"
            ],
            "application/vnd.jupyter.widget-view+json": {
              "version_major": 2,
              "version_minor": 0,
              "model_id": "57dc89258a93491d84b3607c7d134620"
            }
          },
          "metadata": {}
        },
        {
          "output_type": "display_data",
          "data": {
            "text/plain": [
              "config.json:   0%|          | 0.00/561 [00:00<?, ?B/s]"
            ],
            "application/vnd.jupyter.widget-view+json": {
              "version_major": 2,
              "version_minor": 0,
              "model_id": "5433f72da2764100b899fd0b0945624a"
            }
          },
          "metadata": {}
        },
        {
          "output_type": "display_data",
          "data": {
            "text/plain": [
              "vocab.txt:   0%|          | 0.00/212k [00:00<?, ?B/s]"
            ],
            "application/vnd.jupyter.widget-view+json": {
              "version_major": 2,
              "version_minor": 0,
              "model_id": "7338ec9512eb4c658f1cd48f712b3226"
            }
          },
          "metadata": {}
        }
      ],
      "source": [
        "tokeniser = AutoTokenizer.from_pretrained(TOKENISER_CHECKPOINT)"
      ]
    },
    {
      "cell_type": "markdown",
      "source": [
        "Test the tokeniser."
      ],
      "metadata": {
        "id": "HGoRJW01Y5-c"
      }
    },
    {
      "cell_type": "code",
      "execution_count": 5,
      "metadata": {
        "ExecuteTime": {
          "end_time": "2024-01-17T14:20:41.847820Z",
          "start_time": "2024-01-17T14:20:41.770290Z"
        },
        "colab": {
          "base_uri": "https://localhost:8080/"
        },
        "id": "_FVFQi1qFBpI",
        "outputId": "6f4bffbd-b2c9-4007-c74d-89435541f715"
      },
      "outputs": [
        {
          "output_type": "execute_result",
          "data": {
            "text/plain": [
              "{'id': 1003,\n",
              " 'text': 'Unter die Gegenden, die den Borkenkäfer nähren S. 13 — 14. gehört leider auch das Erzstift Salzburg.',\n",
              " 'label': [[82, 99, 'ORG'], [82, 99, 'LOC'], [28, 39, 'MISC']]}"
            ]
          },
          "metadata": {},
          "execution_count": 5
        }
      ],
      "source": [
        "sample = {\n",
        "    \"id\": 1003,\n",
        "    \"text\": \"Unter die Gegenden, die den Borkenk\\u00e4fer n\\u00e4hren S. 13 \\u2014 14. geh\\u00f6rt leider auch das Erzstift Salzburg.\",\n",
        "    \"label\": [[82, 99, \"ORG\"], [82, 99, \"LOC\"], [28, 39, \"MISC\"]]\n",
        "}\n",
        "sample"
      ]
    },
    {
      "cell_type": "code",
      "execution_count": 6,
      "metadata": {
        "ExecuteTime": {
          "end_time": "2024-01-17T14:20:41.851698Z",
          "start_time": "2024-01-17T14:20:41.796795Z"
        },
        "colab": {
          "base_uri": "https://localhost:8080/"
        },
        "id": "erdaw3lVFBpL",
        "outputId": "de71f992-62d5-49f6-cbe2-c7728fa9eeb7"
      },
      "outputs": [
        {
          "output_type": "execute_result",
          "data": {
            "text/plain": [
              "{'input_ids': [2, 2558, 788, 25854, 668, 16, 788, 767, 3383, 1199, 1176, 1582, 3835, 2221, 55, 18, 1097, 338, 1136, 18, 16130, 24914, 1532, 1190, 7840, 14369, 18843, 18, 3], 'token_type_ids': [0, 0, 0, 0, 0, 0, 0, 0, 0, 0, 0, 0, 0, 0, 0, 0, 0, 0, 0, 0, 0, 0, 0, 0, 0, 0, 0, 0, 0], 'attention_mask': [1, 1, 1, 1, 1, 1, 1, 1, 1, 1, 1, 1, 1, 1, 1, 1, 1, 1, 1, 1, 1, 1, 1, 1, 1, 1, 1, 1, 1]}"
            ]
          },
          "metadata": {},
          "execution_count": 6
        }
      ],
      "source": [
        "x = tokeniser(sample['text'])\n",
        "x"
      ]
    },
    {
      "cell_type": "markdown",
      "source": [
        "## Define some sample texts to run NER on"
      ],
      "metadata": {
        "id": "9nrIiKlnY_9P"
      }
    },
    {
      "cell_type": "code",
      "execution_count": 7,
      "metadata": {
        "ExecuteTime": {
          "end_time": "2024-01-17T14:20:41.922471Z",
          "start_time": "2024-01-17T14:20:41.835933Z"
        },
        "id": "LXjBdPexFBpN"
      },
      "outputs": [],
      "source": [
        "sample_texts = [\n",
        "    \"(Das hei\\u00dft ab ovo anfangen, wie's jener that, der vom deutschen Gleichgewichte handeln wollte, und von Adam anfieng.)\",\n",
        "    \"Daniel Göller ist der beste Masterstudent Christian Borgelts und sollte eine Ehrenmedaille… medallje… medallie… wie schreibt man das????… sowie eine saftige Sonderzahlung von Herrn Prof. Lehnert, Rektor der Universität zu Salzburg, erhalten, sodass er endlich nach Island reisen und dort in einer Kirche zu Gott beten kann.\",\n",
        "    \"Nun ist die Frage, ob das Modell auch mit Frauennamen umgehen kann, da beim Lesen der Originaltexte ein deutlicher Bias zu Männernamen aufgefallen ist. Und wie es dann wohl mit geschlechtsneutralen Namen aussieht?\",\n",
        "    \"Bundeskanzlerin Brigitte Bierlein führte bis zur Angelobung der Bundesregierung Kurz II nach der vorgezogenen Nationalratswahl im Herbst 2019 die Amtsgeschäfte der Bundesministerien weiter. Vielleicht kennt sie ja auch Angela Merkel?\",\n",
        "    \"Test in Salzburg während der Österreichsichen Aufklärung. In Paris wurden mehrere Menschen aus Deutschland gesichtet.\",\n",
        "    \"den meisten Lesern durch eine ausführliche Beschreibung und Beurtheilung des Wirtembergischen, im katholischen Deutschlande noch immer nicht genug belannten Gesangbuches, einen Gefallen zu erzeigen.\"\n",
        "]"
      ]
    },
    {
      "cell_type": "markdown",
      "source": [
        "## Load NER systems"
      ],
      "metadata": {
        "id": "QqlCTwo5ZDOP"
      }
    },
    {
      "cell_type": "code",
      "execution_count": 8,
      "metadata": {
        "ExecuteTime": {
          "end_time": "2024-01-17T14:20:41.938918Z",
          "start_time": "2024-01-17T14:20:41.860333Z"
        },
        "colab": {
          "base_uri": "https://localhost:8080/"
        },
        "id": "p1MuiHFwFBpO",
        "outputId": "660a0ea9-42d3-44c7-e9f9-6135b515d30a"
      },
      "outputs": [
        {
          "output_type": "execute_result",
          "data": {
            "text/plain": [
              "{'EVENT': 'drive/MyDrive/KEDiff/data/trained_models/2024-01-15/oalz-1788-q1-ner-EVENT/checkpoint-1393',\n",
              " 'LOC': 'drive/MyDrive/KEDiff/data/trained_models/2024-01-15/oalz-1788-q1-ner-LOC/checkpoint-1393',\n",
              " 'MISC': 'drive/MyDrive/KEDiff/data/trained_models/2024-01-15/oalz-1788-q1-ner-MISC/checkpoint-2786',\n",
              " 'ORG': 'drive/MyDrive/KEDiff/data/trained_models/2024-01-15/oalz-1788-q1-ner-ORG/checkpoint-1393',\n",
              " 'PER': 'drive/MyDrive/KEDiff/data/trained_models/2024-01-15/oalz-1788-q1-ner-PER/checkpoint-2786',\n",
              " 'TIME': 'drive/MyDrive/KEDiff/data/trained_models/2024-01-15/oalz-1788-q1-ner-TIME/checkpoint-1393'}"
            ]
          },
          "metadata": {},
          "execution_count": 8
        }
      ],
      "source": [
        "label_types = [\"EVENT\", \"LOC\", \"MISC\", \"ORG\", \"PER\", \"TIME\"]\n",
        "selected_epochs = {\n",
        "    \"EVENT\" : \"checkpoint-1393\",\n",
        "    \"LOC\" : \"checkpoint-1393\",\n",
        "    \"MISC\" : \"checkpoint-2786\",\n",
        "    \"ORG\" : \"checkpoint-1393\",\n",
        "    \"PER\" : \"checkpoint-2786\",\n",
        "    \"TIME\" : \"checkpoint-1393\"\n",
        "}\n",
        "ner_model_paths = {\n",
        "    label_type: os.path.join(TRAINED_DIR,\n",
        "                             \"\".join([CHECKPOINT_NAME_BASE, label_type]),\n",
        "                             selected_epochs[label_type])\n",
        "    for label_type in label_types\n",
        "}\n",
        "ner_model_paths"
      ]
    },
    {
      "cell_type": "code",
      "execution_count": 9,
      "metadata": {
        "ExecuteTime": {
          "end_time": "2024-01-17T14:21:07.404398Z",
          "start_time": "2024-01-17T14:20:41.874644Z"
        },
        "id": "lCNm-15bFBpP",
        "colab": {
          "base_uri": "https://localhost:8080/"
        },
        "outputId": "79ecdcf1-927c-44f2-ea6e-b9568c0938bf"
      },
      "outputs": [
        {
          "output_type": "stream",
          "name": "stderr",
          "text": [
            "100%|██████████| 6/6 [00:57<00:00,  9.50s/it]\n"
          ]
        },
        {
          "output_type": "execute_result",
          "data": {
            "text/plain": [
              "['EVENT', 'LOC', 'MISC', 'ORG', 'PER', 'TIME']"
            ]
          },
          "metadata": {},
          "execution_count": 9
        }
      ],
      "source": [
        "token_classifiers = {}\n",
        "for label_type in tqdm(label_types):\n",
        "    token_classifiers[label_type] = pipeline(\n",
        "        \"token-classification\",\n",
        "        model=os.path.abspath(ner_model_paths[label_type]),\n",
        "        aggregation_strategy=\"simple\"\n",
        "    )\n",
        "list(token_classifiers.keys())"
      ]
    },
    {
      "cell_type": "markdown",
      "source": [
        "# Build NER pipeline"
      ],
      "metadata": {
        "id": "NK8SndpDZHbC"
      }
    },
    {
      "cell_type": "markdown",
      "source": [
        "## Sub functions"
      ],
      "metadata": {
        "id": "VVbabN-CZLio"
      }
    },
    {
      "cell_type": "code",
      "execution_count": 10,
      "metadata": {
        "ExecuteTime": {
          "end_time": "2024-01-17T14:21:07.405895Z",
          "start_time": "2024-01-17T14:21:07.350988Z"
        },
        "id": "r5XtqymEFBpR"
      },
      "outputs": [],
      "source": [
        "def find_entities(text: str):\n",
        "    entities = {\n",
        "        label_type : token_classifiers[label_type](text)\n",
        "        for label_type in label_types\n",
        "    }\n",
        "    return entities"
      ]
    },
    {
      "cell_type": "code",
      "outputs": [
        {
          "output_type": "execute_result",
          "data": {
            "text/plain": [
              "{'EVENT': [],\n",
              " 'LOC': [{'entity_group': 'LOC',\n",
              "   'score': 0.89277846,\n",
              "   'word': 'deutschen',\n",
              "   'start': 54,\n",
              "   'end': 63}],\n",
              " 'MISC': [],\n",
              " 'ORG': [],\n",
              " 'PER': [{'entity_group': 'PER',\n",
              "   'score': 0.98266566,\n",
              "   'word': 'Adam',\n",
              "   'start': 103,\n",
              "   'end': 107}],\n",
              " 'TIME': []}"
            ]
          },
          "metadata": {},
          "execution_count": 11
        }
      ],
      "source": [
        "text = sample_texts[0]\n",
        "entities_dict = find_entities(text)\n",
        "entities_dict"
      ],
      "metadata": {
        "ExecuteTime": {
          "end_time": "2024-01-17T14:21:23.877304Z",
          "start_time": "2024-01-17T14:21:13.418917Z"
        },
        "colab": {
          "base_uri": "https://localhost:8080/"
        },
        "id": "UJpdW_xIFBpW",
        "outputId": "54fb3491-5981-4271-89f5-ea03bc3b8a19"
      },
      "execution_count": 11
    },
    {
      "cell_type": "code",
      "outputs": [],
      "source": [
        "def entities_dict_to_list(entities_dict):\n",
        "    entities_list = []\n",
        "    for label_type in entities_dict:\n",
        "        entities_list += entities_dict[label_type]\n",
        "    return entities_list"
      ],
      "metadata": {
        "ExecuteTime": {
          "end_time": "2024-01-17T14:21:24.247267Z",
          "start_time": "2024-01-17T14:21:23.817419Z"
        },
        "id": "39-goJXQFBpX"
      },
      "execution_count": 12
    },
    {
      "cell_type": "code",
      "outputs": [
        {
          "output_type": "execute_result",
          "data": {
            "text/plain": [
              "[{'entity_group': 'LOC',\n",
              "  'score': 0.89277846,\n",
              "  'word': 'deutschen',\n",
              "  'start': 54,\n",
              "  'end': 63},\n",
              " {'entity_group': 'PER',\n",
              "  'score': 0.98266566,\n",
              "  'word': 'Adam',\n",
              "  'start': 103,\n",
              "  'end': 107}]"
            ]
          },
          "metadata": {},
          "execution_count": 13
        }
      ],
      "source": [
        "entity_list = entities_dict_to_list(entities_dict)\n",
        "entity_list"
      ],
      "metadata": {
        "ExecuteTime": {
          "end_time": "2024-01-17T14:21:24.291415Z",
          "start_time": "2024-01-17T14:21:23.818111Z"
        },
        "colab": {
          "base_uri": "https://localhost:8080/"
        },
        "id": "LTi9dnS_FBpc",
        "outputId": "341e665d-12e0-492f-bfac-8490e8aa64a6"
      },
      "execution_count": 13
    },
    {
      "cell_type": "code",
      "outputs": [],
      "source": [
        "def sort_entity_list(entity_list):\n",
        "    sorted_entity_list = sorted(entity_list, key=lambda d: (d['start'], d['score'], d['entity_group']))\n",
        "    return sorted_entity_list"
      ],
      "metadata": {
        "ExecuteTime": {
          "end_time": "2024-01-17T14:21:24.294027Z",
          "start_time": "2024-01-17T14:21:23.818891Z"
        },
        "id": "8ne78YYzFBpd"
      },
      "execution_count": 14
    },
    {
      "cell_type": "code",
      "outputs": [
        {
          "output_type": "execute_result",
          "data": {
            "text/plain": [
              "[{'entity_group': 'LOC',\n",
              "  'score': 0.89277846,\n",
              "  'word': 'deutschen',\n",
              "  'start': 54,\n",
              "  'end': 63},\n",
              " {'entity_group': 'PER',\n",
              "  'score': 0.98266566,\n",
              "  'word': 'Adam',\n",
              "  'start': 103,\n",
              "  'end': 107}]"
            ]
          },
          "metadata": {},
          "execution_count": 15
        }
      ],
      "source": [
        "sorted_entity_list = sort_entity_list(entity_list)\n",
        "sorted_entity_list"
      ],
      "metadata": {
        "ExecuteTime": {
          "end_time": "2024-01-17T14:21:24.297127Z",
          "start_time": "2024-01-17T14:21:23.819401Z"
        },
        "colab": {
          "base_uri": "https://localhost:8080/"
        },
        "id": "BNtp98EOFBpd",
        "outputId": "4ee35cbf-a1f5-4ff9-f09b-1bef762556d9"
      },
      "execution_count": 15
    },
    {
      "cell_type": "code",
      "source": [
        "def print_entities_as_table(entity_list, tablefmt: str = \"simple_outline\"):\n",
        "    if entity_list is None or len(entity_list) == 0:\n",
        "        print(\"No entities found\")\n",
        "        return\n",
        "    header = list(entity_list[0].keys())\n",
        "    header[0] = \"type\"\n",
        "    rows = [entity.values() for entity in entity_list]\n",
        "    print(tabulate.tabulate(rows, header, tablefmt=tablefmt))"
      ],
      "metadata": {
        "id": "zY5rgN4EPf7V"
      },
      "execution_count": 16,
      "outputs": []
    },
    {
      "cell_type": "code",
      "source": [
        "print_entities_as_table(sorted_entity_list)"
      ],
      "metadata": {
        "colab": {
          "base_uri": "https://localhost:8080/"
        },
        "id": "HEMUS47nPh3f",
        "outputId": "298294af-f13f-46bf-fb61-5905bb5b0619"
      },
      "execution_count": 17,
      "outputs": [
        {
          "output_type": "stream",
          "name": "stdout",
          "text": [
            "┌────────┬──────────┬───────────┬─────────┬───────┐\n",
            "│ type   │    score │ word      │   start │   end │\n",
            "├────────┼──────────┼───────────┼─────────┼───────┤\n",
            "│ LOC    │ 0.892778 │ deutschen │      54 │    63 │\n",
            "│ PER    │ 0.982666 │ Adam      │     103 │   107 │\n",
            "└────────┴──────────┴───────────┴─────────┴───────┘\n"
          ]
        }
      ]
    },
    {
      "cell_type": "markdown",
      "source": [
        "## Stick them together into a pipeline"
      ],
      "metadata": {
        "id": "xWRTwIPMZVFq"
      }
    },
    {
      "cell_type": "code",
      "outputs": [],
      "source": [
        "def ner(text: str, print_table: bool = False):\n",
        "    entity_dict = find_entities(text)\n",
        "    entity_list = entities_dict_to_list(entity_dict)\n",
        "    sorted_entity_list = sort_entity_list(entity_list)\n",
        "    if print_table: print_entities_as_table(sorted_entity_list)\n",
        "    return sorted_entity_list"
      ],
      "metadata": {
        "ExecuteTime": {
          "end_time": "2024-01-17T14:21:24.325302Z",
          "start_time": "2024-01-17T14:21:23.819794Z"
        },
        "id": "Dsrb9RE5FBpf"
      },
      "execution_count": 18
    },
    {
      "cell_type": "code",
      "outputs": [
        {
          "output_type": "stream",
          "name": "stderr",
          "text": [
            "100%|██████████| 6/6 [00:09<00:00,  1.54s/it]\n"
          ]
        },
        {
          "output_type": "execute_result",
          "data": {
            "text/plain": [
              "[[{'entity_group': 'LOC',\n",
              "   'score': 0.89277846,\n",
              "   'word': 'deutschen',\n",
              "   'start': 54,\n",
              "   'end': 63},\n",
              "  {'entity_group': 'PER',\n",
              "   'score': 0.98266566,\n",
              "   'word': 'Adam',\n",
              "   'start': 103,\n",
              "   'end': 107}],\n",
              " [{'entity_group': 'PER',\n",
              "   'score': 0.9947171,\n",
              "   'word': 'Daniel Göller',\n",
              "   'start': 0,\n",
              "   'end': 13},\n",
              "  {'entity_group': 'PER',\n",
              "   'score': 0.975671,\n",
              "   'word': 'Christian Borgelts',\n",
              "   'start': 42,\n",
              "   'end': 60},\n",
              "  {'entity_group': 'PER',\n",
              "   'score': 0.84162706,\n",
              "   'word': 'Herrn Prof. Lehnert, Rektor der Universität',\n",
              "   'start': 175,\n",
              "   'end': 218},\n",
              "  {'entity_group': 'ORG',\n",
              "   'score': 0.8358596,\n",
              "   'word': 'Universität zu Salzburg',\n",
              "   'start': 207,\n",
              "   'end': 230},\n",
              "  {'entity_group': 'LOC',\n",
              "   'score': 0.9155426,\n",
              "   'word': 'Salzburg',\n",
              "   'start': 222,\n",
              "   'end': 230},\n",
              "  {'entity_group': 'LOC',\n",
              "   'score': 0.9196716,\n",
              "   'word': 'Island',\n",
              "   'start': 265,\n",
              "   'end': 271},\n",
              "  {'entity_group': 'ORG',\n",
              "   'score': 0.61161256,\n",
              "   'word': 'Kirche',\n",
              "   'start': 297,\n",
              "   'end': 303},\n",
              "  {'entity_group': 'PER',\n",
              "   'score': 0.78227496,\n",
              "   'word': 'Gott',\n",
              "   'start': 307,\n",
              "   'end': 311}],\n",
              " [],\n",
              " [{'entity_group': 'ORG',\n",
              "   'score': 0.5693627,\n",
              "   'word': 'Bundeskanzlerin',\n",
              "   'start': 0,\n",
              "   'end': 15},\n",
              "  {'entity_group': 'PER',\n",
              "   'score': 0.9921264,\n",
              "   'word': 'Bundeskanzlerin Brigitte Bierlein',\n",
              "   'start': 0,\n",
              "   'end': 33},\n",
              "  {'entity_group': 'ORG',\n",
              "   'score': 0.67151767,\n",
              "   'word': 'Bundesregierung',\n",
              "   'start': 64,\n",
              "   'end': 79},\n",
              "  {'entity_group': 'ORG',\n",
              "   'score': 0.5726234,\n",
              "   'word': '##rats',\n",
              "   'start': 118,\n",
              "   'end': 122},\n",
              "  {'entity_group': 'TIME',\n",
              "   'score': 0.8351235,\n",
              "   'word': '2019',\n",
              "   'start': 137,\n",
              "   'end': 141},\n",
              "  {'entity_group': 'ORG',\n",
              "   'score': 0.7908121,\n",
              "   'word': 'Bundesministerien',\n",
              "   'start': 164,\n",
              "   'end': 181},\n",
              "  {'entity_group': 'PER',\n",
              "   'score': 0.9889722,\n",
              "   'word': 'Angela Merkel',\n",
              "   'start': 219,\n",
              "   'end': 232}],\n",
              " [{'entity_group': 'LOC',\n",
              "   'score': 0.96092486,\n",
              "   'word': 'Salzburg',\n",
              "   'start': 8,\n",
              "   'end': 16},\n",
              "  {'entity_group': 'LOC',\n",
              "   'score': 0.9371395,\n",
              "   'word': 'Österreichsichen',\n",
              "   'start': 29,\n",
              "   'end': 45},\n",
              "  {'entity_group': 'LOC',\n",
              "   'score': 0.9643895,\n",
              "   'word': 'Paris',\n",
              "   'start': 61,\n",
              "   'end': 66},\n",
              "  {'entity_group': 'LOC',\n",
              "   'score': 0.9582276,\n",
              "   'word': 'Deutschland',\n",
              "   'start': 95,\n",
              "   'end': 106}],\n",
              " [{'entity_group': 'MISC',\n",
              "   'score': 0.5527707,\n",
              "   'word': 'Wir',\n",
              "   'start': 77,\n",
              "   'end': 80},\n",
              "  {'entity_group': 'LOC',\n",
              "   'score': 0.9195394,\n",
              "   'word': 'Wirtembergischen',\n",
              "   'start': 77,\n",
              "   'end': 93},\n",
              "  {'entity_group': 'MISC',\n",
              "   'score': 0.59037226,\n",
              "   'word': '##ischen',\n",
              "   'start': 87,\n",
              "   'end': 93},\n",
              "  {'entity_group': 'ORG',\n",
              "   'score': 0.751496,\n",
              "   'word': 'katholischen Deutschlande',\n",
              "   'start': 98,\n",
              "   'end': 123},\n",
              "  {'entity_group': 'LOC',\n",
              "   'score': 0.8247633,\n",
              "   'word': 'katholischen Deutschlande',\n",
              "   'start': 98,\n",
              "   'end': 123},\n",
              "  {'entity_group': 'MISC',\n",
              "   'score': 0.50581384,\n",
              "   'word': 'Deutschland',\n",
              "   'start': 111,\n",
              "   'end': 122}]]"
            ]
          },
          "metadata": {},
          "execution_count": 19
        }
      ],
      "source": [
        "entities = [ner(text) for text in tqdm(sample_texts)]\n",
        "entities"
      ],
      "metadata": {
        "ExecuteTime": {
          "end_time": "2024-01-17T14:21:34.963659Z",
          "start_time": "2024-01-17T14:21:23.820337Z"
        },
        "colab": {
          "base_uri": "https://localhost:8080/"
        },
        "id": "Na8h2hXCFBpg",
        "outputId": "7c79aee5-760f-4eb7-cfa5-08ebeef302f1"
      },
      "execution_count": 19
    },
    {
      "cell_type": "code",
      "outputs": [
        {
          "output_type": "stream",
          "name": "stdout",
          "text": [
            "Daniel Göller ist der beste Masterstudent Christian Borgelts und sollte eine Ehrenmedaille… medallje… medallie… wie schreibt man das????… sowie eine saftige Sonderzahlung von Herrn Prof. Lehnert, Rektor der Universität zu Salzburg, erhalten, sodass er endlich nach Island reisen und dort in einer Kirche zu Gott beten kann.\n",
            "\n",
            "┌────────┬──────────┬─────────────────────────────────────────────┬─────────┬───────┐\n",
            "│ type   │    score │ word                                        │   start │   end │\n",
            "├────────┼──────────┼─────────────────────────────────────────────┼─────────┼───────┤\n",
            "│ PER    │ 0.994717 │ Daniel Göller                               │       0 │    13 │\n",
            "│ PER    │ 0.975671 │ Christian Borgelts                          │      42 │    60 │\n",
            "│ PER    │ 0.841627 │ Herrn Prof. Lehnert, Rektor der Universität │     175 │   218 │\n",
            "│ ORG    │ 0.83586  │ Universität zu Salzburg                     │     207 │   230 │\n",
            "│ LOC    │ 0.915543 │ Salzburg                                    │     222 │   230 │\n",
            "│ LOC    │ 0.919672 │ Island                                      │     265 │   271 │\n",
            "│ ORG    │ 0.611613 │ Kirche                                      │     297 │   303 │\n",
            "│ PER    │ 0.782275 │ Gott                                        │     307 │   311 │\n",
            "└────────┴──────────┴─────────────────────────────────────────────┴─────────┴───────┘\n"
          ]
        }
      ],
      "source": [
        "i = 1\n",
        "print(sample_texts[i])\n",
        "print(\"\")\n",
        "x = ner(sample_texts[i], print_table=True)"
      ],
      "metadata": {
        "ExecuteTime": {
          "end_time": "2024-01-17T14:49:40.153080Z",
          "start_time": "2024-01-17T14:49:29.429614Z"
        },
        "colab": {
          "base_uri": "https://localhost:8080/"
        },
        "id": "BIvfQhE9FBph",
        "outputId": "6ca78983-7af3-4f8f-d97b-066f07ef79e6"
      },
      "execution_count": 20
    },
    {
      "cell_type": "code",
      "source": [
        "x = ner(\"Willkommen in Österreich\", print_table=True)"
      ],
      "metadata": {
        "id": "142A7gJBKZvo",
        "colab": {
          "base_uri": "https://localhost:8080/"
        },
        "outputId": "5448c59c-47bd-4d22-d28b-5cd1fbf33819"
      },
      "execution_count": 21,
      "outputs": [
        {
          "output_type": "stream",
          "name": "stdout",
          "text": [
            "┌────────┬──────────┬────────────┬─────────┬───────┐\n",
            "│ type   │    score │ word       │   start │   end │\n",
            "├────────┼──────────┼────────────┼─────────┼───────┤\n",
            "│ LOC    │ 0.961031 │ Österreich │      14 │    24 │\n",
            "└────────┴──────────┴────────────┴─────────┴───────┘\n"
          ]
        }
      ]
    },
    {
      "cell_type": "markdown",
      "source": [
        "# Some observations when using the NER system"
      ],
      "metadata": {
        "id": "zHc5krpLZeI5"
      }
    },
    {
      "cell_type": "code",
      "source": [
        "x = ner(\"D. Hr. Rec. betrachtet den Text von L.K.Y.I. aus der vorhergehenden Ausgabe.\", print_table=True)"
      ],
      "metadata": {
        "colab": {
          "base_uri": "https://localhost:8080/"
        },
        "id": "gXkKO5V4Z46Z",
        "outputId": "a09c4922-a3ac-4066-f07e-e5f55c1a26c6"
      },
      "execution_count": 22,
      "outputs": [
        {
          "output_type": "stream",
          "name": "stdout",
          "text": [
            "┌────────┬──────────┬────────────┬─────────┬───────┐\n",
            "│ type   │    score │ word       │   start │   end │\n",
            "├────────┼──────────┼────────────┼─────────┼───────┤\n",
            "│ PER    │ 0.991839 │ Hr. Rec.   │       3 │    11 │\n",
            "│ MISC   │ 0.571993 │ L. K. Y    │      36 │    41 │\n",
            "│ PER    │ 0.979722 │ L. K. Y. I │      36 │    43 │\n",
            "└────────┴──────────┴────────────┴─────────┴───────┘\n"
          ]
        }
      ]
    },
    {
      "cell_type": "code",
      "source": [
        "x = ner(\"D. Hr. V. betrachtet den Text von L.K.Y.I. aus der vorhergehenden Ausgabe.\", print_table=True)"
      ],
      "metadata": {
        "colab": {
          "base_uri": "https://localhost:8080/"
        },
        "id": "UZDrZbLudMmg",
        "outputId": "2d1911bc-176b-401b-9a09-4d62b4920461"
      },
      "execution_count": 23,
      "outputs": [
        {
          "output_type": "stream",
          "name": "stdout",
          "text": [
            "┌────────┬──────────┬────────────┬─────────┬───────┐\n",
            "│ type   │    score │ word       │   start │   end │\n",
            "├────────┼──────────┼────────────┼─────────┼───────┤\n",
            "│ PER    │ 0.969234 │ Hr. V.     │       3 │     9 │\n",
            "│ PER    │ 0.983884 │ L. K. Y. I │      34 │    41 │\n",
            "└────────┴──────────┴────────────┴─────────┴───────┘\n"
          ]
        }
      ]
    },
    {
      "cell_type": "code",
      "source": [
        "x = ner(\"Der V. betrachtet den Text von L.K.Y.I. aus der vorhergehenden Ausgabe.\", print_table=True)"
      ],
      "metadata": {
        "colab": {
          "base_uri": "https://localhost:8080/"
        },
        "id": "fqunWaCcehfv",
        "outputId": "77e6d3a9-0d22-46c7-ade4-6fa9b0dd98f8"
      },
      "execution_count": 24,
      "outputs": [
        {
          "output_type": "stream",
          "name": "stdout",
          "text": [
            "┌────────┬──────────┬────────────┬─────────┬───────┐\n",
            "│ type   │    score │ word       │   start │   end │\n",
            "├────────┼──────────┼────────────┼─────────┼───────┤\n",
            "│ PER    │ 0.996371 │ V          │       4 │     5 │\n",
            "│ PER    │ 0.969254 │ L. K. Y. I │      31 │    38 │\n",
            "│ MISC   │ 0.523102 │ K          │      33 │    34 │\n",
            "└────────┴──────────┴────────────┴─────────┴───────┘\n"
          ]
        }
      ]
    },
    {
      "cell_type": "markdown",
      "source": [
        "Als Rec. ist LKYI MISC mit Verfasser nicht. 🤔"
      ],
      "metadata": {
        "id": "9Nl_MHlMd1lE"
      }
    },
    {
      "cell_type": "code",
      "source": [
        "x = ner(\"D. Hr. Verf. betrachtet den Text von L.K.Y.I. aus der vorhergehenden Ausgabe.\", print_table=True)"
      ],
      "metadata": {
        "colab": {
          "base_uri": "https://localhost:8080/"
        },
        "id": "l1KKNhBZdu_f",
        "outputId": "f37dc0b5-8d20-4e16-d8ca-46c08194504f"
      },
      "execution_count": 25,
      "outputs": [
        {
          "output_type": "stream",
          "name": "stdout",
          "text": [
            "┌────────┬──────────┬────────────┬─────────┬───────┐\n",
            "│ type   │    score │ word       │   start │   end │\n",
            "├────────┼──────────┼────────────┼─────────┼───────┤\n",
            "│ PER    │ 0.993812 │ Hr. Verf.  │       3 │    12 │\n",
            "│ MISC   │ 0.554557 │ L. K. Y.   │      37 │    43 │\n",
            "│ PER    │ 0.978283 │ L. K. Y. I │      37 │    44 │\n",
            "└────────┴──────────┴────────────┴─────────┴───────┘\n"
          ]
        }
      ]
    },
    {
      "cell_type": "code",
      "source": [
        "tokeniser(\"Kantsche Theorie\")"
      ],
      "metadata": {
        "colab": {
          "base_uri": "https://localhost:8080/"
        },
        "id": "VxHPvYLTeQKv",
        "outputId": "5e722be1-79cc-40b5-d231-b1c3fbad6838"
      },
      "execution_count": 26,
      "outputs": [
        {
          "output_type": "execute_result",
          "data": {
            "text/plain": [
              "{'input_ids': [2, 24626, 3040, 922, 12942, 3], 'token_type_ids': [0, 0, 0, 0, 0, 0], 'attention_mask': [1, 1, 1, 1, 1, 1]}"
            ]
          },
          "metadata": {},
          "execution_count": 26
        }
      ]
    },
    {
      "cell_type": "code",
      "source": [
        "tokeniser(\"Kantsche\")"
      ],
      "metadata": {
        "colab": {
          "base_uri": "https://localhost:8080/"
        },
        "id": "TK6n0r7FggDE",
        "outputId": "b222f32a-264c-4113-e1c1-d62507a15a5f"
      },
      "execution_count": 27,
      "outputs": [
        {
          "output_type": "execute_result",
          "data": {
            "text/plain": [
              "{'input_ids': [2, 24626, 3040, 3], 'token_type_ids': [0, 0, 0, 0], 'attention_mask': [1, 1, 1, 1]}"
            ]
          },
          "metadata": {},
          "execution_count": 27
        }
      ]
    },
    {
      "cell_type": "markdown",
      "source": [
        "# Thoughts & Todos"
      ],
      "metadata": {
        "id": "AwiFkBAWaD0U"
      }
    },
    {
      "cell_type": "markdown",
      "source": [
        "Confusion matrix:\n",
        "\n",
        "* we've got 3 classes: `O`, `B-PER`, `I-PER`\n",
        "* transform to `O` and `PER` → treat as **binary classification** matrix by summarising `B-PER` and `I-PER` in same class \"`PER`\".\n",
        "\n",
        "**How do we count? Is our unit a word, tokens, something else?**\n",
        "\n",
        "```\n",
        "Kantsche Theorie\n",
        "PPPP------------\n",
        "\n",
        "Daniels Dominik\n",
        "PPPPPPP-PPPPPPP\n",
        "BIIIIII-BIIIIII\n",
        "```"
      ],
      "metadata": {
        "id": "l81SoBfCf3Jv"
      }
    },
    {
      "cell_type": "markdown",
      "source": [
        "Todos\n",
        "\n",
        "*   create an index of persons and the pages they're mentioned on\n",
        "*   adds an outlook for other tasks on the manual labour to be done after automatic index creation (PER is class with most data)\n",
        "*   transform automatic annotations (step4) to LATEX format (OCR files) and XML\n",
        "*   make models available, e.g. on the HF Model Hub --> plus example to play around with\n",
        "*   write thesis"
      ],
      "metadata": {
        "id": "z585myu9jvmp"
      }
    }
  ],
  "metadata": {
    "kernelspec": {
      "display_name": "kediff",
      "language": "python",
      "name": "python3"
    },
    "language_info": {
      "codemirror_mode": {
        "name": "ipython",
        "version": 3
      },
      "file_extension": ".py",
      "mimetype": "text/x-python",
      "name": "python",
      "nbconvert_exporter": "python",
      "pygments_lexer": "ipython3",
      "version": "3.9.16"
    },
    "colab": {
      "provenance": [],
      "collapsed_sections": [
        "_QktKKNVO6-W",
        "uIh-FIkYO98l",
        "B0qO-UuOYwuJ",
        "9nrIiKlnY_9P",
        "QqlCTwo5ZDOP",
        "NK8SndpDZHbC",
        "VVbabN-CZLio",
        "xWRTwIPMZVFq",
        "zHc5krpLZeI5"
      ]
    },
    "widgets": {
      "application/vnd.jupyter.widget-state+json": {
        "57dc89258a93491d84b3607c7d134620": {
          "model_module": "@jupyter-widgets/controls",
          "model_name": "HBoxModel",
          "model_module_version": "1.5.0",
          "state": {
            "_dom_classes": [],
            "_model_module": "@jupyter-widgets/controls",
            "_model_module_version": "1.5.0",
            "_model_name": "HBoxModel",
            "_view_count": null,
            "_view_module": "@jupyter-widgets/controls",
            "_view_module_version": "1.5.0",
            "_view_name": "HBoxView",
            "box_style": "",
            "children": [
              "IPY_MODEL_d2c1974fef9e4aff9ea6a7a49fcd121a",
              "IPY_MODEL_3b8fa77da3f94503a2c37d71e8a9c6ff",
              "IPY_MODEL_88c1bef7778e4df0b4406cd08bb48bde"
            ],
            "layout": "IPY_MODEL_0e3a015914064eba9db8e33d35f74800"
          }
        },
        "d2c1974fef9e4aff9ea6a7a49fcd121a": {
          "model_module": "@jupyter-widgets/controls",
          "model_name": "HTMLModel",
          "model_module_version": "1.5.0",
          "state": {
            "_dom_classes": [],
            "_model_module": "@jupyter-widgets/controls",
            "_model_module_version": "1.5.0",
            "_model_name": "HTMLModel",
            "_view_count": null,
            "_view_module": "@jupyter-widgets/controls",
            "_view_module_version": "1.5.0",
            "_view_name": "HTMLView",
            "description": "",
            "description_tooltip": null,
            "layout": "IPY_MODEL_1538da66b42444edad99a6bbd92fb5a2",
            "placeholder": "​",
            "style": "IPY_MODEL_c63c48307b3649749a13ad02b3383d74",
            "value": "tokenizer_config.json: 100%"
          }
        },
        "3b8fa77da3f94503a2c37d71e8a9c6ff": {
          "model_module": "@jupyter-widgets/controls",
          "model_name": "FloatProgressModel",
          "model_module_version": "1.5.0",
          "state": {
            "_dom_classes": [],
            "_model_module": "@jupyter-widgets/controls",
            "_model_module_version": "1.5.0",
            "_model_name": "FloatProgressModel",
            "_view_count": null,
            "_view_module": "@jupyter-widgets/controls",
            "_view_module_version": "1.5.0",
            "_view_name": "ProgressView",
            "bar_style": "success",
            "description": "",
            "description_tooltip": null,
            "layout": "IPY_MODEL_7f9762e154e94da8bbb47f44f642a76b",
            "max": 83,
            "min": 0,
            "orientation": "horizontal",
            "style": "IPY_MODEL_7cac9d6b933842048509b3b17efaa7d3",
            "value": 83
          }
        },
        "88c1bef7778e4df0b4406cd08bb48bde": {
          "model_module": "@jupyter-widgets/controls",
          "model_name": "HTMLModel",
          "model_module_version": "1.5.0",
          "state": {
            "_dom_classes": [],
            "_model_module": "@jupyter-widgets/controls",
            "_model_module_version": "1.5.0",
            "_model_name": "HTMLModel",
            "_view_count": null,
            "_view_module": "@jupyter-widgets/controls",
            "_view_module_version": "1.5.0",
            "_view_name": "HTMLView",
            "description": "",
            "description_tooltip": null,
            "layout": "IPY_MODEL_90b6464be54748e6b804bd77c283263b",
            "placeholder": "​",
            "style": "IPY_MODEL_ff6ef1f2e1d74e9aab12ceaf031f21e4",
            "value": " 83.0/83.0 [00:00&lt;00:00, 2.69kB/s]"
          }
        },
        "0e3a015914064eba9db8e33d35f74800": {
          "model_module": "@jupyter-widgets/base",
          "model_name": "LayoutModel",
          "model_module_version": "1.2.0",
          "state": {
            "_model_module": "@jupyter-widgets/base",
            "_model_module_version": "1.2.0",
            "_model_name": "LayoutModel",
            "_view_count": null,
            "_view_module": "@jupyter-widgets/base",
            "_view_module_version": "1.2.0",
            "_view_name": "LayoutView",
            "align_content": null,
            "align_items": null,
            "align_self": null,
            "border": null,
            "bottom": null,
            "display": null,
            "flex": null,
            "flex_flow": null,
            "grid_area": null,
            "grid_auto_columns": null,
            "grid_auto_flow": null,
            "grid_auto_rows": null,
            "grid_column": null,
            "grid_gap": null,
            "grid_row": null,
            "grid_template_areas": null,
            "grid_template_columns": null,
            "grid_template_rows": null,
            "height": null,
            "justify_content": null,
            "justify_items": null,
            "left": null,
            "margin": null,
            "max_height": null,
            "max_width": null,
            "min_height": null,
            "min_width": null,
            "object_fit": null,
            "object_position": null,
            "order": null,
            "overflow": null,
            "overflow_x": null,
            "overflow_y": null,
            "padding": null,
            "right": null,
            "top": null,
            "visibility": null,
            "width": null
          }
        },
        "1538da66b42444edad99a6bbd92fb5a2": {
          "model_module": "@jupyter-widgets/base",
          "model_name": "LayoutModel",
          "model_module_version": "1.2.0",
          "state": {
            "_model_module": "@jupyter-widgets/base",
            "_model_module_version": "1.2.0",
            "_model_name": "LayoutModel",
            "_view_count": null,
            "_view_module": "@jupyter-widgets/base",
            "_view_module_version": "1.2.0",
            "_view_name": "LayoutView",
            "align_content": null,
            "align_items": null,
            "align_self": null,
            "border": null,
            "bottom": null,
            "display": null,
            "flex": null,
            "flex_flow": null,
            "grid_area": null,
            "grid_auto_columns": null,
            "grid_auto_flow": null,
            "grid_auto_rows": null,
            "grid_column": null,
            "grid_gap": null,
            "grid_row": null,
            "grid_template_areas": null,
            "grid_template_columns": null,
            "grid_template_rows": null,
            "height": null,
            "justify_content": null,
            "justify_items": null,
            "left": null,
            "margin": null,
            "max_height": null,
            "max_width": null,
            "min_height": null,
            "min_width": null,
            "object_fit": null,
            "object_position": null,
            "order": null,
            "overflow": null,
            "overflow_x": null,
            "overflow_y": null,
            "padding": null,
            "right": null,
            "top": null,
            "visibility": null,
            "width": null
          }
        },
        "c63c48307b3649749a13ad02b3383d74": {
          "model_module": "@jupyter-widgets/controls",
          "model_name": "DescriptionStyleModel",
          "model_module_version": "1.5.0",
          "state": {
            "_model_module": "@jupyter-widgets/controls",
            "_model_module_version": "1.5.0",
            "_model_name": "DescriptionStyleModel",
            "_view_count": null,
            "_view_module": "@jupyter-widgets/base",
            "_view_module_version": "1.2.0",
            "_view_name": "StyleView",
            "description_width": ""
          }
        },
        "7f9762e154e94da8bbb47f44f642a76b": {
          "model_module": "@jupyter-widgets/base",
          "model_name": "LayoutModel",
          "model_module_version": "1.2.0",
          "state": {
            "_model_module": "@jupyter-widgets/base",
            "_model_module_version": "1.2.0",
            "_model_name": "LayoutModel",
            "_view_count": null,
            "_view_module": "@jupyter-widgets/base",
            "_view_module_version": "1.2.0",
            "_view_name": "LayoutView",
            "align_content": null,
            "align_items": null,
            "align_self": null,
            "border": null,
            "bottom": null,
            "display": null,
            "flex": null,
            "flex_flow": null,
            "grid_area": null,
            "grid_auto_columns": null,
            "grid_auto_flow": null,
            "grid_auto_rows": null,
            "grid_column": null,
            "grid_gap": null,
            "grid_row": null,
            "grid_template_areas": null,
            "grid_template_columns": null,
            "grid_template_rows": null,
            "height": null,
            "justify_content": null,
            "justify_items": null,
            "left": null,
            "margin": null,
            "max_height": null,
            "max_width": null,
            "min_height": null,
            "min_width": null,
            "object_fit": null,
            "object_position": null,
            "order": null,
            "overflow": null,
            "overflow_x": null,
            "overflow_y": null,
            "padding": null,
            "right": null,
            "top": null,
            "visibility": null,
            "width": null
          }
        },
        "7cac9d6b933842048509b3b17efaa7d3": {
          "model_module": "@jupyter-widgets/controls",
          "model_name": "ProgressStyleModel",
          "model_module_version": "1.5.0",
          "state": {
            "_model_module": "@jupyter-widgets/controls",
            "_model_module_version": "1.5.0",
            "_model_name": "ProgressStyleModel",
            "_view_count": null,
            "_view_module": "@jupyter-widgets/base",
            "_view_module_version": "1.2.0",
            "_view_name": "StyleView",
            "bar_color": null,
            "description_width": ""
          }
        },
        "90b6464be54748e6b804bd77c283263b": {
          "model_module": "@jupyter-widgets/base",
          "model_name": "LayoutModel",
          "model_module_version": "1.2.0",
          "state": {
            "_model_module": "@jupyter-widgets/base",
            "_model_module_version": "1.2.0",
            "_model_name": "LayoutModel",
            "_view_count": null,
            "_view_module": "@jupyter-widgets/base",
            "_view_module_version": "1.2.0",
            "_view_name": "LayoutView",
            "align_content": null,
            "align_items": null,
            "align_self": null,
            "border": null,
            "bottom": null,
            "display": null,
            "flex": null,
            "flex_flow": null,
            "grid_area": null,
            "grid_auto_columns": null,
            "grid_auto_flow": null,
            "grid_auto_rows": null,
            "grid_column": null,
            "grid_gap": null,
            "grid_row": null,
            "grid_template_areas": null,
            "grid_template_columns": null,
            "grid_template_rows": null,
            "height": null,
            "justify_content": null,
            "justify_items": null,
            "left": null,
            "margin": null,
            "max_height": null,
            "max_width": null,
            "min_height": null,
            "min_width": null,
            "object_fit": null,
            "object_position": null,
            "order": null,
            "overflow": null,
            "overflow_x": null,
            "overflow_y": null,
            "padding": null,
            "right": null,
            "top": null,
            "visibility": null,
            "width": null
          }
        },
        "ff6ef1f2e1d74e9aab12ceaf031f21e4": {
          "model_module": "@jupyter-widgets/controls",
          "model_name": "DescriptionStyleModel",
          "model_module_version": "1.5.0",
          "state": {
            "_model_module": "@jupyter-widgets/controls",
            "_model_module_version": "1.5.0",
            "_model_name": "DescriptionStyleModel",
            "_view_count": null,
            "_view_module": "@jupyter-widgets/base",
            "_view_module_version": "1.2.0",
            "_view_name": "StyleView",
            "description_width": ""
          }
        },
        "5433f72da2764100b899fd0b0945624a": {
          "model_module": "@jupyter-widgets/controls",
          "model_name": "HBoxModel",
          "model_module_version": "1.5.0",
          "state": {
            "_dom_classes": [],
            "_model_module": "@jupyter-widgets/controls",
            "_model_module_version": "1.5.0",
            "_model_name": "HBoxModel",
            "_view_count": null,
            "_view_module": "@jupyter-widgets/controls",
            "_view_module_version": "1.5.0",
            "_view_name": "HBoxView",
            "box_style": "",
            "children": [
              "IPY_MODEL_1dd5997ff5274373ba298107cef8e40a",
              "IPY_MODEL_95bbf951d653413c82be45c7ce2bfd9d",
              "IPY_MODEL_99acd3c6d2164b40911d78d16111ffe0"
            ],
            "layout": "IPY_MODEL_dc88a51a0b914761a438637ccfb0a20c"
          }
        },
        "1dd5997ff5274373ba298107cef8e40a": {
          "model_module": "@jupyter-widgets/controls",
          "model_name": "HTMLModel",
          "model_module_version": "1.5.0",
          "state": {
            "_dom_classes": [],
            "_model_module": "@jupyter-widgets/controls",
            "_model_module_version": "1.5.0",
            "_model_name": "HTMLModel",
            "_view_count": null,
            "_view_module": "@jupyter-widgets/controls",
            "_view_module_version": "1.5.0",
            "_view_name": "HTMLView",
            "description": "",
            "description_tooltip": null,
            "layout": "IPY_MODEL_dd352f19df204ef5a52cd84dccab3e0b",
            "placeholder": "​",
            "style": "IPY_MODEL_dff0641f09b4436abcbdf79ac2547af1",
            "value": "config.json: 100%"
          }
        },
        "95bbf951d653413c82be45c7ce2bfd9d": {
          "model_module": "@jupyter-widgets/controls",
          "model_name": "FloatProgressModel",
          "model_module_version": "1.5.0",
          "state": {
            "_dom_classes": [],
            "_model_module": "@jupyter-widgets/controls",
            "_model_module_version": "1.5.0",
            "_model_name": "FloatProgressModel",
            "_view_count": null,
            "_view_module": "@jupyter-widgets/controls",
            "_view_module_version": "1.5.0",
            "_view_name": "ProgressView",
            "bar_style": "success",
            "description": "",
            "description_tooltip": null,
            "layout": "IPY_MODEL_6d4c80a4375c4c4e83a6f303597a6987",
            "max": 561,
            "min": 0,
            "orientation": "horizontal",
            "style": "IPY_MODEL_a6c971914cd446c0ba944926e74ef582",
            "value": 561
          }
        },
        "99acd3c6d2164b40911d78d16111ffe0": {
          "model_module": "@jupyter-widgets/controls",
          "model_name": "HTMLModel",
          "model_module_version": "1.5.0",
          "state": {
            "_dom_classes": [],
            "_model_module": "@jupyter-widgets/controls",
            "_model_module_version": "1.5.0",
            "_model_name": "HTMLModel",
            "_view_count": null,
            "_view_module": "@jupyter-widgets/controls",
            "_view_module_version": "1.5.0",
            "_view_name": "HTMLView",
            "description": "",
            "description_tooltip": null,
            "layout": "IPY_MODEL_a497564a43b1451f89cdaa012d6cf95f",
            "placeholder": "​",
            "style": "IPY_MODEL_abc2adaa9b614f4f91c4be6edb93eb4c",
            "value": " 561/561 [00:00&lt;00:00, 23.2kB/s]"
          }
        },
        "dc88a51a0b914761a438637ccfb0a20c": {
          "model_module": "@jupyter-widgets/base",
          "model_name": "LayoutModel",
          "model_module_version": "1.2.0",
          "state": {
            "_model_module": "@jupyter-widgets/base",
            "_model_module_version": "1.2.0",
            "_model_name": "LayoutModel",
            "_view_count": null,
            "_view_module": "@jupyter-widgets/base",
            "_view_module_version": "1.2.0",
            "_view_name": "LayoutView",
            "align_content": null,
            "align_items": null,
            "align_self": null,
            "border": null,
            "bottom": null,
            "display": null,
            "flex": null,
            "flex_flow": null,
            "grid_area": null,
            "grid_auto_columns": null,
            "grid_auto_flow": null,
            "grid_auto_rows": null,
            "grid_column": null,
            "grid_gap": null,
            "grid_row": null,
            "grid_template_areas": null,
            "grid_template_columns": null,
            "grid_template_rows": null,
            "height": null,
            "justify_content": null,
            "justify_items": null,
            "left": null,
            "margin": null,
            "max_height": null,
            "max_width": null,
            "min_height": null,
            "min_width": null,
            "object_fit": null,
            "object_position": null,
            "order": null,
            "overflow": null,
            "overflow_x": null,
            "overflow_y": null,
            "padding": null,
            "right": null,
            "top": null,
            "visibility": null,
            "width": null
          }
        },
        "dd352f19df204ef5a52cd84dccab3e0b": {
          "model_module": "@jupyter-widgets/base",
          "model_name": "LayoutModel",
          "model_module_version": "1.2.0",
          "state": {
            "_model_module": "@jupyter-widgets/base",
            "_model_module_version": "1.2.0",
            "_model_name": "LayoutModel",
            "_view_count": null,
            "_view_module": "@jupyter-widgets/base",
            "_view_module_version": "1.2.0",
            "_view_name": "LayoutView",
            "align_content": null,
            "align_items": null,
            "align_self": null,
            "border": null,
            "bottom": null,
            "display": null,
            "flex": null,
            "flex_flow": null,
            "grid_area": null,
            "grid_auto_columns": null,
            "grid_auto_flow": null,
            "grid_auto_rows": null,
            "grid_column": null,
            "grid_gap": null,
            "grid_row": null,
            "grid_template_areas": null,
            "grid_template_columns": null,
            "grid_template_rows": null,
            "height": null,
            "justify_content": null,
            "justify_items": null,
            "left": null,
            "margin": null,
            "max_height": null,
            "max_width": null,
            "min_height": null,
            "min_width": null,
            "object_fit": null,
            "object_position": null,
            "order": null,
            "overflow": null,
            "overflow_x": null,
            "overflow_y": null,
            "padding": null,
            "right": null,
            "top": null,
            "visibility": null,
            "width": null
          }
        },
        "dff0641f09b4436abcbdf79ac2547af1": {
          "model_module": "@jupyter-widgets/controls",
          "model_name": "DescriptionStyleModel",
          "model_module_version": "1.5.0",
          "state": {
            "_model_module": "@jupyter-widgets/controls",
            "_model_module_version": "1.5.0",
            "_model_name": "DescriptionStyleModel",
            "_view_count": null,
            "_view_module": "@jupyter-widgets/base",
            "_view_module_version": "1.2.0",
            "_view_name": "StyleView",
            "description_width": ""
          }
        },
        "6d4c80a4375c4c4e83a6f303597a6987": {
          "model_module": "@jupyter-widgets/base",
          "model_name": "LayoutModel",
          "model_module_version": "1.2.0",
          "state": {
            "_model_module": "@jupyter-widgets/base",
            "_model_module_version": "1.2.0",
            "_model_name": "LayoutModel",
            "_view_count": null,
            "_view_module": "@jupyter-widgets/base",
            "_view_module_version": "1.2.0",
            "_view_name": "LayoutView",
            "align_content": null,
            "align_items": null,
            "align_self": null,
            "border": null,
            "bottom": null,
            "display": null,
            "flex": null,
            "flex_flow": null,
            "grid_area": null,
            "grid_auto_columns": null,
            "grid_auto_flow": null,
            "grid_auto_rows": null,
            "grid_column": null,
            "grid_gap": null,
            "grid_row": null,
            "grid_template_areas": null,
            "grid_template_columns": null,
            "grid_template_rows": null,
            "height": null,
            "justify_content": null,
            "justify_items": null,
            "left": null,
            "margin": null,
            "max_height": null,
            "max_width": null,
            "min_height": null,
            "min_width": null,
            "object_fit": null,
            "object_position": null,
            "order": null,
            "overflow": null,
            "overflow_x": null,
            "overflow_y": null,
            "padding": null,
            "right": null,
            "top": null,
            "visibility": null,
            "width": null
          }
        },
        "a6c971914cd446c0ba944926e74ef582": {
          "model_module": "@jupyter-widgets/controls",
          "model_name": "ProgressStyleModel",
          "model_module_version": "1.5.0",
          "state": {
            "_model_module": "@jupyter-widgets/controls",
            "_model_module_version": "1.5.0",
            "_model_name": "ProgressStyleModel",
            "_view_count": null,
            "_view_module": "@jupyter-widgets/base",
            "_view_module_version": "1.2.0",
            "_view_name": "StyleView",
            "bar_color": null,
            "description_width": ""
          }
        },
        "a497564a43b1451f89cdaa012d6cf95f": {
          "model_module": "@jupyter-widgets/base",
          "model_name": "LayoutModel",
          "model_module_version": "1.2.0",
          "state": {
            "_model_module": "@jupyter-widgets/base",
            "_model_module_version": "1.2.0",
            "_model_name": "LayoutModel",
            "_view_count": null,
            "_view_module": "@jupyter-widgets/base",
            "_view_module_version": "1.2.0",
            "_view_name": "LayoutView",
            "align_content": null,
            "align_items": null,
            "align_self": null,
            "border": null,
            "bottom": null,
            "display": null,
            "flex": null,
            "flex_flow": null,
            "grid_area": null,
            "grid_auto_columns": null,
            "grid_auto_flow": null,
            "grid_auto_rows": null,
            "grid_column": null,
            "grid_gap": null,
            "grid_row": null,
            "grid_template_areas": null,
            "grid_template_columns": null,
            "grid_template_rows": null,
            "height": null,
            "justify_content": null,
            "justify_items": null,
            "left": null,
            "margin": null,
            "max_height": null,
            "max_width": null,
            "min_height": null,
            "min_width": null,
            "object_fit": null,
            "object_position": null,
            "order": null,
            "overflow": null,
            "overflow_x": null,
            "overflow_y": null,
            "padding": null,
            "right": null,
            "top": null,
            "visibility": null,
            "width": null
          }
        },
        "abc2adaa9b614f4f91c4be6edb93eb4c": {
          "model_module": "@jupyter-widgets/controls",
          "model_name": "DescriptionStyleModel",
          "model_module_version": "1.5.0",
          "state": {
            "_model_module": "@jupyter-widgets/controls",
            "_model_module_version": "1.5.0",
            "_model_name": "DescriptionStyleModel",
            "_view_count": null,
            "_view_module": "@jupyter-widgets/base",
            "_view_module_version": "1.2.0",
            "_view_name": "StyleView",
            "description_width": ""
          }
        },
        "7338ec9512eb4c658f1cd48f712b3226": {
          "model_module": "@jupyter-widgets/controls",
          "model_name": "HBoxModel",
          "model_module_version": "1.5.0",
          "state": {
            "_dom_classes": [],
            "_model_module": "@jupyter-widgets/controls",
            "_model_module_version": "1.5.0",
            "_model_name": "HBoxModel",
            "_view_count": null,
            "_view_module": "@jupyter-widgets/controls",
            "_view_module_version": "1.5.0",
            "_view_name": "HBoxView",
            "box_style": "",
            "children": [
              "IPY_MODEL_0f565849bed34eef99367c5041c7acb9",
              "IPY_MODEL_8ba67522d57140c7b2a5b0a8ed20e83a",
              "IPY_MODEL_3b497827a2974c7a9819e8f429f1948e"
            ],
            "layout": "IPY_MODEL_6f90e28a15a5492db9b405b14bd12b4b"
          }
        },
        "0f565849bed34eef99367c5041c7acb9": {
          "model_module": "@jupyter-widgets/controls",
          "model_name": "HTMLModel",
          "model_module_version": "1.5.0",
          "state": {
            "_dom_classes": [],
            "_model_module": "@jupyter-widgets/controls",
            "_model_module_version": "1.5.0",
            "_model_name": "HTMLModel",
            "_view_count": null,
            "_view_module": "@jupyter-widgets/controls",
            "_view_module_version": "1.5.0",
            "_view_name": "HTMLView",
            "description": "",
            "description_tooltip": null,
            "layout": "IPY_MODEL_913f9d95c062418f90a70986ee4e0708",
            "placeholder": "​",
            "style": "IPY_MODEL_d8b1ecf512ba47a6804609cf9f13735f",
            "value": "vocab.txt: 100%"
          }
        },
        "8ba67522d57140c7b2a5b0a8ed20e83a": {
          "model_module": "@jupyter-widgets/controls",
          "model_name": "FloatProgressModel",
          "model_module_version": "1.5.0",
          "state": {
            "_dom_classes": [],
            "_model_module": "@jupyter-widgets/controls",
            "_model_module_version": "1.5.0",
            "_model_name": "FloatProgressModel",
            "_view_count": null,
            "_view_module": "@jupyter-widgets/controls",
            "_view_module_version": "1.5.0",
            "_view_name": "ProgressView",
            "bar_style": "success",
            "description": "",
            "description_tooltip": null,
            "layout": "IPY_MODEL_7a2b4ad1634540b39d523c1fe3674652",
            "max": 212157,
            "min": 0,
            "orientation": "horizontal",
            "style": "IPY_MODEL_9c096bc7e5a248e69201ef09235ddd5c",
            "value": 212157
          }
        },
        "3b497827a2974c7a9819e8f429f1948e": {
          "model_module": "@jupyter-widgets/controls",
          "model_name": "HTMLModel",
          "model_module_version": "1.5.0",
          "state": {
            "_dom_classes": [],
            "_model_module": "@jupyter-widgets/controls",
            "_model_module_version": "1.5.0",
            "_model_name": "HTMLModel",
            "_view_count": null,
            "_view_module": "@jupyter-widgets/controls",
            "_view_module_version": "1.5.0",
            "_view_name": "HTMLView",
            "description": "",
            "description_tooltip": null,
            "layout": "IPY_MODEL_45bbce1e926045efa56983de9d2053f0",
            "placeholder": "​",
            "style": "IPY_MODEL_db9745bc2aa94e0c839ebbed9a5408be",
            "value": " 212k/212k [00:00&lt;00:00, 5.81MB/s]"
          }
        },
        "6f90e28a15a5492db9b405b14bd12b4b": {
          "model_module": "@jupyter-widgets/base",
          "model_name": "LayoutModel",
          "model_module_version": "1.2.0",
          "state": {
            "_model_module": "@jupyter-widgets/base",
            "_model_module_version": "1.2.0",
            "_model_name": "LayoutModel",
            "_view_count": null,
            "_view_module": "@jupyter-widgets/base",
            "_view_module_version": "1.2.0",
            "_view_name": "LayoutView",
            "align_content": null,
            "align_items": null,
            "align_self": null,
            "border": null,
            "bottom": null,
            "display": null,
            "flex": null,
            "flex_flow": null,
            "grid_area": null,
            "grid_auto_columns": null,
            "grid_auto_flow": null,
            "grid_auto_rows": null,
            "grid_column": null,
            "grid_gap": null,
            "grid_row": null,
            "grid_template_areas": null,
            "grid_template_columns": null,
            "grid_template_rows": null,
            "height": null,
            "justify_content": null,
            "justify_items": null,
            "left": null,
            "margin": null,
            "max_height": null,
            "max_width": null,
            "min_height": null,
            "min_width": null,
            "object_fit": null,
            "object_position": null,
            "order": null,
            "overflow": null,
            "overflow_x": null,
            "overflow_y": null,
            "padding": null,
            "right": null,
            "top": null,
            "visibility": null,
            "width": null
          }
        },
        "913f9d95c062418f90a70986ee4e0708": {
          "model_module": "@jupyter-widgets/base",
          "model_name": "LayoutModel",
          "model_module_version": "1.2.0",
          "state": {
            "_model_module": "@jupyter-widgets/base",
            "_model_module_version": "1.2.0",
            "_model_name": "LayoutModel",
            "_view_count": null,
            "_view_module": "@jupyter-widgets/base",
            "_view_module_version": "1.2.0",
            "_view_name": "LayoutView",
            "align_content": null,
            "align_items": null,
            "align_self": null,
            "border": null,
            "bottom": null,
            "display": null,
            "flex": null,
            "flex_flow": null,
            "grid_area": null,
            "grid_auto_columns": null,
            "grid_auto_flow": null,
            "grid_auto_rows": null,
            "grid_column": null,
            "grid_gap": null,
            "grid_row": null,
            "grid_template_areas": null,
            "grid_template_columns": null,
            "grid_template_rows": null,
            "height": null,
            "justify_content": null,
            "justify_items": null,
            "left": null,
            "margin": null,
            "max_height": null,
            "max_width": null,
            "min_height": null,
            "min_width": null,
            "object_fit": null,
            "object_position": null,
            "order": null,
            "overflow": null,
            "overflow_x": null,
            "overflow_y": null,
            "padding": null,
            "right": null,
            "top": null,
            "visibility": null,
            "width": null
          }
        },
        "d8b1ecf512ba47a6804609cf9f13735f": {
          "model_module": "@jupyter-widgets/controls",
          "model_name": "DescriptionStyleModel",
          "model_module_version": "1.5.0",
          "state": {
            "_model_module": "@jupyter-widgets/controls",
            "_model_module_version": "1.5.0",
            "_model_name": "DescriptionStyleModel",
            "_view_count": null,
            "_view_module": "@jupyter-widgets/base",
            "_view_module_version": "1.2.0",
            "_view_name": "StyleView",
            "description_width": ""
          }
        },
        "7a2b4ad1634540b39d523c1fe3674652": {
          "model_module": "@jupyter-widgets/base",
          "model_name": "LayoutModel",
          "model_module_version": "1.2.0",
          "state": {
            "_model_module": "@jupyter-widgets/base",
            "_model_module_version": "1.2.0",
            "_model_name": "LayoutModel",
            "_view_count": null,
            "_view_module": "@jupyter-widgets/base",
            "_view_module_version": "1.2.0",
            "_view_name": "LayoutView",
            "align_content": null,
            "align_items": null,
            "align_self": null,
            "border": null,
            "bottom": null,
            "display": null,
            "flex": null,
            "flex_flow": null,
            "grid_area": null,
            "grid_auto_columns": null,
            "grid_auto_flow": null,
            "grid_auto_rows": null,
            "grid_column": null,
            "grid_gap": null,
            "grid_row": null,
            "grid_template_areas": null,
            "grid_template_columns": null,
            "grid_template_rows": null,
            "height": null,
            "justify_content": null,
            "justify_items": null,
            "left": null,
            "margin": null,
            "max_height": null,
            "max_width": null,
            "min_height": null,
            "min_width": null,
            "object_fit": null,
            "object_position": null,
            "order": null,
            "overflow": null,
            "overflow_x": null,
            "overflow_y": null,
            "padding": null,
            "right": null,
            "top": null,
            "visibility": null,
            "width": null
          }
        },
        "9c096bc7e5a248e69201ef09235ddd5c": {
          "model_module": "@jupyter-widgets/controls",
          "model_name": "ProgressStyleModel",
          "model_module_version": "1.5.0",
          "state": {
            "_model_module": "@jupyter-widgets/controls",
            "_model_module_version": "1.5.0",
            "_model_name": "ProgressStyleModel",
            "_view_count": null,
            "_view_module": "@jupyter-widgets/base",
            "_view_module_version": "1.2.0",
            "_view_name": "StyleView",
            "bar_color": null,
            "description_width": ""
          }
        },
        "45bbce1e926045efa56983de9d2053f0": {
          "model_module": "@jupyter-widgets/base",
          "model_name": "LayoutModel",
          "model_module_version": "1.2.0",
          "state": {
            "_model_module": "@jupyter-widgets/base",
            "_model_module_version": "1.2.0",
            "_model_name": "LayoutModel",
            "_view_count": null,
            "_view_module": "@jupyter-widgets/base",
            "_view_module_version": "1.2.0",
            "_view_name": "LayoutView",
            "align_content": null,
            "align_items": null,
            "align_self": null,
            "border": null,
            "bottom": null,
            "display": null,
            "flex": null,
            "flex_flow": null,
            "grid_area": null,
            "grid_auto_columns": null,
            "grid_auto_flow": null,
            "grid_auto_rows": null,
            "grid_column": null,
            "grid_gap": null,
            "grid_row": null,
            "grid_template_areas": null,
            "grid_template_columns": null,
            "grid_template_rows": null,
            "height": null,
            "justify_content": null,
            "justify_items": null,
            "left": null,
            "margin": null,
            "max_height": null,
            "max_width": null,
            "min_height": null,
            "min_width": null,
            "object_fit": null,
            "object_position": null,
            "order": null,
            "overflow": null,
            "overflow_x": null,
            "overflow_y": null,
            "padding": null,
            "right": null,
            "top": null,
            "visibility": null,
            "width": null
          }
        },
        "db9745bc2aa94e0c839ebbed9a5408be": {
          "model_module": "@jupyter-widgets/controls",
          "model_name": "DescriptionStyleModel",
          "model_module_version": "1.5.0",
          "state": {
            "_model_module": "@jupyter-widgets/controls",
            "_model_module_version": "1.5.0",
            "_model_name": "DescriptionStyleModel",
            "_view_count": null,
            "_view_module": "@jupyter-widgets/base",
            "_view_module_version": "1.2.0",
            "_view_name": "StyleView",
            "description_width": ""
          }
        }
      }
    }
  },
  "nbformat": 4,
  "nbformat_minor": 0
}