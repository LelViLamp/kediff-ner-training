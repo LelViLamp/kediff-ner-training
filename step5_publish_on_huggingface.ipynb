{
 "cells": [
  {
   "cell_type": "code",
   "outputs": [],
   "source": [
    "!pip install huggingface huggingface-cli huggingface_hub torch torchvision torchaudio transformers"
   ],
   "metadata": {
    "collapsed": true
   },
   "id": "initial_id",
   "execution_count": null
  },
  {
   "cell_type": "code",
   "outputs": [],
   "source": [
    "import os\n",
    "\n",
    "from tqdm import tqdm\n",
    "from transformers import AutoTokenizer, pipeline, AutoModelForTokenClassification"
   ],
   "metadata": {
    "collapsed": false
   },
   "id": "46bf6868db74093d",
   "execution_count": null
  },
  {
   "cell_type": "code",
   "outputs": [],
   "source": [
    "# !huggingface-cli login # do this in the terminal"
   ],
   "metadata": {
    "collapsed": false
   },
   "id": "b0badea1ae50d594",
   "execution_count": null
  },
  {
   "cell_type": "code",
   "outputs": [],
   "source": [
    "try:\n",
    "    from google.colab import drive\n",
    "\n",
    "    print(\n",
    "        \"You work on Colab. Gentle as we are, we will mount Drive for you. \"\n",
    "        \"It'd help if you allowed this in the popup that opens.\"\n",
    "    )\n",
    "    drive.mount('/content/drive')\n",
    "    DATA_DIR = os.path.join('drive', 'MyDrive', 'KEDiff', 'data')\n",
    "except ModuleNotFoundError:\n",
    "    print(\"You do not work on Colab\")\n",
    "    DATA_DIR = os.path.join('data')\n",
    "print(f\"{DATA_DIR=}\", '-->', os.path.abspath(DATA_DIR))"
   ],
   "metadata": {
    "collapsed": false
   },
   "id": "a974200f4ab9bdd3",
   "execution_count": null
  },
  {
   "cell_type": "code",
   "outputs": [],
   "source": [
    "TOKENISER_CHECKPOINT = \"dbmdz/bert-base-historic-multilingual-cased\"\n",
    "CHECKPOINT_NAME_BASE = \"oalz-1788-q1-ner-\"\n",
    "TRAINED_DIR = os.path.join(DATA_DIR, 'trained_models', '2024-01-15')"
   ],
   "metadata": {
    "collapsed": false
   },
   "id": "5ef9ad66d875e373",
   "execution_count": null
  },
  {
   "cell_type": "code",
   "outputs": [],
   "source": [
    "tokeniser = AutoTokenizer.from_pretrained(TOKENISER_CHECKPOINT)"
   ],
   "metadata": {
    "collapsed": false
   },
   "id": "ba4462c21f5d99a3",
   "execution_count": null
  },
  {
   "cell_type": "code",
   "outputs": [],
   "source": [
    "label_types = [\"EVENT\", \"LOC\", \"MISC\", \"ORG\", \"PER\", \"TIME\"]\n",
    "selected_epochs = {\n",
    "    \"EVENT\" : \"checkpoint-1393\",\n",
    "    \"LOC\" : \"checkpoint-1393\",\n",
    "    \"MISC\" : \"checkpoint-2786\",\n",
    "    \"ORG\" : \"checkpoint-1393\",\n",
    "    \"PER\" : \"checkpoint-2786\",\n",
    "    \"TIME\" : \"checkpoint-1393\"\n",
    "}\n",
    "ner_model_paths = {\n",
    "    label_type: os.path.join(TRAINED_DIR,\n",
    "                             \"\".join([CHECKPOINT_NAME_BASE, label_type]),\n",
    "                             selected_epochs[label_type])\n",
    "    for label_type in label_types\n",
    "}\n",
    "ner_model_paths"
   ],
   "metadata": {
    "collapsed": false
   },
   "id": "70c78db4e8ba8e40",
   "execution_count": null
  },
  {
   "cell_type": "code",
   "outputs": [],
   "source": [
    "token_classifiers = {}\n",
    "for label_type in tqdm(label_types):\n",
    "    token_classifiers[label_type] = pipeline(\n",
    "        \"token-classification\",\n",
    "        model=os.path.abspath(ner_model_paths[label_type]),\n",
    "        aggregation_strategy=\"simple\"\n",
    "    )\n",
    "list(token_classifiers.keys())"
   ],
   "metadata": {
    "collapsed": false
   },
   "id": "55b1f7d68a37a20f",
   "execution_count": null
  },
  {
   "cell_type": "code",
   "outputs": [],
   "source": [
    "person_pipeline = token_classifiers[\"PER\"]"
   ],
   "metadata": {
    "collapsed": false
   },
   "id": "a444f8d953950e23",
   "execution_count": null
  },
  {
   "cell_type": "code",
   "outputs": [],
   "source": [
    "person_tokeniser = person_pipeline.tokenizer\n",
    "person_model = person_pipeline.model"
   ],
   "metadata": {
    "collapsed": false
   },
   "id": "56401c8c5e4d5bc6",
   "execution_count": null
  },
  {
   "cell_type": "code",
   "outputs": [],
   "source": [
    "# person_tokeniser.push_to_hub(repo_id=\"OALZ-1788-Q1-NER-PER\")"
   ],
   "metadata": {
    "collapsed": false
   },
   "id": "ae2ddfaf22aa4b31",
   "execution_count": null
  },
  {
   "cell_type": "code",
   "outputs": [],
   "source": [
    "person_model.push_to_hub(repo_id=\"OALZ-1788-Q1-NER-PER\")"
   ],
   "metadata": {
    "collapsed": false
   },
   "id": "6c0df532b5fb4e05",
   "execution_count": null
  },
  {
   "cell_type": "code",
   "outputs": [],
   "source": [
    "sample_text = \"Dieses Modell soll nur eine der folgenden Kategorien erkennen: Personen-, Orts-, Organisations-, Ereignis-, Artefaktnamen oder Datumsangaben. Daher sprechen wir nun über Wilhelm Thell, der am 1. Jänner 1788, also noch vor der französischen Revolution und vor Vorstellung des ersten iPhones durch Apple im Jahre 2008, in Salzburg geboren wurde. Er studierte Pharmakologie an der Medizinischen Universität Wien.\""
   ],
   "metadata": {
    "collapsed": false
   },
   "id": "6b10a272601e583e",
   "execution_count": null
  },
  {
   "cell_type": "code",
   "outputs": [],
   "source": [
    "model_hf = AutoModelForTokenClassification.from_pretrained(\"LelViLamp/OALZ-1788-Q1-NER-PER\")"
   ],
   "metadata": {
    "collapsed": false
   },
   "id": "cf5bb6be0785698f",
   "execution_count": null
  },
  {
   "cell_type": "code",
   "outputs": [],
   "source": [
    "pipeline(\"ner\", model=model_hf, tokenizer=person_tokeniser)(sample_text)"
   ],
   "metadata": {
    "collapsed": false
   },
   "id": "38dbccd3dce08619",
   "execution_count": null
  },
  {
   "cell_type": "code",
   "outputs": [],
   "source": [],
   "metadata": {
    "collapsed": false
   },
   "id": "90f139118a62ee0c"
  }
 ],
 "metadata": {
  "kernelspec": {
   "display_name": "Python 3",
   "language": "python",
   "name": "python3"
  },
  "language_info": {
   "codemirror_mode": {
    "name": "ipython",
    "version": 2
   },
   "file_extension": ".py",
   "mimetype": "text/x-python",
   "name": "python",
   "nbconvert_exporter": "python",
   "pygments_lexer": "ipython2",
   "version": "2.7.6"
  }
 },
 "nbformat": 4,
 "nbformat_minor": 5
}
