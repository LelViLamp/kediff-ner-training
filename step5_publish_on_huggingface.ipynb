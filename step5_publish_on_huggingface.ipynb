{
 "cells": [
  {
   "cell_type": "code",
   "outputs": [
    {
     "name": "stdout",
     "output_type": "stream",
     "text": [
      "Requirement already satisfied: huggingface in /Users/daniel/miniconda3/envs/kediff-ner-training/lib/python3.11/site-packages (0.0.1)\r\n",
      "Requirement already satisfied: huggingface-cli in /Users/daniel/miniconda3/envs/kediff-ner-training/lib/python3.11/site-packages (0.1)\r\n",
      "Requirement already satisfied: huggingface_hub in /Users/daniel/miniconda3/envs/kediff-ner-training/lib/python3.11/site-packages (0.20.3)\r\n",
      "Requirement already satisfied: torch in /Users/daniel/miniconda3/envs/kediff-ner-training/lib/python3.11/site-packages (2.3.0)\r\n",
      "Requirement already satisfied: torchvision in /Users/daniel/miniconda3/envs/kediff-ner-training/lib/python3.11/site-packages (0.18.0)\r\n",
      "Requirement already satisfied: torchaudio in /Users/daniel/miniconda3/envs/kediff-ner-training/lib/python3.11/site-packages (2.3.0)\r\n",
      "Requirement already satisfied: transformers in /Users/daniel/miniconda3/envs/kediff-ner-training/lib/python3.11/site-packages (4.37.2)\r\n",
      "Requirement already satisfied: filelock in /Users/daniel/miniconda3/envs/kediff-ner-training/lib/python3.11/site-packages (from huggingface_hub) (3.13.1)\r\n",
      "Requirement already satisfied: fsspec>=2023.5.0 in /Users/daniel/miniconda3/envs/kediff-ner-training/lib/python3.11/site-packages (from huggingface_hub) (2023.10.0)\r\n",
      "Requirement already satisfied: requests in /Users/daniel/miniconda3/envs/kediff-ner-training/lib/python3.11/site-packages (from huggingface_hub) (2.31.0)\r\n",
      "Requirement already satisfied: tqdm>=4.42.1 in /Users/daniel/miniconda3/envs/kediff-ner-training/lib/python3.11/site-packages (from huggingface_hub) (4.65.0)\r\n",
      "Requirement already satisfied: pyyaml>=5.1 in /Users/daniel/miniconda3/envs/kediff-ner-training/lib/python3.11/site-packages (from huggingface_hub) (6.0.1)\r\n",
      "Requirement already satisfied: typing-extensions>=3.7.4.3 in /Users/daniel/miniconda3/envs/kediff-ner-training/lib/python3.11/site-packages (from huggingface_hub) (4.9.0)\r\n",
      "Requirement already satisfied: packaging>=20.9 in /Users/daniel/miniconda3/envs/kediff-ner-training/lib/python3.11/site-packages (from huggingface_hub) (23.2)\r\n",
      "Requirement already satisfied: sympy in /Users/daniel/miniconda3/envs/kediff-ner-training/lib/python3.11/site-packages (from torch) (1.12)\r\n",
      "Requirement already satisfied: networkx in /Users/daniel/miniconda3/envs/kediff-ner-training/lib/python3.11/site-packages (from torch) (3.3)\r\n",
      "Requirement already satisfied: jinja2 in /Users/daniel/miniconda3/envs/kediff-ner-training/lib/python3.11/site-packages (from torch) (3.1.3)\r\n",
      "Requirement already satisfied: numpy in /Users/daniel/miniconda3/envs/kediff-ner-training/lib/python3.11/site-packages (from torchvision) (1.26.4)\r\n",
      "Requirement already satisfied: pillow!=8.3.*,>=5.3.0 in /Users/daniel/miniconda3/envs/kediff-ner-training/lib/python3.11/site-packages (from torchvision) (10.3.0)\r\n",
      "Requirement already satisfied: regex!=2019.12.17 in /Users/daniel/miniconda3/envs/kediff-ner-training/lib/python3.11/site-packages (from transformers) (2023.10.3)\r\n",
      "Requirement already satisfied: tokenizers<0.19,>=0.14 in /Users/daniel/miniconda3/envs/kediff-ner-training/lib/python3.11/site-packages (from transformers) (0.15.1)\r\n",
      "Requirement already satisfied: safetensors>=0.4.1 in /Users/daniel/miniconda3/envs/kediff-ner-training/lib/python3.11/site-packages (from transformers) (0.4.2)\r\n",
      "Requirement already satisfied: MarkupSafe>=2.0 in /Users/daniel/miniconda3/envs/kediff-ner-training/lib/python3.11/site-packages (from jinja2->torch) (2.1.3)\r\n",
      "Requirement already satisfied: charset-normalizer<4,>=2 in /Users/daniel/miniconda3/envs/kediff-ner-training/lib/python3.11/site-packages (from requests->huggingface_hub) (2.0.4)\r\n",
      "Requirement already satisfied: idna<4,>=2.5 in /Users/daniel/miniconda3/envs/kediff-ner-training/lib/python3.11/site-packages (from requests->huggingface_hub) (3.4)\r\n",
      "Requirement already satisfied: urllib3<3,>=1.21.1 in /Users/daniel/miniconda3/envs/kediff-ner-training/lib/python3.11/site-packages (from requests->huggingface_hub) (2.1.0)\r\n",
      "Requirement already satisfied: certifi>=2017.4.17 in /Users/daniel/miniconda3/envs/kediff-ner-training/lib/python3.11/site-packages (from requests->huggingface_hub) (2024.2.2)\r\n",
      "Requirement already satisfied: mpmath>=0.19 in /Users/daniel/miniconda3/envs/kediff-ner-training/lib/python3.11/site-packages (from sympy->torch) (1.3.0)\r\n"
     ]
    }
   ],
   "source": [
    "!pip install huggingface huggingface-cli huggingface_hub torch torchvision torchaudio transformers"
   ],
   "metadata": {
    "collapsed": true,
    "ExecuteTime": {
     "end_time": "2024-04-27T14:11:36.589828Z",
     "start_time": "2024-04-27T14:11:35.585595Z"
    }
   },
   "id": "initial_id",
   "execution_count": 1
  },
  {
   "cell_type": "code",
   "outputs": [],
   "source": [
    "import os\n",
    "\n",
    "from tqdm import tqdm\n",
    "from transformers import AutoTokenizer, pipeline, AutoModelForTokenClassification, Pipeline"
   ],
   "metadata": {
    "collapsed": false,
    "ExecuteTime": {
     "end_time": "2024-04-27T14:11:41.057952Z",
     "start_time": "2024-04-27T14:11:39.911010Z"
    }
   },
   "id": "46bf6868db74093d",
   "execution_count": 2
  },
  {
   "cell_type": "code",
   "outputs": [],
   "source": [
    "# !huggingface-cli login # do this in the terminal"
   ],
   "metadata": {
    "collapsed": false,
    "ExecuteTime": {
     "end_time": "2024-04-27T14:11:43.577072Z",
     "start_time": "2024-04-27T14:11:43.574866Z"
    }
   },
   "id": "b0badea1ae50d594",
   "execution_count": 3
  },
  {
   "cell_type": "code",
   "outputs": [
    {
     "name": "stdout",
     "output_type": "stream",
     "text": [
      "You do not work on Colab\n",
      "DATA_DIR='data' --> /Users/daniel/source/repos/lelvilamp/kediff-ner-training/data\n"
     ]
    }
   ],
   "source": [
    "try:\n",
    "    from google.colab import drive\n",
    "\n",
    "    print(\n",
    "        \"You work on Colab. Gentle as we are, we will mount Drive for you. \"\n",
    "        \"It'd help if you allowed this in the popup that opens.\"\n",
    "    )\n",
    "    drive.mount('/content/drive')\n",
    "    DATA_DIR = os.path.join('drive', 'MyDrive', 'KEDiff', 'data')\n",
    "except ModuleNotFoundError:\n",
    "    print(\"You do not work on Colab\")\n",
    "    DATA_DIR = os.path.join('data')\n",
    "print(f\"{DATA_DIR=}\", '-->', os.path.abspath(DATA_DIR))"
   ],
   "metadata": {
    "collapsed": false,
    "ExecuteTime": {
     "end_time": "2024-04-27T14:11:44.470393Z",
     "start_time": "2024-04-27T14:11:44.466488Z"
    }
   },
   "id": "a974200f4ab9bdd3",
   "execution_count": 4
  },
  {
   "cell_type": "code",
   "outputs": [],
   "source": [
    "TOKENISER_CHECKPOINT = \"dbmdz/bert-base-historic-multilingual-cased\"\n",
    "CHECKPOINT_NAME_BASE = \"oalz-1788-q1-ner-\"\n",
    "TRAINED_DIR = os.path.join(DATA_DIR, 'trained_models', '2024-01-15')"
   ],
   "metadata": {
    "collapsed": false,
    "ExecuteTime": {
     "end_time": "2024-04-27T14:11:47.410486Z",
     "start_time": "2024-04-27T14:11:47.407534Z"
    }
   },
   "id": "5ef9ad66d875e373",
   "execution_count": 5
  },
  {
   "cell_type": "code",
   "outputs": [],
   "source": [
    "tokeniser = AutoTokenizer.from_pretrained(TOKENISER_CHECKPOINT)"
   ],
   "metadata": {
    "collapsed": false,
    "ExecuteTime": {
     "end_time": "2024-04-27T14:11:48.901338Z",
     "start_time": "2024-04-27T14:11:48.637834Z"
    }
   },
   "id": "ba4462c21f5d99a3",
   "execution_count": 6
  },
  {
   "cell_type": "code",
   "outputs": [
    {
     "data": {
      "text/plain": "{'EVENT': 'data/trained_models/2024-01-15/oalz-1788-q1-ner-EVENT/checkpoint-1393',\n 'LOC': 'data/trained_models/2024-01-15/oalz-1788-q1-ner-LOC/checkpoint-1393',\n 'MISC': 'data/trained_models/2024-01-15/oalz-1788-q1-ner-MISC/checkpoint-2786',\n 'ORG': 'data/trained_models/2024-01-15/oalz-1788-q1-ner-ORG/checkpoint-1393',\n 'PER': 'data/trained_models/2024-01-15/oalz-1788-q1-ner-PER/checkpoint-2786',\n 'TIME': 'data/trained_models/2024-01-15/oalz-1788-q1-ner-TIME/checkpoint-1393'}"
     },
     "execution_count": 7,
     "metadata": {},
     "output_type": "execute_result"
    }
   ],
   "source": [
    "label_types = [\"EVENT\", \"LOC\", \"MISC\", \"ORG\", \"PER\", \"TIME\"]\n",
    "selected_epochs = {\n",
    "    \"EVENT\": \"checkpoint-1393\",\n",
    "    \"LOC\": \"checkpoint-1393\",\n",
    "    \"MISC\": \"checkpoint-2786\",\n",
    "    \"ORG\": \"checkpoint-1393\",\n",
    "    \"PER\": \"checkpoint-2786\",\n",
    "    \"TIME\": \"checkpoint-1393\"\n",
    "}\n",
    "ner_model_paths = {\n",
    "    label_type: os.path.join(TRAINED_DIR,\n",
    "                             \"\".join([CHECKPOINT_NAME_BASE, label_type]),\n",
    "                             selected_epochs[label_type])\n",
    "    for label_type in label_types\n",
    "}\n",
    "ner_model_paths"
   ],
   "metadata": {
    "collapsed": false,
    "ExecuteTime": {
     "end_time": "2024-04-27T14:11:50.051185Z",
     "start_time": "2024-04-27T14:11:50.044953Z"
    }
   },
   "id": "70c78db4e8ba8e40",
   "execution_count": 7
  },
  {
   "cell_type": "code",
   "outputs": [
    {
     "name": "stderr",
     "output_type": "stream",
     "text": [
      "100%|██████████| 6/6 [00:02<00:00,  2.37it/s]\n"
     ]
    },
    {
     "data": {
      "text/plain": "['EVENT', 'LOC', 'MISC', 'ORG', 'PER', 'TIME']"
     },
     "execution_count": 8,
     "metadata": {},
     "output_type": "execute_result"
    }
   ],
   "source": [
    "token_classifiers = {}\n",
    "for label_type in tqdm(label_types):\n",
    "    token_classifiers[label_type] = pipeline(\n",
    "        \"token-classification\",\n",
    "        model=os.path.abspath(ner_model_paths[label_type]),\n",
    "        aggregation_strategy=\"simple\"\n",
    "    )\n",
    "list(token_classifiers.keys())"
   ],
   "metadata": {
    "collapsed": false,
    "ExecuteTime": {
     "end_time": "2024-04-27T14:11:55.259546Z",
     "start_time": "2024-04-27T14:11:52.714276Z"
    }
   },
   "id": "55b1f7d68a37a20f",
   "execution_count": 8
  },
  {
   "cell_type": "code",
   "outputs": [
    {
     "name": "stderr",
     "output_type": "stream",
     "text": [
      "  0%|          | 0/6 [00:00<?, ?it/s]"
     ]
    },
    {
     "data": {
      "text/plain": "model.safetensors:   0%|          | 0.00/440M [00:00<?, ?B/s]",
      "application/vnd.jupyter.widget-view+json": {
       "version_major": 2,
       "version_minor": 0,
       "model_id": "e3c5b2fba5eb4a28882c1ca31281b30d"
      }
     },
     "metadata": {},
     "output_type": "display_data"
    },
    {
     "name": "stderr",
     "output_type": "stream",
     "text": [
      " 17%|█▋        | 1/6 [00:51<04:19, 51.98s/it]"
     ]
    },
    {
     "data": {
      "text/plain": "model.safetensors:   0%|          | 0.00/440M [00:00<?, ?B/s]",
      "application/vnd.jupyter.widget-view+json": {
       "version_major": 2,
       "version_minor": 0,
       "model_id": "c00c507d1859456bb220bab8738a2063"
      }
     },
     "metadata": {},
     "output_type": "display_data"
    },
    {
     "name": "stderr",
     "output_type": "stream",
     "text": [
      " 33%|███▎      | 2/6 [01:38<03:15, 48.81s/it]"
     ]
    },
    {
     "data": {
      "text/plain": "model.safetensors:   0%|          | 0.00/440M [00:00<?, ?B/s]",
      "application/vnd.jupyter.widget-view+json": {
       "version_major": 2,
       "version_minor": 0,
       "model_id": "f2f3cf4a785d42e5ac10129c9994d7dc"
      }
     },
     "metadata": {},
     "output_type": "display_data"
    },
    {
     "name": "stderr",
     "output_type": "stream",
     "text": [
      " 50%|█████     | 3/6 [02:32<02:33, 51.30s/it]"
     ]
    },
    {
     "data": {
      "text/plain": "model.safetensors:   0%|          | 0.00/440M [00:00<?, ?B/s]",
      "application/vnd.jupyter.widget-view+json": {
       "version_major": 2,
       "version_minor": 0,
       "model_id": "ab3624fbbfeb4ac39db03857e5866326"
      }
     },
     "metadata": {},
     "output_type": "display_data"
    },
    {
     "name": "stderr",
     "output_type": "stream",
     "text": [
      " 83%|████████▎ | 5/6 [03:27<00:33, 33.87s/it]"
     ]
    },
    {
     "data": {
      "text/plain": "model.safetensors:   0%|          | 0.00/440M [00:00<?, ?B/s]",
      "application/vnd.jupyter.widget-view+json": {
       "version_major": 2,
       "version_minor": 0,
       "model_id": "674776ca6f3c4429b96bf11deb85a5fc"
      }
     },
     "metadata": {},
     "output_type": "display_data"
    },
    {
     "name": "stderr",
     "output_type": "stream",
     "text": [
      "100%|██████████| 6/6 [04:15<00:00, 42.54s/it]\n"
     ]
    }
   ],
   "source": [
    "for label_type in label_types:\n",
    "    pipeline = token_classifiers[label_type]\n",
    "    tokeniser = pipeline.tokenizer\n",
    "    model = pipeline.model\n",
    "    model_name: str = f\"OALZ-1788-Q1-NER-{label_type}\"\n",
    "\n",
    "    # tokeniser.push_to_hub(repo_id=model_name)\n",
    "    model.push_to_hub(repo_id=model_name)"
   ],
   "metadata": {
    "collapsed": false,
    "ExecuteTime": {
     "end_time": "2024-04-27T14:16:35.634111Z",
     "start_time": "2024-04-27T14:12:20.376633Z"
    }
   },
   "id": "545cbc65c985bd0b",
   "execution_count": 9
  },
  {
   "cell_type": "code",
   "outputs": [],
   "source": [
    "sample_text = \"Dieses Modell soll nur eine der folgenden Kategorien erkennen: Personen-, Orts-, Organisations-, Ereignis-, Artefaktnamen oder Datumsangaben. Daher sprechen wir nun über Wilhelm Thell, der am 1. Jänner 1788, also noch vor der französischen Revolution und vor Vorstellung des ersten iPhones durch Apple im Jahre 2008, in Salzburg geboren wurde. Er studierte Pharmakologie an der Medizinischen Universität Wien.\""
   ],
   "metadata": {
    "collapsed": false
   },
   "id": "6b10a272601e583e",
   "execution_count": null
  },
  {
   "cell_type": "code",
   "outputs": [],
   "source": [
    "person_model_hf = AutoModelForTokenClassification.from_pretrained(\"LelViLamp/OALZ-1788-Q1-NER-PER\")\n",
    "person_tokeniser = tokeniser"
   ],
   "metadata": {
    "collapsed": false
   },
   "id": "cf5bb6be0785698f",
   "execution_count": null
  },
  {
   "cell_type": "code",
   "outputs": [],
   "source": [
    "pipeline(\"ner\", model=person_model_hf, tokenizer=person_tokeniser)(sample_text)"
   ],
   "metadata": {
    "collapsed": false
   },
   "id": "38dbccd3dce08619",
   "execution_count": null
  },
  {
   "cell_type": "code",
   "outputs": [],
   "source": [],
   "metadata": {
    "collapsed": false
   },
   "id": "90f139118a62ee0c"
  }
 ],
 "metadata": {
  "kernelspec": {
   "display_name": "Python 3",
   "language": "python",
   "name": "python3"
  },
  "language_info": {
   "codemirror_mode": {
    "name": "ipython",
    "version": 2
   },
   "file_extension": ".py",
   "mimetype": "text/x-python",
   "name": "python",
   "nbconvert_exporter": "python",
   "pygments_lexer": "ipython2",
   "version": "2.7.6"
  }
 },
 "nbformat": 4,
 "nbformat_minor": 5
}
